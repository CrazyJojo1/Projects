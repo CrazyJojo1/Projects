{
 "cells": [
  {
   "cell_type": "markdown",
   "id": "00a0aae8",
   "metadata": {},
   "source": [
    "Let's say we have a list that contains 10 elements.\n",
    "```python\n",
    "   indexation-               0    1    2    3     4   5    6    7    8    9\n",
    "   list elements-          ['A', 'B', 'C', 'D', 'E', 'F', 'G', 'H', 'I', 'J']\n",
    "```\n",
    "**What is slicing?** <br>\n",
    "Slicing means to take a subset out of your list. The concept of slicing starts with colon operator (:) <br>\n",
    "The slicing basically means taking a subset out of a existing list. <br>\n",
    "**So, what is subsetting in R is slicing in python.** <br>\n",
    "\n",
    "**Syntax for slicing**\n",
    "```python\n",
    "start : stop\n",
    "#start and stop are indexation used for the elements of list. e.g. 'A' is at 0th location and so on..\n",
    "#note the stop element will not be included.\n",
    "``` \n",
    "What is the colon all about? <br>\n",
    "Colon operator ```:``` has three parts : <br>\n",
    "- colon itself\n",
    "- left hand side of colon and right hand side of colon\n",
    "\n",
    "Note: <br>\n",
    "- if you put colon by itself, then it assumes everything. That means your entire list is selected\n",
    "```python\n",
    "mylist1 = ['A','B','C','D','E','F','G','H','I','J']\n",
    "#Let's use just colon to see what happens\n",
    "mylist1[:] = ['A','B','C','D','E','F','G','H','I','J']  #you get the entire list.\n",
    "#Now, what if you just specify the stop \n",
    "mylist1[:3] = ['A','B','C'] #you get everything before the stop element excluding the stop element.\n",
    "#Now, what if you just specify the start\n",
    "mylist[7:] = ['H', 'I', 'J'] #you get start element and all elements after that.\n",
    "```        \n",
    "\n",
    "- if you put a number on the left and right of the colon. e.g.\n",
    "```python\n",
    "  2 : 7\n",
    "``` \n",
    "This means you are selecting from the third element of the list ('C') till the 7th element of the list ('G')... the 8th element will not be part of the list. <br>\n",
    "```python\n",
    "#Let's create a list and name it mylist1\n",
    "mylist1 = ['A','B','C','D','E','F','G','H','I','J']\n",
    "#Let's slice the list and put it in mylist2\n",
    "mylist2 = mylist1[2:7]\n",
    "#the sliced list:\n",
    "mylist2 = ['C', 'D', 'E', 'F', 'G']\n",
    "```\n",
    "Since ordering of elements in python starts from 0, the 2 will be the third element-```start``` and 7 would be the 8th element-```stop```. <br>\n",
    "Just like range function ```range(start, stop, step)``` , stop will be excluded from the subsetted list. <br>\n",
    "\n",
    "**Using negative indexation for slicing**  <br>\n",
    "```python\n",
    "positive indexation-               0    1    2    3     4   5    6    7    8    9\n",
    "list elements-                   ['A', 'B', 'C', 'D', 'E', 'F', 'G', 'H', 'I', 'J']\n",
    "negative indexation               -10   -9  -8   -7    -6   -5   -4   -3   -2   -1\n",
    "```\n",
    "Note:- This is different from R. Minus indexation in R means exclucding that vector element. But **in python, negative indexation means starting indexation from reverse** <br>\n",
    "so, -8 = 2  and -3 = 7 <br>\n",
    "```python\n",
    "mylist1[2:7] = ['C', 'D', 'E', 'F', 'G']\n",
    "#now using negative indexation\n",
    "mylist1[2:-3] =  ['C', 'D', 'E', 'F', 'G']\n",
    "#note: I am just replacing 7 with -3\n",
    "mylist1[-8:7] = ['C', 'D', 'E', 'F', 'G']\n",
    "#note: just replacing 2 with -8\n",
    "mylist1[-8:-3] = ['C', 'D', 'E', 'F', 'G']\n",
    "```\n",
    "As you see, we are getting the same result. So,<u> it really makes no difference whether you use negative or postive indexation.</u> <br> \n",
    "But if you use negative indexation for the step element of slicing then it will reverse the order of elements. Covered later down.\n",
    "\n",
    "**Advanced slicing**\n",
    "Using ```: : ``` in a row. <br>\n",
    "<u>syntax:</u> \n",
    "```python\n",
    "start : stop : step\n",
    "#very similar to range(start, stop , step) function.\n",
    "```\n",
    "Let's do little bit of practice to see how it works\n",
    "```python\n",
    "#By default, step = 1\n",
    "mylist1[2:7:1] = ['C', 'D', 'E', 'F', 'G']\n",
    "#using step = 2, means using every second element of your list\n",
    "mylist1[2:7:2] = ['C', 'E', 'G']\n",
    "#step = 3\n",
    "mylist1[2:7:3] = ['C', 'F']\n",
    "#using just step\n",
    "mylist1 = ['A','B','C','D','E','F','G','H','I','J']\n",
    "mylist1[::3] = ['A', 'D', 'G', 'J']\n",
    "```\n",
    "What if you use a negative step\n",
    "```python\n",
    "mylist1 = ['A', 'B', 'C', 'D', 'E', 'F', 'G', 'H', 'I', 'J']\n",
    "#------------------------------------\n",
    "#Using positive step\n",
    "mylist1[::1] = ['A', 'B', 'C', 'D', 'E', 'F', 'G', 'H', 'I', 'J'] #same as original list as by default step =1 \n",
    "#Using negative step\n",
    "mylist[::-1] = ['J', 'I', 'H', 'G', 'F', 'E', 'D', 'C', 'B', 'A'] #reverses the order of your list.\n",
    "```\n",
    "You won't be using the negative step in your code. But it is still good to know. \n",
    "\n",
    "**Note-**\n",
    "- When you are using negative step **without** start and stop, it does reversing order\n",
    "```python\n",
    "#positive step:\n",
    "mylist1[::3] = ['A', 'D', 'G', 'J']\n",
    "#negative step:\n",
    "mylist1[::-3] = ['J', 'G', 'D', 'A'] #result is same, but the order is reverse.\n",
    "```\n",
    "- When you are using negative step **with** start and stop, it is jumping backwards. Let's see what that means\n",
    "```python\n",
    "#I am creating a new list\n",
    "letters = [\"A\", \"B\", \"C\", \"D\", \"E\", \"F\", \"G\", \"H\", \"I\", \"J\", \"K\", \"L\"]\n",
    "letters\n",
    "#let's apply slicing\n",
    "letters[2:7] = [\"C\", \"D\", \"E\", \"F\", \"G\"]\n",
    "#What do you see?\n",
    "#We are going forward and here, by default, step is positive 1\n",
    "letters[2:7:1] = [\"C\", \"D\", \"E\", \"F\", \"G\"]\n",
    "#------------------------------------\n",
    "#Now Instead of having a positive step, we wish to use a negative step of -1\n",
    "letters[2:7:-1] = [] \n",
    "#What is [] ?\n",
    "#it is an empty subset.\n",
    "#why?\n",
    "#Because, unlike before, now we are jumping backwards. We are jumping before 2nd element and we are getting nothing as it is not part of our subset.\n",
    "#Ok... understood. But then how to use negative jump with start and stop\n",
    "letters[7:2] = []\n",
    "#This gives us an empty list. as your stop element is 2nd and start element is 7th. \n",
    "#It looks like you are moving backward.\n",
    "#Backward\n",
    "#negative step\n",
    "letters[7:2:-1] = ['H', 'G', 'F', 'E', 'D']\n",
    "#ah..huh, we get the list but as expected it is moving backward. \n",
    "letters[7:2:-2] = ['H', 'F', 'D']\n",
    "letters[7:2:-3] = ['H','E']\n",
    "```\n",
    "So the takeaway from this is: When you want to move backward with your ```Start > Stop```, then use negative step."
   ]
  },
  {
   "cell_type": "code",
   "execution_count": 2,
   "id": "d43a8bf4",
   "metadata": {},
   "outputs": [
    {
     "data": {
      "text/plain": [
       "['A', 'B', 'C', 'D', 'E', 'F', 'G', 'H', 'I', 'J']"
      ]
     },
     "execution_count": 2,
     "metadata": {},
     "output_type": "execute_result"
    }
   ],
   "source": [
    "w = ['A','B','C','D','E','F','G','H','I','J']\n",
    "w"
   ]
  },
  {
   "cell_type": "code",
   "execution_count": 5,
   "id": "44ec24f1",
   "metadata": {},
   "outputs": [
    {
     "data": {
      "text/plain": [
       "['C', 'D', 'E', 'F', 'G']"
      ]
     },
     "execution_count": 5,
     "metadata": {},
     "output_type": "execute_result"
    }
   ],
   "source": [
    "y= w[2:7]\n",
    "y"
   ]
  },
  {
   "cell_type": "code",
   "execution_count": 6,
   "id": "d6c435f0",
   "metadata": {},
   "outputs": [
    {
     "data": {
      "text/plain": [
       "['C', 'D', 'E', 'F', 'G']"
      ]
     },
     "execution_count": 6,
     "metadata": {},
     "output_type": "execute_result"
    }
   ],
   "source": [
    "w[2:-3]"
   ]
  },
  {
   "cell_type": "code",
   "execution_count": 7,
   "id": "d27fac0e",
   "metadata": {},
   "outputs": [
    {
     "data": {
      "text/plain": [
       "['C', 'D', 'E', 'F', 'G']"
      ]
     },
     "execution_count": 7,
     "metadata": {},
     "output_type": "execute_result"
    }
   ],
   "source": [
    "w[-8:7]"
   ]
  },
  {
   "cell_type": "code",
   "execution_count": 8,
   "id": "e30924af",
   "metadata": {},
   "outputs": [
    {
     "data": {
      "text/plain": [
       "['C', 'D', 'E', 'F', 'G']"
      ]
     },
     "execution_count": 8,
     "metadata": {},
     "output_type": "execute_result"
    }
   ],
   "source": [
    "w[-8:-3]"
   ]
  },
  {
   "cell_type": "code",
   "execution_count": 9,
   "id": "4bf54db5",
   "metadata": {},
   "outputs": [
    {
     "data": {
      "text/plain": [
       "['C', 'D', 'E', 'F', 'G']"
      ]
     },
     "execution_count": 9,
     "metadata": {},
     "output_type": "execute_result"
    }
   ],
   "source": [
    "w[2:7:1]"
   ]
  },
  {
   "cell_type": "code",
   "execution_count": 10,
   "id": "6b2e87d5",
   "metadata": {
    "scrolled": true
   },
   "outputs": [
    {
     "data": {
      "text/plain": [
       "['C', 'E', 'G']"
      ]
     },
     "execution_count": 10,
     "metadata": {},
     "output_type": "execute_result"
    }
   ],
   "source": [
    "w[2:7:2]"
   ]
  },
  {
   "cell_type": "code",
   "execution_count": 11,
   "id": "b7c9c849",
   "metadata": {},
   "outputs": [
    {
     "data": {
      "text/plain": [
       "['C', 'F']"
      ]
     },
     "execution_count": 11,
     "metadata": {},
     "output_type": "execute_result"
    }
   ],
   "source": [
    "w[2:7:3]\n",
    "#subsetting will start from start element."
   ]
  },
  {
   "cell_type": "code",
   "execution_count": 45,
   "id": "f78f7d41",
   "metadata": {},
   "outputs": [
    {
     "data": {
      "text/plain": [
       "['A', 'B', 'C', 'D', 'E', 'F', 'G', 'H', 'I', 'J']"
      ]
     },
     "execution_count": 45,
     "metadata": {},
     "output_type": "execute_result"
    }
   ],
   "source": [
    "w"
   ]
  },
  {
   "cell_type": "code",
   "execution_count": 42,
   "id": "c1a26cca",
   "metadata": {},
   "outputs": [
    {
     "data": {
      "text/plain": [
       "['A', 'D', 'G', 'J']"
      ]
     },
     "execution_count": 42,
     "metadata": {},
     "output_type": "execute_result"
    }
   ],
   "source": [
    "w[::3]"
   ]
  },
  {
   "cell_type": "code",
   "execution_count": 43,
   "id": "15c40cad",
   "metadata": {},
   "outputs": [
    {
     "data": {
      "text/plain": [
       "['J', 'G', 'D', 'A']"
      ]
     },
     "execution_count": 43,
     "metadata": {},
     "output_type": "execute_result"
    }
   ],
   "source": [
    "w[::-3]"
   ]
  },
  {
   "cell_type": "code",
   "execution_count": 44,
   "id": "d499e275",
   "metadata": {},
   "outputs": [
    {
     "data": {
      "text/plain": [
       "['J', 'I', 'H', 'G', 'F', 'E', 'D', 'C', 'B', 'A']"
      ]
     },
     "execution_count": 44,
     "metadata": {},
     "output_type": "execute_result"
    }
   ],
   "source": [
    "w[::-1]"
   ]
  },
  {
   "cell_type": "code",
   "execution_count": 2,
   "id": "72ab288d",
   "metadata": {},
   "outputs": [
    {
     "data": {
      "text/plain": [
       "['A', 'B', 'C', 'D', 'E', 'F', 'G', 'H', 'I', 'J', 'K', 'L']"
      ]
     },
     "execution_count": 2,
     "metadata": {},
     "output_type": "execute_result"
    }
   ],
   "source": [
    "letters = [\"A\", \"B\", \"C\", \"D\", \"E\", \"F\", \"G\", \"H\", \"I\", \"J\", \"K\", \"L\"]\n",
    "letters"
   ]
  },
  {
   "cell_type": "code",
   "execution_count": 20,
   "id": "b2b69112",
   "metadata": {},
   "outputs": [
    {
     "data": {
      "text/plain": [
       "['A', 'B', 'C', 'D', 'E', 'F', 'G', 'H', 'I', 'J', 'K', 'L']"
      ]
     },
     "execution_count": 20,
     "metadata": {},
     "output_type": "execute_result"
    }
   ],
   "source": [
    "letters[:]"
   ]
  },
  {
   "cell_type": "code",
   "execution_count": 21,
   "id": "a52588e0",
   "metadata": {},
   "outputs": [
    {
     "data": {
      "text/plain": [
       "['A', 'B', 'C']"
      ]
     },
     "execution_count": 21,
     "metadata": {},
     "output_type": "execute_result"
    }
   ],
   "source": [
    "letters[:3]"
   ]
  },
  {
   "cell_type": "code",
   "execution_count": 24,
   "id": "b24800a9",
   "metadata": {},
   "outputs": [
    {
     "data": {
      "text/plain": [
       "['C', 'D', 'E', 'F', 'G', 'H', 'I', 'J', 'K', 'L']"
      ]
     },
     "execution_count": 24,
     "metadata": {},
     "output_type": "execute_result"
    }
   ],
   "source": [
    "letters[2:]"
   ]
  },
  {
   "cell_type": "code",
   "execution_count": 25,
   "id": "c1cff200",
   "metadata": {},
   "outputs": [
    {
     "data": {
      "text/plain": [
       "['A', 'B', 'C', 'D', 'E', 'F', 'G']"
      ]
     },
     "execution_count": 25,
     "metadata": {},
     "output_type": "execute_result"
    }
   ],
   "source": [
    "letters[:7]\n",
    "#the 7th element will be excluded - so \"H\" is not in your slicing"
   ]
  },
  {
   "cell_type": "code",
   "execution_count": 32,
   "id": "c18029eb",
   "metadata": {},
   "outputs": [
    {
     "data": {
      "text/plain": [
       "['C', 'D', 'E', 'F', 'G']"
      ]
     },
     "execution_count": 32,
     "metadata": {},
     "output_type": "execute_result"
    }
   ],
   "source": [
    "letters[2:7]"
   ]
  },
  {
   "cell_type": "code",
   "execution_count": 28,
   "id": "5c4d633d",
   "metadata": {},
   "outputs": [
    {
     "data": {
      "text/plain": [
       "['C', 'D', 'E', 'F', 'G']"
      ]
     },
     "execution_count": 28,
     "metadata": {},
     "output_type": "execute_result"
    }
   ],
   "source": [
    "#Using negative indexation\n",
    "# 2 = -10 and 7= -5\n",
    "letters[-10:7]"
   ]
  },
  {
   "cell_type": "code",
   "execution_count": 37,
   "id": "6afac5e7",
   "metadata": {},
   "outputs": [
    {
     "data": {
      "text/plain": [
       "['C', 'D', 'E', 'F', 'G']"
      ]
     },
     "execution_count": 37,
     "metadata": {},
     "output_type": "execute_result"
    }
   ],
   "source": [
    "letters[2:-5]"
   ]
  },
  {
   "cell_type": "code",
   "execution_count": 29,
   "id": "ce25765c",
   "metadata": {},
   "outputs": [
    {
     "data": {
      "text/plain": [
       "['C', 'D', 'E', 'F', 'G']"
      ]
     },
     "execution_count": 29,
     "metadata": {},
     "output_type": "execute_result"
    }
   ],
   "source": [
    "letters[-10:-5]\n",
    "#When using negative indexation- first find what values you need in slicing and then use indexation as per."
   ]
  },
  {
   "cell_type": "code",
   "execution_count": 38,
   "id": "9ff09efd",
   "metadata": {},
   "outputs": [
    {
     "data": {
      "text/plain": [
       "['C', 'D', 'E', 'F', 'G']"
      ]
     },
     "execution_count": 38,
     "metadata": {},
     "output_type": "execute_result"
    }
   ],
   "source": [
    "letters[2:7]"
   ]
  },
  {
   "cell_type": "code",
   "execution_count": 39,
   "id": "ce982cf4",
   "metadata": {},
   "outputs": [
    {
     "data": {
      "text/plain": [
       "['C', 'D', 'E', 'F', 'G']"
      ]
     },
     "execution_count": 39,
     "metadata": {},
     "output_type": "execute_result"
    }
   ],
   "source": [
    "#now let's use double colon \n",
    "letters[2:7:1]"
   ]
  },
  {
   "cell_type": "code",
   "execution_count": 40,
   "id": "6588cb9a",
   "metadata": {},
   "outputs": [
    {
     "data": {
      "text/plain": [
       "['C', 'E', 'G']"
      ]
     },
     "execution_count": 40,
     "metadata": {},
     "output_type": "execute_result"
    }
   ],
   "source": [
    "letters[2:7:2]"
   ]
  },
  {
   "cell_type": "code",
   "execution_count": 41,
   "id": "fef5e907",
   "metadata": {},
   "outputs": [
    {
     "data": {
      "text/plain": [
       "['C', 'F']"
      ]
     },
     "execution_count": 41,
     "metadata": {},
     "output_type": "execute_result"
    }
   ],
   "source": [
    "letters[2:7:3]"
   ]
  },
  {
   "cell_type": "markdown",
   "id": "52c927a2",
   "metadata": {},
   "source": [
    "----"
   ]
  },
  {
   "cell_type": "code",
   "execution_count": 3,
   "id": "f48068db",
   "metadata": {},
   "outputs": [
    {
     "data": {
      "text/plain": [
       "['A', 'B', 'C', 'D', 'E', 'F', 'G', 'H', 'I', 'J', 'K', 'L']"
      ]
     },
     "execution_count": 3,
     "metadata": {},
     "output_type": "execute_result"
    }
   ],
   "source": [
    "letters[::1]"
   ]
  },
  {
   "cell_type": "code",
   "execution_count": 4,
   "id": "db1bc425",
   "metadata": {
    "scrolled": true
   },
   "outputs": [
    {
     "data": {
      "text/plain": [
       "[]"
      ]
     },
     "execution_count": 4,
     "metadata": {},
     "output_type": "execute_result"
    }
   ],
   "source": [
    "letters[6:1]"
   ]
  },
  {
   "cell_type": "code",
   "execution_count": 5,
   "id": "37ca6e59",
   "metadata": {},
   "outputs": [
    {
     "data": {
      "text/plain": [
       "['G', 'F', 'E', 'D', 'C']"
      ]
     },
     "execution_count": 5,
     "metadata": {},
     "output_type": "execute_result"
    }
   ],
   "source": [
    "letters[6:1:-1]"
   ]
  },
  {
   "cell_type": "code",
   "execution_count": 6,
   "id": "4bc9868d",
   "metadata": {},
   "outputs": [
    {
     "data": {
      "text/plain": [
       "['C', 'D', 'E', 'F', 'G']"
      ]
     },
     "execution_count": 6,
     "metadata": {},
     "output_type": "execute_result"
    }
   ],
   "source": [
    "letters[2:7]"
   ]
  },
  {
   "cell_type": "code",
   "execution_count": 8,
   "id": "816203f4",
   "metadata": {},
   "outputs": [
    {
     "data": {
      "text/plain": [
       "['C', 'D', 'E', 'F', 'G']"
      ]
     },
     "execution_count": 8,
     "metadata": {},
     "output_type": "execute_result"
    }
   ],
   "source": [
    "letters[2:7:1]"
   ]
  },
  {
   "cell_type": "code",
   "execution_count": 14,
   "id": "08ae2801",
   "metadata": {},
   "outputs": [
    {
     "name": "stdout",
     "output_type": "stream",
     "text": [
      "[]\n"
     ]
    },
    {
     "data": {
      "text/plain": [
       "['H', 'G', 'F', 'E', 'D']"
      ]
     },
     "execution_count": 14,
     "metadata": {},
     "output_type": "execute_result"
    }
   ],
   "source": [
    "letters[2:7:-1]\n",
    "#you are getting an empty list\n",
    "#????\n",
    "#When you specify letters[2:7], then \n",
    "#you are going forward\n",
    "#letters[2:7]= ['C', 'D', 'E', 'F', 'G']\n",
    "#But with negative step, you can asking it to go backward- and what is before element 'C'\n",
    "#it is 'B' and 'A'. and that is not part of your subsetted list.\n",
    "#this is the reason you get an empty list.\n",
    "#using the step of -1 you can only go backward.\n",
    "#so how to use a negative step.\n",
    "letters[7:2] #this will give you an empty list as you are going backward... hmm... backward."
   ]
  },
  {
   "cell_type": "code",
   "execution_count": 15,
   "id": "3906107a",
   "metadata": {},
   "outputs": [
    {
     "data": {
      "text/plain": [
       "['H', 'G', 'F', 'E', 'D']"
      ]
     },
     "execution_count": 15,
     "metadata": {},
     "output_type": "execute_result"
    }
   ],
   "source": [
    "#now use -1\n",
    "letters[7:2:-1]\n",
    "#it is not an empty list. "
   ]
  },
  {
   "cell_type": "code",
   "execution_count": 16,
   "id": "851436b3",
   "metadata": {},
   "outputs": [
    {
     "data": {
      "text/plain": [
       "['H', 'F', 'D']"
      ]
     },
     "execution_count": 16,
     "metadata": {},
     "output_type": "execute_result"
    }
   ],
   "source": [
    "letters[7:2:-2]"
   ]
  },
  {
   "cell_type": "code",
   "execution_count": 17,
   "id": "e5c9542f",
   "metadata": {},
   "outputs": [
    {
     "data": {
      "text/plain": [
       "['H', 'E']"
      ]
     },
     "execution_count": 17,
     "metadata": {},
     "output_type": "execute_result"
    }
   ],
   "source": [
    "letters[7:2:-3]"
   ]
  },
  {
   "cell_type": "code",
   "execution_count": 18,
   "id": "ba8778d9",
   "metadata": {},
   "outputs": [
    {
     "data": {
      "text/plain": [
       "['H', 'G', 'F', 'E', 'D']"
      ]
     },
     "execution_count": 18,
     "metadata": {},
     "output_type": "execute_result"
    }
   ],
   "source": [
    "letters[7:2:-1]"
   ]
  }
 ],
 "metadata": {
  "kernelspec": {
   "display_name": "Python 3 (ipykernel)",
   "language": "python",
   "name": "python3"
  },
  "language_info": {
   "codemirror_mode": {
    "name": "ipython",
    "version": 3
   },
   "file_extension": ".py",
   "mimetype": "text/x-python",
   "name": "python",
   "nbconvert_exporter": "python",
   "pygments_lexer": "ipython3",
   "version": "3.9.12"
  }
 },
 "nbformat": 4,
 "nbformat_minor": 5
}
