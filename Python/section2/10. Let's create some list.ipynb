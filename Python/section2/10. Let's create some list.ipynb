{
 "cells": [
  {
   "cell_type": "markdown",
   "id": "2cbd0ef3",
   "metadata": {},
   "source": [
    "**What is a list?**\n",
    "- it is a data structure.\n",
    "\n",
    "**How to create a list?**\n",
    "- use square brackets\n",
    "- within square brackets you will have list elements.\n",
    "\n",
    "```python\n",
    "[3,45,56,732]\n",
    "```\n",
    "\n",
    "You can also store list into an object\n",
    "```python\n",
    "MyFirstList = [3,45,56,732]\n",
    "```\n",
    "\n",
    "You can also check what type this data structure is:\n",
    "```python \n",
    "type(MyFirstList)\n",
    "```\n",
    "\n",
    "Let's create a list that contains mix data type\n",
    "```python\n",
    "MyList2 = [\"hello\",25,True, 55.3]\n",
    "```\n",
    "\n",
    "**list can contain list as its elements. What does that mean?**\n",
    "```python\n",
    "MyList3 = [\"how are you?\",55,MyFirstList]\n",
    "```\n",
    "**Function that can be used to generate a list**:-\n",
    "```python\n",
    "range()\n",
    "```\n",
    "```python\n",
    "range(15)\n",
    "```\n",
    "When you run above code,  <br>\n",
    "output:-  \n",
    "```python \n",
    "range(0, 15)\n",
    "```\n",
    "-This output is meaningless at the moment as it just tells that range starts from 0 and has total of 15 elements.\n",
    "Also, 15 will not be part of list. The list will be till number 14. <br>\n",
    "\n",
    "**How to convert a range into a list?** \n",
    "- Use list() function \n",
    "\n",
    "```python\n",
    "list(range(15))\n",
    "```\n",
    "output:- \n",
    "```python \n",
    "[0, 1, 2, 3, 4, 5, 6, 7, 8, 9, 10, 11, 12, 13, 14]\n",
    "```\n",
    "\n",
    "**What is difference between range() and list()**?  <br>\n",
    "range() creates a generator kind of object, it will have the values but will not take any memory.  <br>\n",
    "list() allows you to store that values into memory.  <br>\n",
    "\n",
    "Now why is that needed?  <br>\n",
    "This allows you to save your memory.  <br>\n",
    "\n",
    "why we need range()?  <br>\n",
    "It is very convenient to generate sequence of numbers  <br>\n",
    "\n",
    "```python\n",
    "#if we want our list to start with zero. Let's say you want 8 elements in your list\n",
    "list(range(8))\n",
    "#creating an object and saving the values of list(range(8)) in it\n",
    "x = list(range(8))\n",
    "#print x\n",
    "x = [0, 1, 2, 3, 4, 5, 6, 7]\n",
    "\n",
    "#now you want your list to start with 1. You still want 8 elements\n",
    "y = list(range(1,9))\n",
    "#print y\n",
    "y = [1, 2, 3, 4, 5, 6, 7]\n",
    "\n",
    "#total number of elements in range(a,b) is b-a\n",
    "range(1,9) #has 8 elements\n",
    "range(10,22) #has 12 elements. It starts with 10 \n",
    "list(range(10,22)) = [10, 11, 12, 13, 14, 15, 16, 17, 18, 19, 20, 21]\n",
    "```\n",
    "**Range() function** <br>\n",
    "Syntax for range() function is :-  ```range(start,stop, step)```\n",
    "```python\n",
    "range[i] = start + step *i\n",
    "#i is enumeration or order number of sequence \n",
    "#range[1] is the first value of range and so on.\n",
    "```\n",
    "\n",
    "1. by default, step = 1, this means\n",
    "```python \n",
    "list(range(0,8)) = [0, 1, 2, 3, 4, 5, 6, 7] \n",
    "#step = 0-1 = 2-1 = 3-2 = 4-3\n",
    "```\n",
    "2. Stop will not be inclusive to the sequence generator. Stop value will never be part of generated sequence.\n",
    "```python\n",
    "list(range(1,7)) = [1, 2, 3, 4, 5, 6]\n",
    "#stop=7 is not part of the sequence.\n",
    "```\n",
    "\n",
    "3. you can specify step - step is jump  \n",
    "```python\n",
    "list(range(0,8,2)) = [0, 2, 4, 6]\n",
    "#step = 2-0 = 4-2 = 6- 4\n",
    "```\n",
    "4. step can be negative:- <u>Use negative step when your Stop value is negative</u>\n",
    "```python\n",
    "list(range(0,-8,-2)) = [0, -2, -4, -6]\n",
    "#what if you have positive stop (e.g. 8) and negative step (e.g. -2)\n",
    "list(range(0,8,-2)) = []  #this is an empty list\n",
    "```\n",
    "**Uses of range()**\n",
    "1. it is used to specify iteration for \"for loop\"\n",
    "```python\n",
    "for i in range(5):\n",
    "    print(i)\n",
    "#output:\n",
    "0\n",
    "1\n",
    "2\n",
    "3\n",
    "4\n",
    "```\n",
    "2. it is useful whe practicing computation ."
   ]
  },
  {
   "cell_type": "code",
   "execution_count": 1,
   "id": "ab6e2eac",
   "metadata": {},
   "outputs": [],
   "source": [
    "MyFirstList = [3,45,56,732]"
   ]
  },
  {
   "cell_type": "code",
   "execution_count": 2,
   "id": "9d6b24e9",
   "metadata": {},
   "outputs": [
    {
     "data": {
      "text/plain": [
       "[3, 45, 56, 732]"
      ]
     },
     "execution_count": 2,
     "metadata": {},
     "output_type": "execute_result"
    }
   ],
   "source": [
    "#print list\n",
    "MyFirstList"
   ]
  },
  {
   "cell_type": "code",
   "execution_count": 3,
   "id": "35b3465a",
   "metadata": {
    "scrolled": true
   },
   "outputs": [
    {
     "data": {
      "text/plain": [
       "list"
      ]
     },
     "execution_count": 3,
     "metadata": {},
     "output_type": "execute_result"
    }
   ],
   "source": [
    "#check the type\n",
    "type(MyFirstList)"
   ]
  },
  {
   "cell_type": "code",
   "execution_count": 6,
   "id": "c9e078c5",
   "metadata": {},
   "outputs": [
    {
     "data": {
      "text/plain": [
       "['hello', 25, True, 55.3]"
      ]
     },
     "execution_count": 6,
     "metadata": {},
     "output_type": "execute_result"
    }
   ],
   "source": [
    "MyList2 = [\"hello\",25,True, 55.3]\n",
    "MyList2"
   ]
  },
  {
   "cell_type": "code",
   "execution_count": 8,
   "id": "0fb5be65",
   "metadata": {},
   "outputs": [
    {
     "data": {
      "text/plain": [
       "['how are you?', 55, [3, 45, 56, 732]]"
      ]
     },
     "execution_count": 8,
     "metadata": {},
     "output_type": "execute_result"
    }
   ],
   "source": [
    "MyList3 = [\"how are you?\",55,MyFirstList]\n",
    "#print \n",
    "MyList3"
   ]
  },
  {
   "cell_type": "code",
   "execution_count": 9,
   "id": "2ae47272",
   "metadata": {},
   "outputs": [
    {
     "data": {
      "text/plain": [
       "range(0, 15)"
      ]
     },
     "execution_count": 9,
     "metadata": {},
     "output_type": "execute_result"
    }
   ],
   "source": [
    "range(15)"
   ]
  },
  {
   "cell_type": "code",
   "execution_count": 1,
   "id": "b531a9e8",
   "metadata": {},
   "outputs": [
    {
     "data": {
      "text/plain": [
       "[0, 1, 2, 3, 4, 5, 6, 7, 8, 9, 10, 11, 12, 13, 14]"
      ]
     },
     "execution_count": 1,
     "metadata": {},
     "output_type": "execute_result"
    }
   ],
   "source": [
    "list(range(15))"
   ]
  },
  {
   "cell_type": "code",
   "execution_count": 2,
   "id": "b28f521b",
   "metadata": {},
   "outputs": [
    {
     "data": {
      "text/plain": [
       "[0, 1, 2, 3, 4, 5, 6, 7]"
      ]
     },
     "execution_count": 2,
     "metadata": {},
     "output_type": "execute_result"
    }
   ],
   "source": [
    "x = list(range(8))\n",
    "x"
   ]
  },
  {
   "cell_type": "code",
   "execution_count": 3,
   "id": "c8db4e8e",
   "metadata": {},
   "outputs": [
    {
     "data": {
      "text/plain": [
       "[1, 2, 3, 4, 5, 6, 7]"
      ]
     },
     "execution_count": 3,
     "metadata": {},
     "output_type": "execute_result"
    }
   ],
   "source": [
    "y = list(range(1,8))\n",
    "y"
   ]
  },
  {
   "cell_type": "code",
   "execution_count": 4,
   "id": "64cb05a0",
   "metadata": {},
   "outputs": [
    {
     "data": {
      "text/plain": [
       "range(1, 9)"
      ]
     },
     "execution_count": 4,
     "metadata": {},
     "output_type": "execute_result"
    }
   ],
   "source": [
    "range(1,9)"
   ]
  },
  {
   "cell_type": "code",
   "execution_count": 5,
   "id": "640c2708",
   "metadata": {},
   "outputs": [
    {
     "data": {
      "text/plain": [
       "[10, 11, 12, 13, 14, 15, 16, 17, 18, 19, 20, 21]"
      ]
     },
     "execution_count": 5,
     "metadata": {},
     "output_type": "execute_result"
    }
   ],
   "source": [
    "list(range(10,22))"
   ]
  },
  {
   "cell_type": "code",
   "execution_count": 6,
   "id": "d732f214",
   "metadata": {},
   "outputs": [
    {
     "data": {
      "text/plain": [
       "[0, 1, 2, 3, 4, 5, 6, 7]"
      ]
     },
     "execution_count": 6,
     "metadata": {},
     "output_type": "execute_result"
    }
   ],
   "source": [
    "list(range(0,8))"
   ]
  },
  {
   "cell_type": "code",
   "execution_count": 7,
   "id": "1f5a3657",
   "metadata": {},
   "outputs": [
    {
     "data": {
      "text/plain": [
       "[0, 2, 4, 6]"
      ]
     },
     "execution_count": 7,
     "metadata": {},
     "output_type": "execute_result"
    }
   ],
   "source": [
    "#specifying step\n",
    "list(range(0,8,2))"
   ]
  },
  {
   "cell_type": "code",
   "execution_count": 8,
   "id": "63978ad7",
   "metadata": {},
   "outputs": [
    {
     "data": {
      "text/plain": [
       "[1, 2, 3, 4, 5, 6]"
      ]
     },
     "execution_count": 8,
     "metadata": {},
     "output_type": "execute_result"
    }
   ],
   "source": [
    "#stop will not be part of sequence\n",
    "list(range(1,7))"
   ]
  },
  {
   "cell_type": "code",
   "execution_count": 12,
   "id": "d8683685",
   "metadata": {},
   "outputs": [
    {
     "data": {
      "text/plain": [
       "False"
      ]
     },
     "execution_count": 12,
     "metadata": {},
     "output_type": "execute_result"
    }
   ],
   "source": [
    "#negative step\n",
    "list(range(0,8,-2))\n",
    "#it is an empty list\n",
    "#??\n",
    "#range values = start + step *i  (i is enumeration or order of sequence)\n",
    "#first range value = 0 -2*1 = -2\n",
    "#But for negative step\n",
    "#range value must be > stop\n",
    "-2 > 8 #(that is not true)\n"
   ]
  },
  {
   "cell_type": "code",
   "execution_count": 10,
   "id": "9dc4978c",
   "metadata": {},
   "outputs": [
    {
     "data": {
      "text/plain": [
       "[0, -2, -4, -6]"
      ]
     },
     "execution_count": 10,
     "metadata": {},
     "output_type": "execute_result"
    }
   ],
   "source": [
    "list(range(0,-8,-2))"
   ]
  },
  {
   "cell_type": "code",
   "execution_count": 11,
   "id": "01c3d0cb",
   "metadata": {},
   "outputs": [
    {
     "name": "stdout",
     "output_type": "stream",
     "text": [
      "0\n",
      "1\n",
      "2\n",
      "3\n",
      "4\n"
     ]
    }
   ],
   "source": [
    "for i in range(5):\n",
    "    print(i)"
   ]
  }
 ],
 "metadata": {
  "kernelspec": {
   "display_name": "Python 3 (ipykernel)",
   "language": "python",
   "name": "python3"
  },
  "language_info": {
   "codemirror_mode": {
    "name": "ipython",
    "version": 3
   },
   "file_extension": ".py",
   "mimetype": "text/x-python",
   "name": "python",
   "nbconvert_exporter": "python",
   "pygments_lexer": "ipython3",
   "version": "3.9.12"
  }
 },
 "nbformat": 4,
 "nbformat_minor": 5
}
