{
 "cells": [
  {
   "cell_type": "code",
   "execution_count": 1,
   "id": "7033c872",
   "metadata": {},
   "outputs": [
    {
     "data": {
      "text/plain": [
       "[0, 1, 2, 3, 4, 5, 6, 7, 8, 9, 10, 11, 12, 13, 14]"
      ]
     },
     "execution_count": 1,
     "metadata": {},
     "output_type": "execute_result"
    }
   ],
   "source": [
    "#What is a l\n",
    "#two ways to create a l\n",
    "#1. using l(range())\n",
    "#list(range(5))\n",
    "list(range(15))"
   ]
  },
  {
   "cell_type": "code",
   "execution_count": 18,
   "id": "13b82671",
   "metadata": {},
   "outputs": [
    {
     "data": {
      "text/plain": [
       "[2, 3, 4, 5, True, 'I']"
      ]
     },
     "execution_count": 18,
     "metadata": {},
     "output_type": "execute_result"
    }
   ],
   "source": [
    "#2. using square bracket\n",
    "l1 = [2,3,4,5,True, \"I\"]\n",
    "l1\n",
    "#list is different from vectors as it can store data of mix type.\n"
   ]
  },
  {
   "cell_type": "code",
   "execution_count": 22,
   "id": "c11e43ee",
   "metadata": {},
   "outputs": [
    {
     "data": {
      "text/plain": [
       "2"
      ]
     },
     "execution_count": 22,
     "metadata": {},
     "output_type": "execute_result"
    }
   ],
   "source": [
    "#accessing individual elements of a list\n",
    "l1[0]"
   ]
  },
  {
   "cell_type": "code",
   "execution_count": 23,
   "id": "9cb56316",
   "metadata": {},
   "outputs": [
    {
     "data": {
      "text/plain": [
       "True"
      ]
     },
     "execution_count": 23,
     "metadata": {},
     "output_type": "execute_result"
    }
   ],
   "source": [
    "l1[4]"
   ]
  },
  {
   "cell_type": "code",
   "execution_count": 24,
   "id": "4d259ac1",
   "metadata": {},
   "outputs": [
    {
     "data": {
      "text/plain": [
       "True"
      ]
     },
     "execution_count": 24,
     "metadata": {},
     "output_type": "execute_result"
    }
   ],
   "source": [
    "y=l1[4]\n",
    "y"
   ]
  },
  {
   "cell_type": "code",
   "execution_count": 8,
   "id": "2469e578",
   "metadata": {},
   "outputs": [
    {
     "data": {
      "text/plain": [
       "bool"
      ]
     },
     "execution_count": 8,
     "metadata": {},
     "output_type": "execute_result"
    }
   ],
   "source": [
    "type(y)"
   ]
  },
  {
   "cell_type": "code",
   "execution_count": 25,
   "id": "8a90d051",
   "metadata": {},
   "outputs": [],
   "source": [
    "l1[4] = 5"
   ]
  },
  {
   "cell_type": "code",
   "execution_count": 27,
   "id": "606edf2a",
   "metadata": {},
   "outputs": [
    {
     "data": {
      "text/plain": [
       "[2, 3, 4, 5, 5, 'I']"
      ]
     },
     "execution_count": 27,
     "metadata": {},
     "output_type": "execute_result"
    }
   ],
   "source": [
    "l1"
   ]
  },
  {
   "cell_type": "code",
   "execution_count": null,
   "id": "42f6cea8",
   "metadata": {},
   "outputs": [],
   "source": [
    "#indexation of list element start from 0 instead of 1(as we see in R)"
   ]
  },
  {
   "cell_type": "code",
   "execution_count": 11,
   "id": "6e8abb22",
   "metadata": {},
   "outputs": [
    {
     "data": {
      "text/plain": [
       "range(0, 5)"
      ]
     },
     "execution_count": 11,
     "metadata": {},
     "output_type": "execute_result"
    }
   ],
   "source": [
    "#Range function\n",
    "#range(start, stop, step)\n",
    "range(5)#this is assuming the start=0 and stop = 5\n",
    "range() is a number generator- it can used in for loops to gives number of iteration"
   ]
  },
  {
   "cell_type": "code",
   "execution_count": 12,
   "id": "ab780c4b",
   "metadata": {},
   "outputs": [
    {
     "name": "stdout",
     "output_type": "stream",
     "text": [
      "0\n",
      "1\n",
      "2\n",
      "3\n",
      "4\n"
     ]
    }
   ],
   "source": [
    "for i in range(5):\n",
    "    print(i)"
   ]
  },
  {
   "cell_type": "code",
   "execution_count": 8,
   "id": "879bb18e",
   "metadata": {},
   "outputs": [
    {
     "name": "stdout",
     "output_type": "stream",
     "text": [
      "[2, 4, 6]\n",
      "[7, 5, 3]\n"
     ]
    }
   ],
   "source": [
    "#range(2,7) means the zeroth value = 2 and the last indexation is 6\n",
    "#2,3,4,5,6\n",
    "range(2,7)\n",
    "list(range(2,7))\n",
    "print(list(range(2,7,2)))\n",
    "#This will give you 2 4 6\n",
    "list(range(2,7,3))\n",
    "#will give you 2 5\n",
    "#using negative step\n",
    "list(range(2,7,-1))\n",
    "#This gives you an empty list\n",
    "print(list(range(7,2,-2)))\n"
   ]
  },
  {
   "cell_type": "code",
   "execution_count": 1,
   "id": "113c6455",
   "metadata": {},
   "outputs": [
    {
     "data": {
      "text/plain": [
       "[]"
      ]
     },
     "execution_count": 1,
     "metadata": {},
     "output_type": "execute_result"
    }
   ],
   "source": [
    "list(range(7,2))"
   ]
  },
  {
   "cell_type": "code",
   "execution_count": 2,
   "id": "fcccfdd2",
   "metadata": {},
   "outputs": [
    {
     "data": {
      "text/plain": [
       "[7, 6, 5, 4, 3]"
      ]
     },
     "execution_count": 2,
     "metadata": {},
     "output_type": "execute_result"
    }
   ],
   "source": [
    "list(range(7,2,-1))"
   ]
  },
  {
   "cell_type": "code",
   "execution_count": 3,
   "id": "5745d3b0",
   "metadata": {},
   "outputs": [
    {
     "data": {
      "text/plain": [
       "[2, 3, 4, 5, 6]"
      ]
     },
     "execution_count": 3,
     "metadata": {},
     "output_type": "execute_result"
    }
   ],
   "source": [
    "list(range(2,7))"
   ]
  },
  {
   "cell_type": "code",
   "execution_count": 4,
   "id": "0d861425",
   "metadata": {},
   "outputs": [
    {
     "data": {
      "text/plain": [
       "[1, 2, 3, 4, 5, 6, 7]"
      ]
     },
     "execution_count": 4,
     "metadata": {},
     "output_type": "execute_result"
    }
   ],
   "source": [
    "#let's make a list\n",
    "y = [1,2,3,4,5,6,7]\n",
    "type(y)\n",
    "y"
   ]
  },
  {
   "cell_type": "code",
   "execution_count": 11,
   "id": "59488b85",
   "metadata": {},
   "outputs": [],
   "source": [
    "#using [] to access individual elements of a list\n",
    "y[0] = 5"
   ]
  },
  {
   "cell_type": "code",
   "execution_count": 26,
   "id": "d3ea1ab0",
   "metadata": {},
   "outputs": [
    {
     "name": "stdout",
     "output_type": "stream",
     "text": [
      "[5, 2, 3, 4, 5, 6, 7]\n"
     ]
    },
    {
     "data": {
      "text/plain": [
       "[3, 4, 5]"
      ]
     },
     "execution_count": 26,
     "metadata": {},
     "output_type": "execute_result"
    }
   ],
   "source": [
    "print(y)\n",
    "#slicing\n",
    "# using : operator \n",
    "y[2:5] #3,4,5\n"
   ]
  },
  {
   "cell_type": "code",
   "execution_count": 23,
   "id": "5aec299e",
   "metadata": {},
   "outputs": [
    {
     "data": {
      "text/plain": [
       "[3, 5]"
      ]
     },
     "execution_count": 23,
     "metadata": {},
     "output_type": "execute_result"
    }
   ],
   "source": [
    "r = y[2:6:2]\n",
    "r"
   ]
  },
  {
   "cell_type": "code",
   "execution_count": 38,
   "id": "74365f01",
   "metadata": {},
   "outputs": [
    {
     "name": "stdout",
     "output_type": "stream",
     "text": [
      "[5, 2, 3, 4, 5, 6, 7]\n",
      "[5, 2, 3, 4, 5, 6, 7]\n"
     ]
    }
   ],
   "source": [
    "r = y[:]\n",
    "print(r)\n",
    "print(y)\n"
   ]
  },
  {
   "cell_type": "code",
   "execution_count": 48,
   "id": "983d8cc0",
   "metadata": {},
   "outputs": [
    {
     "data": {
      "text/plain": [
       "[0, 1, 2, 3, 4, 5, 6]"
      ]
     },
     "execution_count": 48,
     "metadata": {},
     "output_type": "execute_result"
    }
   ],
   "source": [
    "y[:] = range(7)\n",
    "y"
   ]
  },
  {
   "cell_type": "code",
   "execution_count": 29,
   "id": "fc2cc090",
   "metadata": {},
   "outputs": [
    {
     "data": {
      "text/plain": [
       "[3, 4, 5, 6, 7]"
      ]
     },
     "execution_count": 29,
     "metadata": {},
     "output_type": "execute_result"
    }
   ],
   "source": [
    "r[2:]"
   ]
  },
  {
   "cell_type": "code",
   "execution_count": 30,
   "id": "e5837750",
   "metadata": {},
   "outputs": [
    {
     "data": {
      "text/plain": [
       "[5, 2, 3, 4, 5]"
      ]
     },
     "execution_count": 30,
     "metadata": {},
     "output_type": "execute_result"
    }
   ],
   "source": [
    "r[:5]"
   ]
  },
  {
   "cell_type": "code",
   "execution_count": 31,
   "id": "3bd32316",
   "metadata": {},
   "outputs": [
    {
     "data": {
      "text/plain": [
       "[3, 4, 5]"
      ]
     },
     "execution_count": 31,
     "metadata": {},
     "output_type": "execute_result"
    }
   ],
   "source": [
    "r[2:5]"
   ]
  },
  {
   "cell_type": "code",
   "execution_count": 32,
   "id": "f19257b4",
   "metadata": {},
   "outputs": [
    {
     "data": {
      "text/plain": [
       "[3, 5]"
      ]
     },
     "execution_count": 32,
     "metadata": {},
     "output_type": "execute_result"
    }
   ],
   "source": [
    "r[2:5:2]"
   ]
  },
  {
   "cell_type": "code",
   "execution_count": 33,
   "id": "c1bf149e",
   "metadata": {
    "scrolled": true
   },
   "outputs": [
    {
     "data": {
      "text/plain": [
       "[7, 6, 5, 4, 3, 2, 5]"
      ]
     },
     "execution_count": 33,
     "metadata": {},
     "output_type": "execute_result"
    }
   ],
   "source": [
    "r[::-1]"
   ]
  },
  {
   "cell_type": "code",
   "execution_count": 34,
   "id": "1e716cc5",
   "metadata": {},
   "outputs": [
    {
     "data": {
      "text/plain": [
       "[]"
      ]
     },
     "execution_count": 34,
     "metadata": {},
     "output_type": "execute_result"
    }
   ],
   "source": [
    "r[2:5:-1]"
   ]
  },
  {
   "cell_type": "code",
   "execution_count": 36,
   "id": "32053095",
   "metadata": {},
   "outputs": [
    {
     "data": {
      "text/plain": [
       "[6, 5, 4]"
      ]
     },
     "execution_count": 36,
     "metadata": {},
     "output_type": "execute_result"
    }
   ],
   "source": [
    "r[5:2:-1]"
   ]
  },
  {
   "cell_type": "code",
   "execution_count": 44,
   "id": "149fcccb",
   "metadata": {},
   "outputs": [
    {
     "data": {
      "text/plain": [
       "tuple"
      ]
     },
     "execution_count": 44,
     "metadata": {},
     "output_type": "execute_result"
    }
   ],
   "source": [
    "#create a tuple\n",
    "a = (1,2,3,4)\n",
    "type(a)"
   ]
  },
  {
   "cell_type": "code",
   "execution_count": 46,
   "id": "4c002cdb",
   "metadata": {},
   "outputs": [
    {
     "ename": "TypeError",
     "evalue": "'tuple' object does not support item assignment",
     "output_type": "error",
     "traceback": [
      "\u001b[0;31m---------------------------------------------------------------------------\u001b[0m",
      "\u001b[0;31mTypeError\u001b[0m                                 Traceback (most recent call last)",
      "Input \u001b[0;32mIn [46]\u001b[0m, in \u001b[0;36m<cell line: 1>\u001b[0;34m()\u001b[0m\n\u001b[0;32m----> 1\u001b[0m a[\u001b[38;5;241m3\u001b[39m] \u001b[38;5;241m=\u001b[39m \u001b[38;5;241m3\u001b[39m\n",
      "\u001b[0;31mTypeError\u001b[0m: 'tuple' object does not support item assignment"
     ]
    }
   ],
   "source": [
    "a[3] = 3\n",
    "#tuple is immutable, while a list is mutable."
   ]
  },
  {
   "cell_type": "code",
   "execution_count": 11,
   "id": "d6617415",
   "metadata": {},
   "outputs": [
    {
     "name": "stdout",
     "output_type": "stream",
     "text": [
      "[2, 4]\n",
      "[2 4]\n",
      "[1, 2, 3, 4]\n",
      "[1, 2, 3]\n"
     ]
    },
    {
     "data": {
      "text/plain": [
       "2.0"
      ]
     },
     "execution_count": 11,
     "metadata": {},
     "output_type": "execute_result"
    }
   ],
   "source": [
    "b = range(2,5,2)\n",
    "b=list(b)\n",
    "print(b)\n",
    "import numpy\n",
    "from numpy.random import randn\n",
    "randn(5) \n",
    "type(randn(5))\n",
    "type(b)\n",
    "#convert a list into an array\n",
    "b=numpy.array(b)\n",
    "print(b)\n",
    "type(b)\n",
    "b.mean()\n",
    "print(y)\n",
    "y.pop()\n",
    "print(y)\n",
    "len(y)\n",
    "import math\n",
    "math.sqrt(4)\n"
   ]
  },
  {
   "cell_type": "code",
   "execution_count": 10,
   "id": "fb7abedf",
   "metadata": {},
   "outputs": [
    {
     "name": "stdout",
     "output_type": "stream",
     "text": [
      "[2 4]\n"
     ]
    }
   ],
   "source": [
    "print(b)"
   ]
  },
  {
   "cell_type": "code",
   "execution_count": 24,
   "id": "dadcf435",
   "metadata": {},
   "outputs": [
    {
     "name": "stdout",
     "output_type": "stream",
     "text": [
      "[2, 3, 4, 5, 6, 7, 8, 9, 10]\n",
      "[0, 1, 2, 3, 4, 5, 6, 7, 8]\n",
      "[0, 1, 2, 3, 4, 5, 6, 7, 8, 9, 10, 11, 12, 13, 14, 15, 16, 17, 18, 19, 20]\n"
     ]
    }
   ],
   "source": [
    "my_list = list(range(21))\n",
    "my_list\n",
    "#let's do slicing to create a new list from the existing\n",
    "my_list2 = my_list[2:11]\n",
    "len(my_list2)\n",
    "print(my_list2)\n",
    "#let's make some changes in this list\n",
    "#inorder to make changes you need to use [] again\n",
    "my_list2[2] = 10\n",
    "my_list2[:] = range(9) \n",
    "print(my_list2)\n",
    "print(my_list)"
   ]
  },
  {
   "cell_type": "code",
   "execution_count": 26,
   "id": "bfbf35f6",
   "metadata": {},
   "outputs": [
    {
     "name": "stdout",
     "output_type": "stream",
     "text": [
      "[ 2  3  4  5  6  7  8  9 10]\n",
      "[ 0  1  2  3  4  7  6  7  8  9 10 11 12 13 14 15 16 17 18 19 20]\n",
      "[3 3 3 3 3 3 3 3 3]\n"
     ]
    },
    {
     "data": {
      "text/plain": [
       "array([ 0,  1,  3,  3,  3,  3,  3,  3,  3,  3,  3, 11, 12, 13, 14, 15, 16,\n",
       "       17, 18, 19, 20])"
      ]
     },
     "execution_count": 26,
     "metadata": {},
     "output_type": "execute_result"
    }
   ],
   "source": [
    "import numpy as rb\n",
    "my_array = rb.array(my_list)\n",
    "my_array\n",
    "#let's do slicing\n",
    "my_array2 = my_array[2:11]\n",
    "print(my_array2)\n",
    "#let's make some changes in this array\n",
    "my_array2[3] = 7\n",
    "my_array2\n",
    "#will that change be part of my_array\n",
    "print(my_array)\n",
    "\n",
    "#Takeaway : slicing of array doesnot create a copy, it just allows you to zoom-in.\n",
    "my_array2[:] = 3\n",
    "print(my_array2)\n",
    "my_array"
   ]
  },
  {
   "cell_type": "code",
   "execution_count": 1,
   "id": "2fa603d8",
   "metadata": {},
   "outputs": [
    {
     "name": "stdout",
     "output_type": "stream",
     "text": [
      "['G', 'e', 'e', 'k', 's', ' ', '4', ' ', 'G', 'e', 'e', 'k', 's', '!']\n"
     ]
    }
   ],
   "source": [
    "#let's practice list comprehension\n",
    "#newList = [ expression(element) for element in oldList if condition ] \n",
    "# Using list comprehension to iterate through loop\n",
    "List = [character for character in 'Geeks 4 Geeks!']\n",
    "\n",
    "# Displaying list\n",
    "print(List)"
   ]
  },
  {
   "cell_type": "code",
   "execution_count": 2,
   "id": "aa76f09e",
   "metadata": {},
   "outputs": [
    {
     "name": "stdout",
     "output_type": "stream",
     "text": [
      "['G', 'e', 'e', 'k', 's', ' ', '4', ' ', 'G', 'e', 'e', 'k', 's', '!']\n"
     ]
    }
   ],
   "source": [
    "# Using list comprehension to iterate through loop\n",
    "List = [i for i in 'Geeks 4 Geeks!']\n",
    "\n",
    "# Displaying list\n",
    "print(List)\n"
   ]
  }
 ],
 "metadata": {
  "kernelspec": {
   "display_name": "Python 3 (ipykernel)",
   "language": "python",
   "name": "python3"
  },
  "language_info": {
   "codemirror_mode": {
    "name": "ipython",
    "version": 3
   },
   "file_extension": ".py",
   "mimetype": "text/x-python",
   "name": "python",
   "nbconvert_exporter": "python",
   "pygments_lexer": "ipython3",
   "version": "3.9.12"
  }
 },
 "nbformat": 4,
 "nbformat_minor": 5
}
