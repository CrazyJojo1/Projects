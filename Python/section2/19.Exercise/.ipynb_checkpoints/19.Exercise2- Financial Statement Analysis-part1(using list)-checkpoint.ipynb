{
 "cells": [
  {
   "cell_type": "code",
   "execution_count": 2,
   "metadata": {},
   "outputs": [],
   "source": [
    "#Data \n",
    "revenue = [14574.49, 7606.46, 8611.41, 9175.41, 8058.65, 8105.44, 11496.28, 9766.09, 10305.32, 14379.96, 10713.97, 15433.50]\n",
    "expenses = [12051.82, 5695.07, 12319.20, 12089.72, 8658.57, 840.20, 3285.73, 5821.12, 6976.93, 16618.61, 10054.37, 3803.96]"
   ]
  },
  {
   "cell_type": "code",
   "execution_count": 3,
   "metadata": {},
   "outputs": [
    {
     "name": "stdout",
     "output_type": "stream",
     "text": [
      "[14574.49, 7606.46, 8611.41, 9175.41, 8058.65, 8105.44, 11496.28, 9766.09, 10305.32, 14379.96, 10713.97, 15433.5]\n",
      "12\n",
      "[12051.82, 5695.07, 12319.2, 12089.72, 8658.57, 840.2, 3285.73, 5821.12, 6976.93, 16618.61, 10054.37, 3803.96]\n",
      "12\n"
     ]
    },
    {
     "data": {
      "text/plain": [
       "list"
      ]
     },
     "execution_count": 3,
     "metadata": {},
     "output_type": "execute_result"
    }
   ],
   "source": [
    "#exploring data\n",
    "print(revenue)\n",
    "print(len(revenue))\n",
    "type(revenue)\n",
    "#doing same for expenses\n",
    "print(expenses)\n",
    "print(len(expenses))\n",
    "type(expenses)\n",
    "\n",
    "#so we are working with list and each list has 12 elements"
   ]
  },
  {
   "cell_type": "code",
   "execution_count": 4,
   "metadata": {},
   "outputs": [
    {
     "name": "stdout",
     "output_type": "stream",
     "text": [
      "[2522.67, 1911.3900000000003, -3707.790000000001, -2914.3099999999995, -599.9200000000001, 7265.24, 8210.550000000001, 3944.9700000000003, 3328.3899999999994, -2238.6500000000015, 659.5999999999985, 11629.54]\n",
      "[2522.67, 1911.39, -3707.79, -2914.31, -599.92, 7265.24, 8210.55, 3944.97, 3328.39, -2238.65, 659.6, 11629.54]\n"
     ]
    }
   ],
   "source": [
    "#profit\n",
    "#revenue - expenses\n",
    "#this time don't convert them into arrays\n",
    "#using .append method\n",
    "\n",
    "profit = []  #creating an empty list\n",
    "for i in range(len(revenue)):\n",
    "    profit.append(revenue[i]-expenses[i])\n",
    "print(profit)\n",
    "#this gives me the profit\n",
    "#rounding off to 2 decimal places\n",
    "profit = [round(i,2) for i in profit]\n",
    "print(profit)"
   ]
  },
  {
   "cell_type": "markdown",
   "metadata": {},
   "source": [
    "### Negative value of profit means expenses is more than the revenue."
   ]
  },
  {
   "cell_type": "code",
   "execution_count": 5,
   "metadata": {},
   "outputs": [
    {
     "name": "stdout",
     "output_type": "stream",
     "text": [
      "[1765.869, 1337.973, -2595.453, -2040.0169999999998, -419.94399999999996, 5085.668, 5747.384999999999, 2761.479, 2329.8729999999996, -1567.055, 461.71999999999997, 8140.678]\n",
      "[1765.87, 1337.97, -2595.45, -2040.02, -419.94, 5085.67, 5747.38, 2761.48, 2329.87, -1567.06, 461.72, 8140.68]\n"
     ]
    }
   ],
   "source": [
    "tax_rate = 0.3\n",
    "#calculate taxable income \n",
    "#taxable income = profit * tax\n",
    "#PAT = profit - taxable income = profit(1- 0.3)\n",
    "#you will again use an append method \n",
    "PAT = []\n",
    "for i in range(len(revenue)):\n",
    "    PAT.append(profit[i]*0.7)\n",
    "print(PAT)\n",
    "#rounding off to 2 decimal places\n",
    "PAT = [round(i,2) for i in PAT]\n",
    "print(PAT)\n",
    "#This gives us PAT"
   ]
  },
  {
   "cell_type": "code",
   "execution_count": 6,
   "metadata": {
    "scrolled": true
   },
   "outputs": [
    {
     "name": "stdout",
     "output_type": "stream",
     "text": [
      "[0.1211617010269313, 0.17589916991609764, -0.3013966353942037, -0.2223355686557876, -0.05211046515235182, 0.6274391026273712, 0.49993389165886704, 0.28276208800041774, 0.22608419728839085, -0.10897526835957819, 0.043095136536689956, 0.527468169890174]\n"
     ]
    },
    {
     "data": {
      "text/plain": [
       "[12.12,\n",
       " 17.59,\n",
       " -30.14,\n",
       " -22.23,\n",
       " -5.21,\n",
       " 62.74,\n",
       " 49.99,\n",
       " 28.28,\n",
       " 22.61,\n",
       " -10.9,\n",
       " 4.31,\n",
       " 52.75]"
      ]
     },
     "execution_count": 6,
     "metadata": {},
     "output_type": "execute_result"
    }
   ],
   "source": [
    "#Profit margin = PAT/revenue\n",
    "Profit_margin = []\n",
    "for i in range(len(revenue)):\n",
    "    Profit_margin.append(PAT[i]/revenue[i])\n",
    "print(Profit_margin)\n",
    "#to have profit_margin in percentage\n",
    "Profit_margin = [round(i*100, 2) for i in Profit_margin]\n",
    "Profit_margin"
   ]
  },
  {
   "cell_type": "markdown",
   "metadata": {},
   "source": [
    "### Using list comprehension to create a list when <u>rounding off</u>\n",
    "Rounding off a list to certain decimal places. <br>\n",
    "```python \n",
    "Profit_margin = [0.1211617010269313, 0.17589916991609764, -0.3013966353942037, -0.2223355686557876, -0.05211046515235182, 0.6274391026273712, 0.49993389165886704, 0.28276208800041774, 0.22608419728839085, -0.10897526835957819, 0.043095136536689956, 0.527468169890174]\n",
    "#Now you need to round off to two decimal places \n",
    "Profit_margin = [round(i,2) for i in Profit_margin]\n",
    "#result:-\n",
    "Profit_margin = [0.12, 0.18, -0.3, -0.22, -0.05, 0.63, 0.5, 0.28, 0.23, -0.11, 0.04, 0.53]\n",
    "```\n",
    "\n",
    "To get percentage \n",
    "```python \n",
    "Profit_margin = [0.1211617010269313, 0.17589916991609764, -0.3013966353942037, -0.2223355686557876, -0.05211046515235182, 0.6274391026273712, 0.49993389165886704, 0.28276208800041774, 0.22608419728839085, -0.10897526835957819, 0.043095136536689956, 0.527468169890174]\n",
    "#Now you need to round off to two decimal places \n",
    "Profit_margin = [round(i*100,2) for i in Profit_margin]   #i*100 to get the percentage\n",
    "#result:-\n",
    "Profit_margin = [0.12, 0.18, -0.3, -0.22, -0.05, 0.63, 0.5, 0.28, 0.23, -0.11, 0.04, 0.53]\n",
    "```\n",
    "  **What is happening above?**\n",
    "[round(i,2) for i in list_name] means Use For loop to rounding off each element and then put them in a list.\n",
    "\n",
    " ### Using if condition in List comprehension - \n",
    "don't use PAT[i] for specifying individual element of a list. Instead use i\n",
    "```python\n",
    "#good months\n",
    "#PAT> PAT_mean\n",
    "#Syntax : newList = [ expression(element) for element in oldList if condition ] \n",
    "Good_months = [i for i in PAT if i > PAT_mean]   #pay attention to- i > PAT_mean in 'if statement'\n",
    "Good_months\n",
    "#result \n",
    "Good_months = [1765.87, 5085.67, 5747.38, 2761.48, 2329.87, 8140.68]\n",
    "```"
   ]
  },
  {
   "cell_type": "code",
   "execution_count": 7,
   "metadata": {},
   "outputs": [
    {
     "name": "stdout",
     "output_type": "stream",
     "text": [
      "21008.17\n",
      "1750.68\n",
      "<class 'float'>\n"
     ]
    }
   ],
   "source": [
    "#calculating mean for PAT\n",
    "print(sum(PAT))  \n",
    "len(PAT)\n",
    "PAT_mean =round((sum(PAT) / len(PAT)),2)\n",
    "print(PAT_mean)\n",
    "print(type(PAT_mean))\n"
   ]
  },
  {
   "cell_type": "markdown",
   "metadata": {},
   "source": [
    "### Using functions on list\n",
    "1. sum()\n",
    "2. min()\n",
    "3. max()\n",
    "\n",
    "Syntax:\n",
    "function_name(list_name) .\n",
    "\n",
    "```python\n",
    "sum(PAT)\n",
    "min(PAT)\n",
    "max(PAT\n",
    "```"
   ]
  },
  {
   "cell_type": "code",
   "execution_count": 9,
   "metadata": {
    "scrolled": true
   },
   "outputs": [
    {
     "name": "stdout",
     "output_type": "stream",
     "text": [
      "1765.87\n",
      "5085.67\n",
      "5747.38\n",
      "2761.48\n",
      "2329.87\n",
      "8140.68\n",
      "[1765.87, 0, 0, 0, 0, 5085.67, 5747.38, 2761.48, 2329.87, 0, 0, 8140.68]\n"
     ]
    }
   ],
   "source": [
    "#use loops\n",
    "Good_months = [0,0,0,0,0,0,0,0,0,0,0,0]  #initialisation\n",
    "for i in range(len(PAT)):\n",
    "    if PAT[i] > PAT_mean:\n",
    "        print(PAT[i])\n",
    "        Good_months[i] = round(PAT[i],2)\n",
    "print(Good_months)\n"
   ]
  },
  {
   "cell_type": "code",
   "execution_count": 42,
   "metadata": {
    "scrolled": true
   },
   "outputs": [
    {
     "name": "stdout",
     "output_type": "stream",
     "text": [
      "1337.9730000000002\n",
      "-2595.4530000000004\n",
      "-2040.0169999999996\n",
      "-419.944\n",
      "-1567.055000000001\n",
      "461.71999999999895\n",
      "[0, 1337.97, -2595.45, -2040.02, -419.94, 0, 0, 0, 0, -1567.06, 461.72, 0]\n"
     ]
    }
   ],
   "source": [
    "#use loops\n",
    "Bad_months = [0,0,0,0,0,0,0,0,0,0,0,0]  #initialisation\n",
    "for i in range(len(PAT)):\n",
    "    if PAT[i] < PAT_mean:\n",
    "        print(PAT[i])\n",
    "        Bad_months[i] = round(PAT[i],2)\n",
    "print(Bad_months)"
   ]
  },
  {
   "cell_type": "code",
   "execution_count": 47,
   "metadata": {},
   "outputs": [
    {
     "name": "stdout",
     "output_type": "stream",
     "text": [
      "8140.678\n",
      "-2595.4530000000004\n"
     ]
    }
   ],
   "source": [
    "#best month = max value of PAT\n",
    "best_month= max(PAT)\n",
    "print(best_month)\n",
    "#worst month = min value of PAT\n",
    "worst_month = min(PAT)\n",
    "print(worst_month)"
   ]
  },
  {
   "cell_type": "code",
   "execution_count": 50,
   "metadata": {},
   "outputs": [
    {
     "data": {
      "text/plain": [
       "[[2522.67,\n",
       "  1911.3900000000003,\n",
       "  -3707.790000000001,\n",
       "  -2914.3099999999995,\n",
       "  -599.9200000000001,\n",
       "  7265.24,\n",
       "  8210.550000000001,\n",
       "  3944.9700000000003,\n",
       "  3328.3899999999994,\n",
       "  -2238.6500000000015,\n",
       "  659.5999999999985,\n",
       "  11629.54],\n",
       " [1765.869,\n",
       "  1337.9730000000002,\n",
       "  -2595.4530000000004,\n",
       "  -2040.0169999999996,\n",
       "  -419.944,\n",
       "  5085.668,\n",
       "  5747.385,\n",
       "  2761.479,\n",
       "  2329.8729999999996,\n",
       "  -1567.055000000001,\n",
       "  461.71999999999895,\n",
       "  8140.678],\n",
       " [0.12, 0.18, -0.3, -0.22, -0.05, 0.63, 0.5, 0.28, 0.23, -0.11, 0.04, 0.53],\n",
       " 1750.68,\n",
       " [1765.87, 0, 0, 0, 0, 5085.67, 5747.39, 2761.48, 2329.87, 0, 0, 8140.68],\n",
       " [0, 1337.97, -2595.45, -2040.02, -419.94, 0, 0, 0, 0, -1567.06, 461.72, 0],\n",
       " 8140.678,\n",
       " -2595.4530000000004]"
      ]
     },
     "execution_count": 50,
     "metadata": {},
     "output_type": "execute_result"
    }
   ],
   "source": [
    "#create a list that records all the result\n",
    "Result_file = [profit, PAT, Profit_margin, PAT_mean, Good_months, Bad_months, best_month, worst_month ]\n",
    "Result_file"
   ]
  },
  {
   "cell_type": "code",
   "execution_count": 61,
   "metadata": {
    "scrolled": true
   },
   "outputs": [
    {
     "data": {
      "text/plain": [
       "[1765.87, 5085.67, 5747.38, 2761.48, 2329.87, 8140.68]"
      ]
     },
     "execution_count": 61,
     "metadata": {},
     "output_type": "execute_result"
    }
   ],
   "source": [
    "#good months\n",
    "#PAT> PAT_mean\n",
    "#Syntax : newList = [ expression(element) for element in oldList if condition ] \n",
    "Good_months = [i for i in PAT if i > PAT_mean]\n",
    "Good_months"
   ]
  },
  {
   "cell_type": "code",
   "execution_count": 62,
   "metadata": {},
   "outputs": [
    {
     "data": {
      "text/plain": [
       "[1337.97, -2595.45, -2040.02, -419.94, -1567.06, 461.72]"
      ]
     },
     "execution_count": 62,
     "metadata": {},
     "output_type": "execute_result"
    }
   ],
   "source": [
    "#bad months\n",
    "Bad_months= [i for i in PAT if i < PAT_mean]\n",
    "Bad_months"
   ]
  },
  {
   "cell_type": "code",
   "execution_count": 51,
   "metadata": {},
   "outputs": [
    {
     "data": {
      "text/plain": [
       "[]"
      ]
     },
     "execution_count": 51,
     "metadata": {},
     "output_type": "execute_result"
    }
   ],
   "source": [
    "list([])"
   ]
  },
  {
   "cell_type": "code",
   "execution_count": 52,
   "metadata": {},
   "outputs": [
    {
     "data": {
      "text/plain": [
       "[]"
      ]
     },
     "execution_count": 52,
     "metadata": {},
     "output_type": "execute_result"
    }
   ],
   "source": [
    "[]"
   ]
  },
  {
   "cell_type": "code",
   "execution_count": 69,
   "metadata": {},
   "outputs": [
    {
     "name": "stdout",
     "output_type": "stream",
     "text": [
      "[True, False, False, False, False, True, True, True, True, False, False, True]\n"
     ]
    }
   ],
   "source": [
    "#question asks you to find months that are good - here you don't need the values. just boolean operation is good enough.\n",
    "good_months = []\n",
    "for i in range(len(PAT)):\n",
    "    good_months.append(PAT[i]>PAT_mean)\n",
    "print(good_months)"
   ]
  },
  {
   "cell_type": "code",
   "execution_count": 70,
   "metadata": {},
   "outputs": [
    {
     "name": "stdout",
     "output_type": "stream",
     "text": [
      "[False, True, True, True, True, False, False, False, False, True, True, False]\n"
     ]
    }
   ],
   "source": [
    "bad_months = []\n",
    "for i in range(len(PAT)):\n",
    "    bad_months.append(PAT[i]<PAT_mean)\n",
    "print(bad_months)"
   ]
  },
  {
   "cell_type": "code",
   "execution_count": 67,
   "metadata": {},
   "outputs": [
    {
     "name": "stdout",
     "output_type": "stream",
     "text": [
      "[False, False, False, False, False, False, False, False, False, False, False, True]\n"
     ]
    }
   ],
   "source": [
    "best_month = []\n",
    "for i in range(len(PAT)):\n",
    "    best_month.append(PAT[i] == max(PAT))\n",
    "print(best_month)"
   ]
  },
  {
   "cell_type": "code",
   "execution_count": 71,
   "metadata": {},
   "outputs": [
    {
     "name": "stdout",
     "output_type": "stream",
     "text": [
      "[False, False, True, False, False, False, False, False, False, False, False, False]\n"
     ]
    }
   ],
   "source": [
    "worst_month = []\n",
    "for i in range(len(PAT)):\n",
    "    worst_month.append(PAT[i] == min(PAT))\n",
    "print(worst_month)"
   ]
  },
  {
   "cell_type": "code",
   "execution_count": 73,
   "metadata": {},
   "outputs": [],
   "source": [
    "#convert all the calculations to units of one thoudands dollars\n",
    "revenue_1000 =[round(i/1000,2) for i in revenue]\n",
    "expenses_1000 =[round(i/1000,2) for i in expenses]\n",
    "profit_1000 =[round(i/1000,2) for i in profit]\n",
    "PAT_100 = [round(i/1000,2) for i in PAT]\n",
    "\n",
    "revenue_1000 =[int(i) for i in revenue]\n",
    "expenses_1000 =[int(i) for i in expenses]\n",
    "profit_1000 =[int(i) for i in profit]\n",
    "PAT_100 = [int(i) for i in PAT]"
   ]
  },
  {
   "cell_type": "code",
   "execution_count": 78,
   "metadata": {},
   "outputs": [
    {
     "name": "stdout",
     "output_type": "stream",
     "text": [
      "Revenue:  [14574, 7606, 8611, 9175, 8058, 8105, 11496, 9766, 10305, 14379, 10713, 15433]\n",
      "Expenses:  [12051, 5695, 12319, 12089, 8658, 840, 3285, 5821, 6976, 16618, 10054, 3803]\n",
      "Profit:  [2522, 1911, -3707, -2914, -599, 7265, 8210, 3944, 3328, -2238, 659, 11629]\n",
      "PAT:  [1765, 1337, -2595, -2040, -419, 5085, 5747, 2761, 2329, -1567, 461, 8140]\n",
      "Profit_margin_percentage:  [12.12, 17.59, -30.14, -22.23, -5.21, 62.74, 49.99, 28.28, 22.61, -10.9, 4.31, 52.75]\n",
      "good_months:  [True, False, False, False, False, True, True, True, True, False, False, True]\n",
      "bad_months:  [False, True, True, True, True, False, False, False, False, True, True, False]\n",
      "best_month:  [False, False, False, False, False, False, False, False, False, False, False, True]\n",
      "worst_months:  [False, False, True, False, False, False, False, False, False, False, False, False]\n"
     ]
    }
   ],
   "source": [
    "#print results \n",
    "print(\"Revenue: \", revenue_1000)\n",
    "print(\"Expenses: \", expenses_1000 )\n",
    "print(\"Profit: \", profit_1000)\n",
    "print(\"PAT: \", PAT_100)\n",
    "print(\"Profit_margin_percentage: \",Profit_margin)\n",
    "print(\"good_months: \", good_months)\n",
    "print(\"bad_months: \", bad_months)\n",
    "print(\"best_month: \", best_month)\n",
    "print(\"worst_months: \", worst_month)"
   ]
  }
 ],
 "metadata": {
  "kernelspec": {
   "display_name": "Python 3 (ipykernel)",
   "language": "python",
   "name": "python3"
  },
  "language_info": {
   "codemirror_mode": {
    "name": "ipython",
    "version": 3
   },
   "file_extension": ".py",
   "mimetype": "text/x-python",
   "name": "python",
   "nbconvert_exporter": "python",
   "pygments_lexer": "ipython3",
   "version": "3.9.12"
  }
 },
 "nbformat": 4,
 "nbformat_minor": 1
}
