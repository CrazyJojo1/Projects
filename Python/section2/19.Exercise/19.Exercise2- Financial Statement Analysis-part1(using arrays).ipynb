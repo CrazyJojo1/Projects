{
 "cells": [
  {
   "cell_type": "markdown",
   "id": "1503b364",
   "metadata": {},
   "source": [
    "**Problem for this assignment.** <br>\n",
    "To assess the financial statement of organization X. <br>\n",
    "\n",
    "given - You have two list of data: monthly revenue and monthly expenses (for same financial year) <br>\n",
    "\n",
    "Your goal:  <br>\n",
    "1. profit for each month\n",
    "2. profit after tax for each month (PAT) \n",
    "note: the tax rate is 30% <br>\n",
    "3. profit margin for each month (PAT/REVENUE)\n",
    "4. good months (PAT > PROFIT MEAN OF THE YEAR)\n",
    "5. Bad months (PAT < PROFIT MEAN OF THE YEAR)\n",
    "6. the best month (PAT is max for the year)\n",
    "7. the worst month (PAT is min for the year)\n",
    "\n",
    "All results need to be presented as list.\n",
    "\n",
    "\n",
    "Round all values to two decimal point. All values will be in $1000.\n",
    "\n",
    "Profit margin ratio must have no decimal point and should be in %.\n"
   ]
  },
  {
   "cell_type": "code",
   "execution_count": 16,
   "id": "79012d3f",
   "metadata": {},
   "outputs": [],
   "source": [
    "#Data \n",
    "revenue = [14574.49, 7606.46, 8611.41, 9175.41, 8058.65, 8105.44, 11496.28, 9766.09, 10305.32, 14379.96, 10713.97, 15433.50]\n",
    "expenses = [12051.82, 5695.07, 12319.20, 12089.72, 8658.57, 840.20, 3285.73, 5821.12, 6976.93, 16618.61, 10054.37, 3803.96]"
   ]
  },
  {
   "cell_type": "code",
   "execution_count": 17,
   "id": "797cd771",
   "metadata": {},
   "outputs": [
    {
     "data": {
      "text/plain": [
       "12"
      ]
     },
     "execution_count": 17,
     "metadata": {},
     "output_type": "execute_result"
    }
   ],
   "source": [
    "len(revenue)"
   ]
  },
  {
   "cell_type": "code",
   "execution_count": 18,
   "id": "ddd32973",
   "metadata": {},
   "outputs": [
    {
     "data": {
      "text/plain": [
       "12"
      ]
     },
     "execution_count": 18,
     "metadata": {},
     "output_type": "execute_result"
    }
   ],
   "source": [
    "len(expenses)"
   ]
  },
  {
   "cell_type": "code",
   "execution_count": 19,
   "id": "3977fb54",
   "metadata": {},
   "outputs": [
    {
     "name": "stdout",
     "output_type": "stream",
     "text": [
      "[14574.49  7606.46  8611.41  9175.41  8058.65  8105.44 11496.28  9766.09\n",
      " 10305.32 14379.96 10713.97 15433.5 ]\n",
      "[12051.82  5695.07 12319.2  12089.72  8658.57   840.2   3285.73  5821.12\n",
      "  6976.93 16618.61 10054.37  3803.96]\n"
     ]
    },
    {
     "data": {
      "text/plain": [
       "numpy.ndarray"
      ]
     },
     "execution_count": 19,
     "metadata": {},
     "output_type": "execute_result"
    }
   ],
   "source": [
    "#profit = revenue - expenses\n",
    "#can I do vector operations like I did in R\n",
    "#let's see\n",
    "#not possible\n",
    "#Why not convert it into an array\n",
    "import numpy as np\n",
    "type(revenue)\n",
    "type(expenses)\n",
    "Rev = np.array(revenue)\n",
    "Exp = np.array(expenses)\n",
    "print(Rev)\n",
    "print(Exp)\n",
    "type(Rev)\n",
    "type(Exp)"
   ]
  },
  {
   "cell_type": "code",
   "execution_count": 20,
   "id": "6ff3bba0",
   "metadata": {},
   "outputs": [
    {
     "data": {
      "text/plain": [
       "array([ 2522.67,  1911.39, -3707.79, -2914.31,  -599.92,  7265.24,\n",
       "        8210.55,  3944.97,  3328.39, -2238.65,   659.6 , 11629.54])"
      ]
     },
     "execution_count": 20,
     "metadata": {},
     "output_type": "execute_result"
    }
   ],
   "source": [
    "#applying vector operations on arrays\n",
    "Profit = Rev-Exp\n",
    "#damn\n",
    "Profit  #this will be profit for each month\n",
    "#but we will have to convert it back to list ...?? how to ??\n",
    "#do it in the end"
   ]
  },
  {
   "cell_type": "code",
   "execution_count": 21,
   "id": "802aff87",
   "metadata": {},
   "outputs": [
    {
     "data": {
      "text/plain": [
       "array([ 1765.869,  1337.973, -2595.453, -2040.017,  -419.944,  5085.668,\n",
       "        5747.385,  2761.479,  2329.873, -1567.055,   461.72 ,  8140.678])"
      ]
     },
     "execution_count": 21,
     "metadata": {},
     "output_type": "execute_result"
    }
   ],
   "source": [
    "#profit after tax = profit * tax rate \n",
    "tax_rate = 0.3\n",
    "PAT = Profit * (1-tax_rate) \n",
    "PAT\n",
    "#This is your second result"
   ]
  },
  {
   "cell_type": "code",
   "execution_count": 22,
   "id": "137fe794",
   "metadata": {},
   "outputs": [
    {
     "data": {
      "text/plain": [
       "array([ 0.12116163,  0.17589956, -0.30139698, -0.22233524, -0.05211096,\n",
       "        0.62743886,  0.49993433,  0.28276199,  0.22608449, -0.10897492,\n",
       "        0.04309514,  0.52746804])"
      ]
     },
     "execution_count": 22,
     "metadata": {},
     "output_type": "execute_result"
    }
   ],
   "source": [
    "#profit margin for each month (PAT/ revenue)\n",
    "Profit_margin = PAT/Rev\n",
    "Profit_margin\n",
    "#This is going to be your third answer"
   ]
  },
  {
   "cell_type": "code",
   "execution_count": 23,
   "id": "8b04bf08",
   "metadata": {},
   "outputs": [
    {
     "ename": "NameError",
     "evalue": "name 'Margin' is not defined",
     "output_type": "error",
     "traceback": [
      "\u001b[0;31m---------------------------------------------------------------------------\u001b[0m",
      "\u001b[0;31mNameError\u001b[0m                                 Traceback (most recent call last)",
      "Input \u001b[0;32mIn [23]\u001b[0m, in \u001b[0;36m<cell line: 2>\u001b[0;34m()\u001b[0m\n\u001b[1;32m      1\u001b[0m \u001b[38;5;28;01mimport\u001b[39;00m \u001b[38;5;21;01mmath\u001b[39;00m\n\u001b[0;32m----> 2\u001b[0m math\u001b[38;5;241m.\u001b[39mfloor(\u001b[43mMargin\u001b[49m\u001b[38;5;241m.\u001b[39mround(\u001b[38;5;241m2\u001b[39m) \u001b[38;5;241m*\u001b[39m\u001b[38;5;241m100\u001b[39m)\n",
      "\u001b[0;31mNameError\u001b[0m: name 'Margin' is not defined"
     ]
    }
   ],
   "source": [
    "import math\n",
    "math.floor(Margin.round(2) *100)"
   ]
  },
  {
   "cell_type": "code",
   "execution_count": 24,
   "id": "49a14c0c",
   "metadata": {},
   "outputs": [
    {
     "data": {
      "text/plain": [
       "45"
      ]
     },
     "execution_count": 24,
     "metadata": {},
     "output_type": "execute_result"
    }
   ],
   "source": [
    "int(55.555555)  #using int() to convert a float type to integer\n",
    "#But... int() can only be used for single number. Nor for array\n",
    "math.floor(45.780980980492381984) #same as int() "
   ]
  },
  {
   "cell_type": "code",
   "execution_count": 25,
   "id": "fb2a9a4e",
   "metadata": {},
   "outputs": [
    {
     "data": {
      "text/plain": [
       "1750.6813333333332"
      ]
     },
     "execution_count": 25,
     "metadata": {},
     "output_type": "execute_result"
    }
   ],
   "source": [
    "#finding the good months\n",
    "#good months (PAT > PROFIT MEAN OF THE YEAR)\n",
    "#This looks like a condition \n",
    "#apply if statement for it\n",
    "#But before you do that ... you must know the mean\n",
    "\n",
    "#to calculate mean ... let's use dot and tab. it is an array.. cool idea\n",
    "#do we need to find mean of the profit?\n",
    "#or \n",
    "#mean of the PAT?\n",
    "#since we are comparing PAT of a month with the mean of the year. Mean must be of PAT.\n",
    "#comparing like things is common sense.\n",
    "#OK\n",
    "PAT_mean = PAT.mean()\n",
    "PAT_mean"
   ]
  },
  {
   "cell_type": "code",
   "execution_count": 26,
   "id": "e2ab5f44",
   "metadata": {},
   "outputs": [
    {
     "data": {
      "text/plain": [
       "array([ 1765.869,  1337.973, -2595.453, -2040.017,  -419.944,  5085.668,\n",
       "        5747.385,  2761.479,  2329.873, -1567.055,   461.72 ,  8140.678])"
      ]
     },
     "execution_count": 26,
     "metadata": {},
     "output_type": "execute_result"
    }
   ],
   "source": [
    "PAT"
   ]
  },
  {
   "cell_type": "code",
   "execution_count": 27,
   "id": "2afc3e29",
   "metadata": {},
   "outputs": [
    {
     "data": {
      "text/plain": [
       "1750.6813333333332"
      ]
     },
     "execution_count": 27,
     "metadata": {},
     "output_type": "execute_result"
    }
   ],
   "source": [
    "PAT_mean"
   ]
  },
  {
   "cell_type": "code",
   "execution_count": 28,
   "id": "8d2c8ed7",
   "metadata": {},
   "outputs": [
    {
     "data": {
      "text/plain": [
       "1765.869"
      ]
     },
     "execution_count": 28,
     "metadata": {},
     "output_type": "execute_result"
    }
   ],
   "source": [
    "PAT[0]"
   ]
  },
  {
   "cell_type": "code",
   "execution_count": 29,
   "id": "e78071ac",
   "metadata": {},
   "outputs": [
    {
     "name": "stdout",
     "output_type": "stream",
     "text": [
      "1   =   1765.869\n",
      "6   =   5085.668\n",
      "7   =   5747.385\n",
      "8   =   2761.479\n",
      "9   =   2329.8729999999996\n",
      "12   =   8140.678\n"
     ]
    }
   ],
   "source": [
    "#let's apply if statements now\n",
    "#wait ... what if you can apply else if for this ... calcualte good months, bad months together\n",
    "#ok\n",
    "#if PAT.any() > PAT_mean:\n",
    "#    print(\"Good Month\")\n",
    "#Since you need to check each individual value with PAT_mean. apply for loop\n",
    "for i in range(len(PAT)):\n",
    "    if PAT[i] > PAT_mean:\n",
    "        print(i+1, \" \", \"=\",\" \",PAT[i])\n",
    "#do test run first   \n",
    "#it works\n",
    "#do the same but separately for bad months"
   ]
  },
  {
   "cell_type": "code",
   "execution_count": 30,
   "id": "74a0b7d0",
   "metadata": {},
   "outputs": [
    {
     "name": "stdout",
     "output_type": "stream",
     "text": [
      "1   =   1765.87\n",
      "6   =   5085.67\n",
      "7   =   5747.38\n",
      "8   =   2761.48\n",
      "9   =   2329.87\n",
      "12   =   8140.68\n",
      "[1765    0    0    0    0 5085 5747 2761 2329    0    0 8140]\n"
     ]
    },
    {
     "data": {
      "text/plain": [
       "numpy.ndarray"
      ]
     },
     "execution_count": 30,
     "metadata": {},
     "output_type": "execute_result"
    }
   ],
   "source": [
    "Good_months = np.array([0]*12)\n",
    "for i in range(len(PAT)):\n",
    "    if PAT[i] > PAT_mean:\n",
    "        Good_months[i] = PAT[i].round(2)\n",
    "        print(i+1, \" \", \"=\",\" \",PAT[i].round(2))\n",
    "\n",
    "print(Good_months)\n",
    "type(Good_months)"
   ]
  },
  {
   "cell_type": "code",
   "execution_count": 31,
   "id": "c4a21cd5",
   "metadata": {
    "scrolled": true
   },
   "outputs": [
    {
     "name": "stdout",
     "output_type": "stream",
     "text": [
      "2   =   1337.97\n",
      "3   =   -2595.45\n",
      "4   =   -2040.02\n",
      "5   =   -419.94\n",
      "10   =   -1567.06\n",
      "11   =   461.72\n"
     ]
    }
   ],
   "source": [
    "for i in range(len(PAT)):\n",
    "    if PAT[i] < PAT_mean:\n",
    "        print(i+1, \" \", \"=\",\" \",round(PAT[i],2))\n",
    "#you need to store these values into an object.\n",
    "#ok\n",
    "#initialisation concept\n",
    "#try in another cell"
   ]
  },
  {
   "cell_type": "code",
   "execution_count": 32,
   "id": "76665241",
   "metadata": {},
   "outputs": [
    {
     "name": "stdout",
     "output_type": "stream",
     "text": [
      "2   =   1337.97\n",
      "3   =   -2595.45\n",
      "4   =   -2040.02\n",
      "5   =   -419.94\n",
      "10   =   -1567.06\n",
      "11   =   461.72\n",
      "[    0  1337 -2595 -2040  -419     0     0     0     0 -1567   461     0]\n"
     ]
    },
    {
     "data": {
      "text/plain": [
       "numpy.ndarray"
      ]
     },
     "execution_count": 32,
     "metadata": {},
     "output_type": "execute_result"
    }
   ],
   "source": [
    "Bad_months = np.array([0]*12)\n",
    "for i in range(len(PAT)):\n",
    "    if PAT[i] < PAT_mean:\n",
    "        Bad_months[i] = PAT[i].round(2)\n",
    "        print(i+1, \" \", \"=\",\" \",PAT[i].round(2))\n",
    "\n",
    "print(Bad_months)\n",
    "type(Bad_months)"
   ]
  },
  {
   "cell_type": "code",
   "execution_count": 33,
   "id": "a403c58c",
   "metadata": {},
   "outputs": [
    {
     "data": {
      "text/plain": [
       "8140.678"
      ]
     },
     "execution_count": 33,
     "metadata": {},
     "output_type": "execute_result"
    }
   ],
   "source": [
    "#the best month (PAT is max for the year)\n",
    "#for this ... you don't need to use loops or if \n",
    "#Why\n",
    "#we have dot and tab ... array non-sense\n",
    "PAT_max = PAT.max()\n",
    "Best_month = PAT_max\n",
    "Best_month"
   ]
  },
  {
   "cell_type": "code",
   "execution_count": 34,
   "id": "2d03f61a",
   "metadata": {},
   "outputs": [
    {
     "data": {
      "text/plain": [
       "-2595.4530000000004"
      ]
     },
     "execution_count": 34,
     "metadata": {},
     "output_type": "execute_result"
    }
   ],
   "source": [
    "#the worst month (PAT is min for the year)\n",
    "PAT_min = PAT.min()\n",
    "Worst_month=PAT_min\n",
    "Worst_month"
   ]
  },
  {
   "cell_type": "code",
   "execution_count": 35,
   "id": "6f2d39f3",
   "metadata": {},
   "outputs": [],
   "source": [
    "#We need to get the decimal point right\n",
    "#storing the values in to a list\n",
    "Fin_Analysis = [Profit.round(2),PAT.round(2),Profit_margin.round(2),Good_months,Bad_months,Best_month.round(2),Worst_month.round(2)]"
   ]
  },
  {
   "cell_type": "code",
   "execution_count": 36,
   "id": "6f8a439b",
   "metadata": {},
   "outputs": [
    {
     "data": {
      "text/plain": [
       "[array([ 2522.67,  1911.39, -3707.79, -2914.31,  -599.92,  7265.24,\n",
       "         8210.55,  3944.97,  3328.39, -2238.65,   659.6 , 11629.54]),\n",
       " array([ 1765.87,  1337.97, -2595.45, -2040.02,  -419.94,  5085.67,\n",
       "         5747.38,  2761.48,  2329.87, -1567.06,   461.72,  8140.68]),\n",
       " array([ 0.12,  0.18, -0.3 , -0.22, -0.05,  0.63,  0.5 ,  0.28,  0.23,\n",
       "        -0.11,  0.04,  0.53]),\n",
       " array([1765,    0,    0,    0,    0, 5085, 5747, 2761, 2329,    0,    0,\n",
       "        8140]),\n",
       " array([    0,  1337, -2595, -2040,  -419,     0,     0,     0,     0,\n",
       "        -1567,   461,     0]),\n",
       " 8140.68,\n",
       " -2595.45]"
      ]
     },
     "execution_count": 36,
     "metadata": {},
     "output_type": "execute_result"
    }
   ],
   "source": [
    "Fin_Analysis"
   ]
  },
  {
   "cell_type": "markdown",
   "id": "679f8456",
   "metadata": {},
   "source": [
    "**initialisation of arrays** <br>\n",
    "\n",
    "Let's say you are working with a loop.  <br>\n",
    "And, you need to store the result in a variable (an object). <br>\n",
    "For that, you would need to use initialisation. <br>\n",
    "\n",
    "Think of initialisation as creating an empty shell in which you put your result. But this empty shell must be of same length in order for it to house all the result values in it.  <br>\n",
    "\n",
    "Below is the code that I created... pay attention to initialisation <br>\n",
    "```python\n",
    "Good_months = np.array([0]*12)  #This creates an empty array of length 12\n",
    "for i in range(len(PAT)):\n",
    "    if PAT[i] > PAT_mean:\n",
    "        Good_months[i] = PAT[i].round(2)\n",
    "        print(i+1, \" \", \"=\",\" \",PAT[i].round(2))\n",
    "\n",
    "print(Good_months)\n",
    "type(Good_months)\n",
    "```\n",
    "In Python, a List can be treated as an Array.  <br>\n",
    "\n",
    "So, when you need to create an empty array, create an empty list instead.  <br>\n",
    "\n",
    "So, $[0]$ is an empty list and $[0]*12$ is an empty list of length 12.  <br>\n",
    "\n",
    "I am attaching an image of an article that helped in doing that code- <br>\n",
    "<img src=\"empty_list.png\" width=\"750\" height=\"400\" />"
   ]
  },
  {
   "cell_type": "code",
   "execution_count": 2,
   "id": "f1d35287",
   "metadata": {},
   "outputs": [
    {
     "data": {
      "text/plain": [
       "[1, 2, 3]"
      ]
     },
     "execution_count": 2,
     "metadata": {},
     "output_type": "execute_result"
    }
   ],
   "source": [
    "a = list(range(1,4))\n",
    "a"
   ]
  },
  {
   "cell_type": "code",
   "execution_count": 4,
   "id": "4375d28b",
   "metadata": {},
   "outputs": [
    {
     "data": {
      "text/plain": [
       "[4, 5, 6]"
      ]
     },
     "execution_count": 4,
     "metadata": {},
     "output_type": "execute_result"
    }
   ],
   "source": [
    "b = list(range(4,7))\n",
    "b."
   ]
  },
  {
   "cell_type": "code",
   "execution_count": 8,
   "id": "a90fe19d",
   "metadata": {},
   "outputs": [
    {
     "name": "stdout",
     "output_type": "stream",
     "text": [
      "[4, 10, 18]\n"
     ]
    }
   ],
   "source": [
    "#operations with these two list\n",
    "\n",
    "#initialisation (creating an empty list object)\n",
    "x = []\n",
    "for i in range(0,len(a)):\n",
    "    x.append(a[i]*b[i]) #array.append() will add values to an array \n",
    "print(x)\n"
   ]
  },
  {
   "cell_type": "code",
   "execution_count": 7,
   "id": "66efb401",
   "metadata": {},
   "outputs": [
    {
     "name": "stdout",
     "output_type": "stream",
     "text": [
      "[1, 2, 3]\n"
     ]
    },
    {
     "data": {
      "text/plain": [
       "[2, 4, 6]"
      ]
     },
     "execution_count": 7,
     "metadata": {},
     "output_type": "execute_result"
    }
   ],
   "source": [
    "#list comprehensions\n",
    "#list comprehensions provide a concise way to create lists\n",
    "#common applications are to make new lists where each element is the result of some operations applied to \n",
    "#each member of another sequence or iterable, or to create a subsequence of these elements that satisfy \n",
    "#a certain condition\n",
    "\n",
    "a = list(range(1,4))\n",
    "print(a)\n",
    "#list comprehensions\n",
    "y =[i * 2 for i in a]   #you are using square brackets\n",
    "y"
   ]
  },
  {
   "cell_type": "code",
   "execution_count": null,
   "id": "7f3e26f9",
   "metadata": {},
   "outputs": [],
   "source": [
    "#New functions\n",
    "#round()\n",
    "#max()\n",
    "#min()\n"
   ]
  },
  {
   "cell_type": "code",
   "execution_count": 7,
   "id": "07cff0d2",
   "metadata": {},
   "outputs": [
    {
     "data": {
      "text/plain": [
       "[0, 1, 2]"
      ]
     },
     "execution_count": 7,
     "metadata": {},
     "output_type": "execute_result"
    }
   ],
   "source": [
    "range(0,3)\n",
    "list(range(3))"
   ]
  },
  {
   "cell_type": "code",
   "execution_count": null,
   "id": "46c69a60",
   "metadata": {},
   "outputs": [],
   "source": [
    "range(5) #i am specifying the stop and by default the start = 0"
   ]
  },
  {
   "cell_type": "code",
   "execution_count": 47,
   "id": "c8c97a53",
   "metadata": {},
   "outputs": [
    {
     "name": "stdout",
     "output_type": "stream",
     "text": [
      "[1, 2, 3, [3]]\n"
     ]
    }
   ],
   "source": [
    "#practice .append() method. It is used to add something in the end. Just like an appendix.\n",
    "#append() increases the length by 1. \n",
    "a = [1,2,3]\n",
    "b = [3]\n",
    "a.append(b)\n",
    "print(a)     #append() doesnot create a new list, instead it adds a single element to the existing list."
   ]
  },
  {
   "cell_type": "code",
   "execution_count": 46,
   "id": "778e5064",
   "metadata": {
    "scrolled": true
   },
   "outputs": [
    {
     "name": "stdout",
     "output_type": "stream",
     "text": [
      "['geeks', 'for', 'geeks', [6, 0, 4, 1]]\n"
     ]
    }
   ],
   "source": [
    "my_list = ['geeks', 'for', 'geeks']\n",
    "another_list = [6, 0, 4, 1]\n",
    "my_list.append(another_list)\n",
    "print (my_list)"
   ]
  },
  {
   "cell_type": "code",
   "execution_count": 49,
   "id": "7d4a0056",
   "metadata": {},
   "outputs": [
    {
     "name": "stdout",
     "output_type": "stream",
     "text": [
      "['geeks', 'for', 'geeks', [6, 0, 4, 1], [1, 2, 3, [3]], [1, 2, 3, [3]]]\n"
     ]
    }
   ],
   "source": [
    "my_list.append(a)\n",
    "print(my_list)\n",
    "#note: it has added the entire list as a single list object "
   ]
  },
  {
   "cell_type": "markdown",
   "id": "8ee5ab80",
   "metadata": {},
   "source": [
    "**List append() method in python** <br>\n",
    "\n",
    "- .append() allows you to add a 'single new element' at the end of a list. <br>\n",
    "- This increases the length of your list to be increased by 1. <br>\n",
    " **Syntax:** <br>\n",
    "list(to which you want to add to) . append(elements that you wish to add) <br>\n",
    "\n",
    "Below are some of the examples:- <br>\n",
    "```python\n",
    "sample1 = [\"Hello\", \"sir\", 1,2,3,4,8]\n",
    "sample1.append(10) #i am additional a list of single element to sample1\n",
    "#see if new element as been added\n",
    "print(sample1)\n",
    "sample1 = ['Hello', 'sir', 1, 2, 3, 4, 8, 10] #10 has been added\n",
    "#check its length\n",
    "len(sample1) = 8\n",
    "#-----------------------------------\n",
    "#append method will only increase the length of a list by 1\n",
    "sample2 = [50.45,56,78.90,48,3]\n",
    "sample1.append(sample2)\n",
    "print(sample1)\n",
    "sample1 = ['Hello', 'sir', 1, 2, 3, 4, 8, 10, [50.45, 56, 78.9, 48, 3]]\n",
    "#check the length after using append \n",
    "len(sample1) = 9  #note: length is just increased by 1\n",
    "#------------------------------------\n",
    "#let's add sample 1 to sample2 \n",
    "sample2.append(sample1)\n",
    "print(sample2)\n",
    "sample2 = [50.45, 56, 78.9, 48, 3, ['Hello', 'sir', 1, 2, 3, 4, 8, 10, [...]]]\n",
    "```\n",
    "\n",
    "#how to use append method for loops  <br>\n",
    "```python\n",
    "x = []  #i have created an empty list\n",
    "a = [1,2,3]\n",
    "b = [5,6,7] \n",
    "for i in range(len(a)):    #range(len(a)) is very similar to saying range(3) as length of a is 3\n",
    "    x.append(a[i] * b[i]) \n",
    "\n",
    "print(x)\n",
    "#result : [5, 12, 21]\n",
    "```"
   ]
  },
  {
   "cell_type": "code",
   "execution_count": 4,
   "id": "7394d2f6",
   "metadata": {},
   "outputs": [
    {
     "name": "stdout",
     "output_type": "stream",
     "text": [
      "['Hello', 'sir', 1, 2, 3, 4, 8, 10, [50.45, 56, 78.9, 48, 3]]\n"
     ]
    },
    {
     "data": {
      "text/plain": [
       "9"
      ]
     },
     "execution_count": 4,
     "metadata": {},
     "output_type": "execute_result"
    }
   ],
   "source": [
    "sample1 = [\"Hello\", \"sir\", 1,2,3,4,8]\n",
    "sample1.append(10) #i am additional a single element to sample1\n",
    "sample1\n",
    "#.append will only increase the length of a list by 1\n",
    "sample2 = [50.45,56,78.90,48,3]\n",
    "sample1.append(sample2)\n",
    "print(sample1)\n",
    "len(sample1)"
   ]
  },
  {
   "cell_type": "code",
   "execution_count": 2,
   "id": "5bd95edb",
   "metadata": {},
   "outputs": [
    {
     "name": "stdout",
     "output_type": "stream",
     "text": [
      "8\n"
     ]
    }
   ],
   "source": [
    "sample1 = [\"Hello\", \"sir\", 1,2,3,4,8]\n",
    "sample1.append(10) #i am additional a single element to sample1\n",
    "sample1\n",
    "print(len(sample1))"
   ]
  },
  {
   "cell_type": "code",
   "execution_count": 5,
   "id": "17f42716",
   "metadata": {},
   "outputs": [
    {
     "name": "stdout",
     "output_type": "stream",
     "text": [
      "[50.45, 56, 78.9, 48, 3, ['Hello', 'sir', 1, 2, 3, 4, 8, 10, [...]]]\n"
     ]
    }
   ],
   "source": [
    "sample2.append(sample1)\n",
    "print(sample2)"
   ]
  },
  {
   "cell_type": "code",
   "execution_count": 6,
   "id": "40265c96",
   "metadata": {},
   "outputs": [
    {
     "name": "stdout",
     "output_type": "stream",
     "text": [
      "[5, 12, 21]\n"
     ]
    }
   ],
   "source": [
    "x = []  #i have created an empty list\n",
    "a = [1,2,3]\n",
    "b = [5,6,7] \n",
    "for i in range(len(a)):    #range(len(a)) is very similar to saying range(3) as length of a is 3\n",
    "    x.append(a[i] * b[i]) \n",
    "\n",
    "print(x)"
   ]
  },
  {
   "cell_type": "markdown",
   "id": "af4f6218",
   "metadata": {},
   "source": [
    "**List comprehension** <br>\n",
    "\n",
    " **Syntax : newList = [ expression(element) ```for``` element ```in``` oldList ```if condition``` ]**  <br>\n",
    " \n",
    "<u> - it is short and simple way to create a new list from an existing list when you are working with loops and if statements.</u>  <br>\n",
    " Note: you must place the syntax in square bracket; [ ]  <br>\n",
    " \n",
    " let's see the examples to better understand it-  <br>\n",
    " ```python\n",
    "a = [1,2,3]\n",
    "newList = [i for i in a]\n",
    "print(newList)\n",
    "#result-\n",
    "#newlist = [1, 2, 3]\n",
    "```\n",
    "\n",
    "```python\n",
    "newlist2 =[i for i in range(15) if i % 2 == 0]\n",
    "print(newlist2)\n",
    "#result\n",
    "# newlist2 = [0, 2, 4, 6, 8, 10, 12, 14]\n",
    "```\n",
    "\n",
    "```python\n",
    "a = list(range(1,4))\n",
    "print(a) = [1, 2, 3]\n",
    "#list comprehensions\n",
    "y =[i * 2 for i in a]   #you are using square brackets\n",
    "y\n",
    "#result\n",
    "y = [2, 4, 6]\n",
    "```"
   ]
  },
  {
   "cell_type": "code",
   "execution_count": 8,
   "id": "1c6024b9",
   "metadata": {},
   "outputs": [
    {
     "name": "stdout",
     "output_type": "stream",
     "text": [
      "[1, 2, 3]\n"
     ]
    }
   ],
   "source": [
    "a = [1,2,3]\n",
    "newList = [i for i in a]\n",
    "print(newList)"
   ]
  },
  {
   "cell_type": "code",
   "execution_count": 12,
   "id": "108cccb5",
   "metadata": {},
   "outputs": [
    {
     "name": "stdout",
     "output_type": "stream",
     "text": [
      "[0, 2, 4, 6, 8, 10, 12, 14]\n"
     ]
    }
   ],
   "source": [
    "newlist2 =[i for i in range(15) if i % 2 == 0]\n",
    "print(newlist2)"
   ]
  }
 ],
 "metadata": {
  "kernelspec": {
   "display_name": "Python 3 (ipykernel)",
   "language": "python",
   "name": "python3"
  },
  "language_info": {
   "codemirror_mode": {
    "name": "ipython",
    "version": 3
   },
   "file_extension": ".py",
   "mimetype": "text/x-python",
   "name": "python",
   "nbconvert_exporter": "python",
   "pygments_lexer": "ipython3",
   "version": "3.9.12"
  }
 },
 "nbformat": 4,
 "nbformat_minor": 5
}
