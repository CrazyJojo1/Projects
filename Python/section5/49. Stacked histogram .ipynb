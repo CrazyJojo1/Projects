{
 "cells": [
  {
   "cell_type": "markdown",
   "id": "e49394ff",
   "metadata": {},
   "source": [
    "# Stacked Histogram\n",
    "\n",
    "Distribution chart where **list of items** are stacked on top of each other.\n",
    "\n",
    "![](stacked.png)\n",
    "\n",
    "## Use stacked=True for created stacked plot for listed items\n",
    "\n",
    "```python\n",
    "step1- Create a list\n",
    "MyList = [movies[(movies.Genre=='Action')].BudgetMillions,\n",
    "movies[(movies.Genre=='Adventure')].BudgetMillions,\n",
    "movies[(movies.Genre=='Comedy')].BudgetMillions]\n",
    "\n",
    "step2- \n",
    "import matplotlib.pyplot as plt\n",
    "import seaborn as sns\n",
    "\n",
    "step3- Use plt.hist() function\n",
    "plt.hist(MyList,bins=30,stacked=True)\n",
    "```\n",
    "\n",
    "## Loops for creating long list - \n",
    "\n",
    "###  initialisation (empty list)\n",
    "Step1-\n",
    "```python\n",
    "MyList = [] \n",
    "or \n",
    "MyList = list()\n",
    "```\n",
    "### What do you want\n",
    "A long list as that shown below-\n",
    "```\n",
    "List = [movies[(movies.Genre=='Action')].BudgetMillions,\n",
    "movies[(movies.Genre=='Adventure')].BudgetMillions,\n",
    "movies[(movies.Genre=='Comedy')].BudgetMillions,\n",
    "movies[(movies.Genre=='Drama')].BudgetMillions,\n",
    "movies[(movies.Genre=='Horror')].BudgetMillions,\n",
    "movies[(movies.Genre=='Romance')].BudgetMillions,\n",
    "movies[(movies.Genre=='Thriller')].BudgetMillions]\n",
    "```\n",
    "If you pay attention to this list, only Genre is changing.  \n",
    "This means you need to change Genre for every iteration and rest will remain the same.\n",
    "\n",
    "Step2- Changing Genre for every iteration\n",
    "\n",
    "Let's create a list that we will pass as a string. We can also use `movies.Genre.cat.categories`.\n",
    "\n",
    "movies.Genre.cat.categories = ['Action', 'Adventure', 'Comedy', 'Drama', 'Horror', 'Romance','Thriller']\n",
    "\n",
    "### append() for storing iteration results\n",
    "Step3- ForLoop for iteration\n",
    "```python\n",
    "for string in movies.Genre.cat.categories:\n",
    "    MyList.append([movies[(movies.Genre==string)].BudgetMillions)\n",
    "```\n",
    "**MyList.append() will store each iteration result in MyList**\n",
    "\n",
    "Step4- Use `plt.hist(MyList, bins=30,stacked=True)`\n",
    "\n",
    "Step5- Adding legend\n",
    "\n",
    "Look at the complete code below to understand step by step process:-\n",
    "\n",
    "```python\n",
    "mylabels = [] #creating an empty list for label\n",
    "MyList = [] # an empty list\n",
    "\n",
    "for string in movies.Genre.cat.categories:\n",
    "    MyList.append(movies[movies.Genre==gen].BudgetMillions) #this creates MyList\n",
    "    mylabels.append(string) #this creates mylabels list\n",
    "\n",
    "plt.rcParams['figure.figsize'] = 10,8\n",
    "plt.hist(List1,bins=30,stacked=True,rwidth=2,label = mylabels) #this will add label, but to add legend use legend() function\n",
    "plt.legend() #This adds the legend\n",
    "plt.show()\n",
    "```   \n"
   ]
  },
  {
   "cell_type": "code",
   "execution_count": 3,
   "id": "cccd53ae",
   "metadata": {},
   "outputs": [
    {
     "data": {
      "image/png": "[encoded data removed]",
      "text/plain": [
       "<Figure size 432x288 with 1 Axes>"
      ]
     },
     "metadata": {
      "needs_background": "light"
     },
     "output_type": "display_data"
    }
   ],
   "source": [
    "plt.hist(movies.BudgetMillions)\n",
    "plt.show()"
   ]
  },
  {
   "cell_type": "code",
   "execution_count": 4,
   "id": "948df81e",
   "metadata": {
    "scrolled": false
   },
   "outputs": [
    {
     "data": {
      "text/plain": [
       "10     30\n",
       "11     20\n",
       "13      7\n",
       "18      8\n",
       "23     20\n",
       "       ..\n",
       "529    66\n",
       "532    38\n",
       "534    21\n",
       "541    15\n",
       "545     2\n",
       "Name: BudgetMillions, Length: 101, dtype: int64"
      ]
     },
     "execution_count": 4,
     "metadata": {},
     "output_type": "execute_result"
    }
   ],
   "source": [
    "#how to see budget in millions for a certain Genre\n",
    "movies.Genre.cat.categories\n",
    "\n",
    "#using filtering\n",
    "movies[(movies.Genre=='Drama')].BudgetMillions"
   ]
  },
  {
   "cell_type": "code",
   "execution_count": 59,
   "id": "ff1b7c05",
   "metadata": {},
   "outputs": [
    {
     "data": {
      "text/plain": [
       "Index(['Action', 'Adventure', 'Comedy', 'Drama', 'Horror', 'Romance',\n",
       "       'Thriller'],\n",
       "      dtype='object')"
      ]
     },
     "execution_count": 59,
     "metadata": {},
     "output_type": "execute_result"
    }
   ],
   "source": [
    "movies.Genre.cat.categories\n"
   ]
  },
  {
   "cell_type": "code",
   "execution_count": 9,
   "id": "c10c2011",
   "metadata": {
    "scrolled": true
   },
   "outputs": [
    {
     "data": {
      "image/png": "[encoded data removed]",
      "text/plain": [
       "<Figure size 432x288 with 1 Axes>"
      ]
     },
     "metadata": {
      "needs_background": "light"
     },
     "output_type": "display_data"
    },
    {
     "data": {
      "text/plain": [
       "(array([11.,  9.,  2.,  5.,  2.,  4.,  1.,  0.,  1.,  1.]),\n",
       " array([  4. ,  22.1,  40.2,  58.3,  76.4,  94.5, 112.6, 130.7, 148.8,\n",
       "        166.9, 185. ]),\n",
       " <BarContainer object of 10 artists>)"
      ]
     },
     "execution_count": 9,
     "metadata": {},
     "output_type": "execute_result"
    },
    {
     "data": {
      "image/png": "[encoded data removed]",
      "text/plain": [
       "<Figure size 432x288 with 1 Axes>"
      ]
     },
     "metadata": {
      "needs_background": "light"
     },
     "output_type": "display_data"
    }
   ],
   "source": [
    "#Using the subset obtained by filtering \n",
    "\n",
    "plt.hist(movies[(movies.Genre=='Drama')].BudgetMillions)\n",
    "plt.show()\n",
    "\n",
    "#This gives you Budget for Drama  \n",
    "\n"
   ]
  },
  {
   "cell_type": "code",
   "execution_count": 10,
   "id": "13fed12c",
   "metadata": {
    "scrolled": true
   },
   "outputs": [
    {
     "data": {
      "image/png": "[encoded data removed]",
      "text/plain": [
       "<Figure size 432x288 with 1 Axes>"
      ]
     },
     "metadata": {
      "needs_background": "light"
     },
     "output_type": "display_data"
    }
   ],
   "source": [
    "#Let's get eh budget plot for other Genre\n",
    "plt.hist(movies[(movies.Genre=='Drama')].BudgetMillions)\n",
    "plt.hist(movies[(movies.Genre=='Horror')].BudgetMillions)\n",
    "plt.hist(movies[(movies.Genre=='Romance')].BudgetMillions)\n",
    "plt.hist(movies[(movies.Genre=='Action')].BudgetMillions)\n",
    "plt.hist(movies[(movies.Genre=='Adventure')].BudgetMillions)\n",
    "plt.hist(movies[(movies.Genre=='Comedy')].BudgetMillions)\n",
    "plt.hist(movies[(movies.Genre=='Thriller')].BudgetMillions)\n",
    "\n",
    "#Looking at the plot... all plots are laid on top of each other. \n",
    "#And we cannot tell as to which is which.\n",
    "\n",
    "#This is where stacked histogram comes it\n",
    "\n"
   ]
  },
  {
   "cell_type": "code",
   "execution_count": 38,
   "id": "28df9296",
   "metadata": {
    "scrolled": true
   },
   "outputs": [
    {
     "data": {
      "image/png": "[encoded data removed]",
      "text/plain": [
       "<Figure size 576x288 with 1 Axes>"
      ]
     },
     "metadata": {},
     "output_type": "display_data"
    }
   ],
   "source": [
    "#In stacked histogram, you pass a list to plt.hist()\n",
    "#let's create a list\n",
    "\n",
    "List = [movies[(movies.Genre=='Action')].BudgetMillions,\n",
    "movies[(movies.Genre=='Adventure')].BudgetMillions,\n",
    "movies[(movies.Genre=='Comedy')].BudgetMillions,\n",
    "movies[(movies.Genre=='Drama')].BudgetMillions,\n",
    "movies[(movies.Genre=='Horror')].BudgetMillions,\n",
    "movies[(movies.Genre=='Romance')].BudgetMillions,\n",
    "movies[(movies.Genre=='Thriller')].BudgetMillions]\n",
    "\n",
    "#plt.plot(8,4)\n",
    "f = plt.figure()\n",
    "f.set_figwidth(8)\n",
    "f.set_figheight(4)\n",
    "plot= plt.hist(list,bins=30, stacked=True)\n",
    "sns.set_style('whitegrid')\n",
    "plt.show()\n",
    "\n",
    "#to stack it (use stacked = True),\n",
    "#conclusion\n",
    "#This doesnot look good - legend are missing and so are the labels\n"
   ]
  },
  {
   "cell_type": "code",
   "execution_count": 11,
   "id": "ff363052",
   "metadata": {},
   "outputs": [
    {
     "data": {
      "text/plain": [
       "7"
      ]
     },
     "execution_count": 11,
     "metadata": {},
     "output_type": "execute_result"
    },
    {
     "data": {
      "image/png": "[encoded data removed]",
      "text/plain": [
       "<Figure size 432x288 with 1 Axes>"
      ]
     },
     "metadata": {},
     "output_type": "display_data"
    }
   ],
   "source": [
    "#We need to create a loop that will automate this process for you\n",
    "movies[movies.Genre=='Action'].BudgetMillions\n",
    "\n",
    "#Only thing we need to chage is Genre type.\n",
    "list2= ['Action', 'Adventure', 'Comedy', 'Drama', 'Horror', 'Romance',\n",
    "       'Thriller']\n",
    "for string in list2:\n",
    "    plt.hist(movies[movies.Genre==string].BudgetMillions,stacked= True)\n",
    "    #plt.legend(loc='upper left', bbox_to_anchor=(1,1)\n",
    "    #plt.hist(movies[movies.Genre==string].BudgetMillions,stacked= True,label=string).legend()\n",
    "    sns.set_style('darkgrid')\n",
    "len(list2)\n",
    "\n",
    "#This is not stacked. "
   ]
  },
  {
   "cell_type": "code",
   "execution_count": 11,
   "id": "15bcc33f",
   "metadata": {
    "scrolled": true
   },
   "outputs": [
    {
     "name": "stdout",
     "output_type": "stream",
     "text": [
      "Action\n",
      "Adventure\n",
      "Comedy\n",
      "Drama\n",
      "Horror\n",
      "Romance\n",
      "Thriller\n"
     ]
    }
   ],
   "source": [
    "for gen in movies.Genre.cat.categories:\n",
    "    print(gen)"
   ]
  },
  {
   "cell_type": "code",
   "execution_count": 32,
   "id": "bf69c93a",
   "metadata": {},
   "outputs": [
    {
     "data": {
      "text/plain": [
       "7"
      ]
     },
     "execution_count": 32,
     "metadata": {},
     "output_type": "execute_result"
    }
   ],
   "source": [
    "#step1 would be intialisation\n",
    "List1 = []*7 # an empty list\n",
    "#then create a loop that create a list\n",
    "i = (0,1,2,3,4,5,6)\n",
    "for gen in movies.Genre.cat.categories:\n",
    "    List1.append(movies[movies.Genre==gen].BudgetMillions)    \n",
    "len(List1)\n",
    "\n",
    "    "
   ]
  },
  {
   "cell_type": "code",
   "execution_count": 54,
   "id": "4e6939d2",
   "metadata": {
    "scrolled": true
   },
   "outputs": [
    {
     "data": {
      "image/png": "[encoded data removed]",
      "text/plain": [
       "<Figure size 720x576 with 1 Axes>"
      ]
     },
     "metadata": {},
     "output_type": "display_data"
    }
   ],
   "source": [
    "plt.rcParams['figure.figsize'] = 10,8\n",
    "plt.hist(List1,bins=30,stacked=True,rwidth=.7)\n",
    "plt.show()\n",
    "\n",
    "#rwidth is what ratio of designated width the bar should take. rwidth =1 means it take 100% of space. \n",
    "#rwidth = 1 means their will be no gap between bars.\n",
    "\n",
    "#So if you want gap between bars, set rwidth less than 1 and if you want no space use rwidth =1 or greater than 1."
   ]
  },
  {
   "cell_type": "code",
   "execution_count": 57,
   "id": "db75373b",
   "metadata": {},
   "outputs": [
    {
     "data": {
      "image/png": "[encoded data removed]",
      "text/plain": [
       "<Figure size 720x288 with 1 Axes>"
      ]
     },
     "metadata": {},
     "output_type": "display_data"
    }
   ],
   "source": [
    "plt.rcParams['figure.figsize'] = 10,4\n",
    "plt.hist(List1,bins=30,stacked=True,rwidth=1)\n",
    "plt.show()"
   ]
  },
  {
   "cell_type": "code",
   "execution_count": null,
   "id": "2007d922",
   "metadata": {},
   "outputs": [],
   "source": []
  },
  {
   "cell_type": "code",
   "execution_count": null,
   "id": "fe502a01",
   "metadata": {},
   "outputs": [],
   "source": [
    "# In order to add a label\n",
    "mylabels = [] #creating an empty list for label\n",
    "List1 = []*7 # an empty list\n",
    "\n",
    "for gen in movies.Genre.cat.categories:\n",
    "    List1.append(movies[movies.Genre==gen].BudgetMillions)\n",
    "    mylabels.append(gen) \n",
    "\n",
    "plt.rcParams['figure.figsize'] = 10,8\n",
    "plt.hist(List1,bins=30,stacked=True,rwidth=2,label = mylabels) #this will add label, but legend will still not exist\n",
    "plt.legend() #This adds the legend\n",
    "plt.show()\n",
    "\n",
    "#When using append(), you don't need to overwrite the result into an object. \n",
    "#append function will place values in the object by itself."
   ]
  },
  {
   "cell_type": "code",
   "execution_count": 27,
   "id": "f9d8107e",
   "metadata": {},
   "outputs": [
    {
     "data": {
      "text/plain": [
       "(array([11.,  9.,  2.,  5.,  2.,  4.,  1.,  0.,  1.,  1.]),\n",
       " array([  4. ,  22.1,  40.2,  58.3,  76.4,  94.5, 112.6, 130.7, 148.8,\n",
       "        166.9, 185. ]),\n",
       " <BarContainer object of 10 artists>)"
      ]
     },
     "execution_count": 27,
     "metadata": {},
     "output_type": "execute_result"
    },
    {
     "data": {
      "image/png": "[encoded data removed]",
      "text/plain": [
       "<Figure size 432x288 with 1 Axes>"
      ]
     },
     "metadata": {},
     "output_type": "display_data"
    }
   ],
   "source": [
    "plt.hist(movies[movies.Genre=='Thriller'].BudgetMillions)"
   ]
  },
  {
   "cell_type": "code",
   "execution_count": null,
   "id": "ce444651",
   "metadata": {},
   "outputs": [],
   "source": []
  },
  {
   "cell_type": "code",
   "execution_count": 19,
   "id": "02f2396c",
   "metadata": {},
   "outputs": [
    {
     "data": {
      "text/plain": [
       "(0, 7, 1)"
      ]
     },
     "execution_count": 19,
     "metadata": {},
     "output_type": "execute_result"
    }
   ],
   "source": [
    "(0,7,1)"
   ]
  },
  {
   "cell_type": "code",
   "execution_count": null,
   "id": "304c58d0",
   "metadata": {},
   "outputs": [],
   "source": [
    "def myplot(playerList):\n",
    "    for name in playerList:\n",
    "        plt.plot(Accuracy[Pdict[name]], c='black', ls ='dotted', marker='s', ms = 7,label=name)\n",
    "    plt.legend(loc='upper left', bbox_to_anchor=(1,1))\n",
    "    plt.xticks(list(range(10)),Seasons,rotation='vertical')\n",
    "    plt.show() "
   ]
  },
  {
   "cell_type": "code",
   "execution_count": 8,
   "id": "3a1e62f1",
   "metadata": {},
   "outputs": [
    {
     "data": {
      "text/plain": [
       "Index(['Action', 'Adventure', 'Comedy', 'Drama', 'Horror', 'Romance',\n",
       "       'Thriller'],\n",
       "      dtype='object')"
      ]
     },
     "execution_count": 8,
     "metadata": {},
     "output_type": "execute_result"
    }
   ],
   "source": [
    "movies.Genre.cat.categories\n"
   ]
  },
  {
   "cell_type": "code",
   "execution_count": 5,
   "id": "b6ce4380",
   "metadata": {},
   "outputs": [
    {
     "data": {
      "text/plain": [
       "['Comedy', 'Adventure', 'Action', 'Horror', 'Drama', 'Romance', 'Thriller']\n",
       "Categories (7, object): ['Action', 'Adventure', 'Comedy', 'Drama', 'Horror', 'Romance', 'Thriller']"
      ]
     },
     "execution_count": 5,
     "metadata": {},
     "output_type": "execute_result"
    }
   ],
   "source": [
    "movies.Genre.unique()"
   ]
  },
  {
   "cell_type": "code",
   "execution_count": null,
   "id": "ae4b80db",
   "metadata": {
    "scrolled": true
   },
   "outputs": [],
   "source": [
    "#So will require us to filter the data \n",
    "movies[(movies.Genre=='Horror')].BudgetMillions"
   ]
  },
  {
   "cell_type": "code",
   "execution_count": 58,
   "id": "86594867",
   "metadata": {},
   "outputs": [
    {
     "data": {
      "text/plain": [
       "(array([[ 3.,  6., 20., 19., 16.,  8.,  5.,  8., 11.,  5.,  4.,  5.,  5.,\n",
       "          3.,  5.,  9.,  3.,  2.,  3.,  1.,  7.,  1.,  0.,  2.,  0.,  2.,\n",
       "          0.,  0.,  0.,  1.],\n",
       "        [ 3.,  9., 22., 23., 18.,  9.,  8., 12., 11.,  5.,  6.,  5.,  6.,\n",
       "          4.,  6., 12.,  3.,  2.,  3.,  1.,  8.,  1.,  0.,  2.,  0.,  3.,\n",
       "          0.,  0.,  0.,  1.],\n",
       "        [24., 36., 58., 49., 31., 24., 18., 20., 21.,  7.,  8.,  6.,  6.,\n",
       "          4.,  6., 12.,  3.,  3.,  3.,  1.,  8.,  1.,  0.,  2.,  0.,  3.,\n",
       "          0.,  0.,  0.,  1.]]),\n",
       " array([  0.,  10.,  20.,  30.,  40.,  50.,  60.,  70.,  80.,  90., 100.,\n",
       "        110., 120., 130., 140., 150., 160., 170., 180., 190., 200., 210.,\n",
       "        220., 230., 240., 250., 260., 270., 280., 290., 300.]),\n",
       " <a list of 3 BarContainer objects>)"
      ]
     },
     "execution_count": 58,
     "metadata": {},
     "output_type": "execute_result"
    },
    {
     "data": {
      "image/png": "[encoded data removed]",
      "text/plain": [
       "<Figure size 720x288 with 1 Axes>"
      ]
     },
     "metadata": {},
     "output_type": "display_data"
    }
   ],
   "source": [
    "#step1- Create a list\n",
    "MyList = [movies[(movies.Genre=='Action')].BudgetMillions,\n",
    "movies[(movies.Genre=='Adventure')].BudgetMillions,\n",
    "movies[(movies.Genre=='Comedy')].BudgetMillions]\n",
    "\n",
    "#step2- \n",
    "import matplotlib.pyplot as plt\n",
    "import seaborn as sns\n",
    "\n",
    "#step3- Use plt.hist() function\n",
    "plt.hist(MyList,bins=30,stacked=True)"
   ]
  },
  {
   "cell_type": "markdown",
   "id": "187ef28b",
   "metadata": {},
   "source": [
    "------"
   ]
  },
  {
   "cell_type": "code",
   "execution_count": 1,
   "id": "569688e0",
   "metadata": {},
   "outputs": [
    {
     "name": "stdout",
     "output_type": "stream",
     "text": [
      "<class 'pandas.core.frame.DataFrame'>\n",
      "RangeIndex: 559 entries, 0 to 558\n",
      "Data columns (total 6 columns):\n",
      " #   Column          Non-Null Count  Dtype \n",
      "---  ------          --------------  ----- \n",
      " 0   Film            559 non-null    object\n",
      " 1   Genre           559 non-null    object\n",
      " 2   CriticRating    559 non-null    int64 \n",
      " 3   AudienceRating  559 non-null    int64 \n",
      " 4   BudgetMillions  559 non-null    int64 \n",
      " 5   Year            559 non-null    int64 \n",
      "dtypes: int64(4), object(2)\n",
      "memory usage: 26.3+ KB\n"
     ]
    },
    {
     "data": {
      "text/plain": [
       "['Comedy', 'Adventure', 'Action', 'Horror', 'Drama', 'Romance', 'Thriller']\n",
       "Categories (7, object): ['Action', 'Adventure', 'Comedy', 'Drama', 'Horror', 'Romance', 'Thriller']"
      ]
     },
     "execution_count": 1,
     "metadata": {},
     "output_type": "execute_result"
    }
   ],
   "source": [
    "#Revision\n",
    "\n",
    "import numpy as np #this is used for vector operations\n",
    "import pandas as pd #this will help us import csv files\n",
    "import os #this will help us in changing working directory or know cwd.\n",
    "\n",
    "from matplotlib import pyplot as plt #this is to import pyplot\n",
    "import seaborn as sns #this works on top of matplotlib\n",
    "\n",
    "%matplotlib inline \n",
    "#This allows you to get the plot in the same notebook you are working on \n",
    "\n",
    "import warnings\n",
    "warnings.filterwarnings('ignore')\n",
    "\n",
    "#check curred cwd\n",
    "os.getcwd()\n",
    "\n",
    "#importing csv\n",
    "movies = pd.read_csv('movies.csv')\n",
    "\n",
    "#check \n",
    "movies.head()\n",
    "\n",
    "#chaning column names\n",
    "movies.columns = ['Film', 'Genre', 'CriticRating', 'AudienceRating',\n",
    "       'BudgetMillions', 'Year']\n",
    "\n",
    "#exploring data\n",
    "movies.info()\n",
    "#6 columns - two objects, 4 int variables \n",
    "#559 rows\n",
    "\n",
    "#Changing Year, Genre and film to categorical variable\n",
    "\n",
    "movies.Genre = movies.Genre.astype('category')\n",
    "movies.Film = movies.Film.astype('category')\n",
    "movies.Year = movies.Year.astype('category')\n",
    "\n",
    "#Check the levels for each of these category\n",
    "movies.Genre.cat.categories #1st method\n",
    "movies.Genre.unique() #2nd method\n",
    "\n"
   ]
  }
 ],
 "metadata": {
  "kernelspec": {
   "display_name": "Python 3 (ipykernel)",
   "language": "python",
   "name": "python3"
  },
  "language_info": {
   "codemirror_mode": {
    "name": "ipython",
    "version": 3
   },
   "file_extension": ".py",
   "mimetype": "text/x-python",
   "name": "python",
   "nbconvert_exporter": "python",
   "pygments_lexer": "ipython3",
   "version": "3.9.12"
  }
 },
 "nbformat": 4,
 "nbformat_minor": 5
}
