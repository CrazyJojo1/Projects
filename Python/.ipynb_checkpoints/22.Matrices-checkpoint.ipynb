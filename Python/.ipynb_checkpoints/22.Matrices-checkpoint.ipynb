{
 "cells": [
  {
   "cell_type": "markdown",
   "id": "7e7989e8",
   "metadata": {},
   "source": [
    "### Matrices\n",
    "It is an important topic <br>\n",
    "Why? <br>\n",
    "Most data that you will work on and analyse is stored in table format (matrix). <br>\n",
    "- Matrices are one of the ways to work with tables in python. <br>\n",
    "  \n",
    "- matrix is 2-D object.  <br>\n",
    "#2x3 table means two rows and three columns. <br>\n",
    "#In matrix, first one represent the row and second represents the columns <br>\n",
    "\n",
    "- Indexation for matrices <br>\n",
    "In oder to reach specific cell in a matrix:- <br>\n",
    "$[2,3]$ #means reach the cell that is in 2nd row and 3rd column.  <br>\n",
    "\n",
    "In order to select entire row, then  <br>\n",
    "$[0,:] $ #selects first row <br>\n",
    "#here colon(:) means everything. And,  <br>\n",
    "\n",
    "#inorder to select the entire column <br>\n",
    "$[:,0]$  #selects first column <br>"
   ]
  },
  {
   "cell_type": "code",
   "execution_count": 2,
   "id": "fe725bdf",
   "metadata": {},
   "outputs": [],
   "source": [
    "#create a simple list\n",
    "mylist = [50,34,111,7,24]\n",
    "#This is a 1-D object."
   ]
  }
 ],
 "metadata": {
  "kernelspec": {
   "display_name": "Python 3 (ipykernel)",
   "language": "python",
   "name": "python3"
  },
  "language_info": {
   "codemirror_mode": {
    "name": "ipython",
    "version": 3
   },
   "file_extension": ".py",
   "mimetype": "text/x-python",
   "name": "python",
   "nbconvert_exporter": "python",
   "pygments_lexer": "ipython3",
   "version": "3.9.12"
  }
 },
 "nbformat": 4,
 "nbformat_minor": 5
}
