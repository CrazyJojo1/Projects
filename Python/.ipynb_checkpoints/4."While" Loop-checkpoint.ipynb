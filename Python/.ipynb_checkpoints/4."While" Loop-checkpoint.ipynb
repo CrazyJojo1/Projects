{
 "cells": [
  {
   "cell_type": "markdown",
   "id": "67b3dc05",
   "metadata": {},
   "source": [
    "#### R programming language \n",
    "- Python is not a vectorized programming language, whereas, R is.\n",
    "- Lot of operations like Data mining, analytics, etc. is done using R.\n",
    "- R language has its Apply family function that eliminates the need to use Loops.\n",
    "#### Python programming language\n",
    "- Python is *object-oriented programming language.*\n",
    "- So, In python you don't have the luxury of working with vectors.\n",
    "- As a result, **Loops are integeral part of Python.**"
   ]
  },
  {
   "cell_type": "markdown",
   "id": "da962071",
   "metadata": {},
   "source": [
    "#### Concept of Loops\n",
    "**What a while loop looks like in object-oriented programming language.**\n",
    "- Syntax: \n",
    "```python\n",
    "while(condition){\n",
    "    executable code1\n",
    "    executable code2\n",
    "    executable code3\n",
    "}\n",
    "executable code4\n",
    "```\n",
    "What is happening in the while loop?\n",
    "- firstly, the condition is checked.\n",
    "- Once condition is True, body of the loop (i.e. executable codes) is run.\n",
    "- Lastly, **\"While\"** the condition is True... the Loop will keep on *iterating* the operation until it condition becomes False\n",
    ">Once the condition of while loop is False, only then you will be running executable code4."
   ]
  },
  {
   "cell_type": "markdown",
   "id": "9f327570",
   "metadata": {},
   "source": [
    "#### How While Loop is structured in Python?\n",
    "```python\n",
    "while condition:\n",
    "    executable code1\n",
    "    executable code2\n",
    "    executable code3\n",
    "executable code4\n",
    "```\n",
    "So in Python While Loop, you only use colon(:) and indentation. You don't have parenthesis for condition and no curly {} braces for body of code.\n",
    "**Question: Then How does Python knows as to when the body of While loop ends?** As we are not using {} for the body of code.\n",
    "- executable code4 is not part of While loops body. How does Python knows that?\n",
    "> **Answer is Indentations as it allows Python to understand what is part of While Loop and what is not.**\n",
    "What do you mean?\n",
    "```python\n",
    "while condition:\n",
    "    executable code1\n",
    "    executable code2\n",
    "executable code3\n",
    "executable code4\n",
    "```\n",
    "Just Changing the indentation of executable code3 makes it **Not** part of While Loop.\n",
    "\n",
    "<u>This makes indentation a crucial part of the code.</u>  \n",
    "Also, \"w\" of while is in small case."
   ]
  },
  {
   "cell_type": "code",
   "execution_count": null,
   "id": "921e3414",
   "metadata": {},
   "outputs": [],
   "source": [
    "while False:\n",
    "    print(\"Hello\")\n",
    "#Since condition is False, code{Print(\"Hello\")} will not run."
   ]
  },
  {
   "cell_type": "code",
   "execution_count": null,
   "id": "110a5ae6",
   "metadata": {},
   "outputs": [],
   "source": [
    "#while True:\n",
    "#    print(\"Hello\")"
   ]
  },
  {
   "cell_type": "markdown",
   "id": "c02f9171",
   "metadata": {},
   "source": [
    "The above code is an infinite loop.  \n",
    "Running an inifnite Loop can make your jupyter notebook slow and your browser will be hung.  \n",
    "**How to stop inifnite Loop from running? Press double zero (00).**   \n",
    "This will show you a pop-up window asking to Restart Kernel.... press Restart. <br/>Then either get rid of the loop or best solution... refresh your page.  \n",
    "<u> It is always a bad idea to run an infinite loop. </u>"
   ]
  },
  {
   "cell_type": "code",
   "execution_count": 5,
   "id": "fa0c6834",
   "metadata": {},
   "outputs": [
    {
     "name": "stdout",
     "output_type": "stream",
     "text": [
      "0\n",
      "1\n",
      "2\n",
      "3\n",
      "4\n",
      "5\n",
      "6\n",
      "7\n",
      "8\n",
      "9\n",
      "10\n",
      "11\n"
     ]
    }
   ],
   "source": [
    "counter = 0 \n",
    "while counter < 12:\n",
    "        print(counter)\n",
    "        counter = counter + 1"
   ]
  },
  {
   "cell_type": "markdown",
   "id": "8e3066f2",
   "metadata": {},
   "source": [
    "#### Another Difference between R and python  \n",
    "In R, counting or indexation starts from 1, while  \n",
    "In python, counting or indexation starts from 0. So, it is good idea to have counter = 0 when initialising your variable."
   ]
  },
  {
   "cell_type": "markdown",
   "id": "0fbc371a",
   "metadata": {},
   "source": [
    "**Understanding In[ ], In[num] and In[ * ]** <br/> - In[ ], means the cell in Jupyter has not run the code. <br/> - In[num], for example In[5] represents the cell has run the code. <br/> - Lastly, In[ * ] means the kernel is busy. <br/> **What to do if you see In[ * ]?** <br/> If you want to interrupt/stop the execution, go to the menu Kernel and click Interrupt.If it doesn't work, click Restart. You need to go in a new cell and press Shift + Enter to see if it worked."
   ]
  },
  {
   "cell_type": "code",
   "execution_count": 7,
   "id": "ca19f78c",
   "metadata": {},
   "outputs": [
    {
     "name": "stdout",
     "output_type": "stream",
     "text": [
      "0\n",
      "1\n",
      "2\n",
      "3\n",
      "4\n",
      "5\n",
      "6\n",
      "7\n",
      "8\n",
      "9\n",
      "10\n",
      "11\n",
      "Hello\n"
     ]
    }
   ],
   "source": [
    "counter = 0 \n",
    "while counter < 12:\n",
    "        print(counter)\n",
    "        counter = counter + 1\n",
    "print(\"Hello\")  \n",
    "#you will see that the Hello will only be printed only when while loop has run its body of code. \n",
    "#This is the reason as to why Hello is printed in the end and once."
   ]
  }
 ],
 "metadata": {
  "kernelspec": {
   "display_name": "Python 3 (ipykernel)",
   "language": "python",
   "name": "python3"
  },
  "language_info": {
   "codemirror_mode": {
    "name": "ipython",
    "version": 3
   },
   "file_extension": ".py",
   "mimetype": "text/x-python",
   "name": "python",
   "nbconvert_exporter": "python",
   "pygments_lexer": "ipython3",
   "version": "3.9.12"
  }
 },
 "nbformat": 4,
 "nbformat_minor": 5
}
