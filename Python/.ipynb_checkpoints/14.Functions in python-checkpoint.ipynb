{
 "cells": [
  {
   "cell_type": "markdown",
   "id": "b7b97ba8",
   "metadata": {},
   "source": [
    "**How Functions work?** <br>\n",
    "Think of function as a blender - machine that you use in your kitchen to blend fruits and vegies. <br>\n",
    "<img src=\"blender.jpg\" width=\"200\" height=\"200\" />\n",
    "\n",
    "What does that mean? <br>\n",
    "It takes the input (fruits, vegies, etc.) to give you your desired output. That output can further be stored in a glass (the object) <br>\n",
    "\n",
    "So, functions takes input from you and then they do some calculations on them to derive some output (based on the code you provide). <br>\n",
    "\n",
    "Few functions that we have already used so far-  <br>\n",
    "1. range(start, stop, step) - used in loops to give iterations.\n",
    "\n",
    "2. list(range( )) - gives you the list based on the specified range.\n",
    "\n",
    "3. randn() - used to generate random numbers from a normal distribution (can only be used if you activate numpy package)\n",
    "\n",
    "4. math.sqrt() - used to calculate the square-root. (math is the package that contains sqrt() in it.)\n",
    "\n",
    "5. print() - allows you to print multiple values in one cell.\n",
    "\n",
    "6. len() - used to get the length - number of elements in a list\n",
    "\n",
    "7. type() - used to check the data type.\n",
    "\n",
    "8. max() - used to get the max value from a group of numbers .\n",
    "\n",
    "9. min() - gives you the minimum value from sequence of numbers.\n",
    "\n",
    "range function: -  <br>\n",
    "Since range is a function, it takes some parameters (start, stop, step) as its input. <br>\n",
    "Based on those parameters, it gives you an output <br>\n",
    "```python \n",
    "range(5) = range(0, 5) #range(5) is taking 5 as its stop values. When you specify single value, then range() assumes start to be 0.\n",
    "range(2,7) = range(2,7) \n",
    "range(2,7,2) = range(2, 7, 2) #range() is taking three arguments here- start, stop and step\n",
    "```\n",
    "But range() is just a generator. So, in order to convert that range into a function, we must use another function- list()\n",
    "```python\n",
    "list(range(5)) = [0, 1, 2, 3, 4]  #list() is taking range(5) as its input \n",
    "#store this list into an object\n",
    "mylist = list(range(5))  #output of a list() is a list that can be stored in an object\n",
    "#print that object \n",
    "print(mylist) = [0, 1, 2, 3, 4] #print() takes object name as its input \n",
    "#calculate the length\n",
    "len(mylist) = 5 #len() is taking object's name as its input \n",
    "len([2,3,\"Hello\",5,5,True,6,9]) = 8 # here you as passing a list as its input\n",
    "#Check the data type\n",
    "type(mylist) = list  #you are giving object's name as input\n",
    "type(5) = Int #input is a number\n",
    "type(True) = Bool\n",
    "#calcualte the max value\n",
    "print(mylist) = [0, 1, 2, 3, 4]\n",
    "max(mylist) = 4   #input is a list variable\n",
    "max(4,6,8,13,89) = 89    #input is series of value and not a list\n",
    "#calcualte the min value\n",
    "min(mylist) = 0\n",
    "min(4,6,8,13,89) = 4\n",
    "#------------------------------\n",
    "list(range(2,7)) = [2, 3, 4, 5, 6]\n",
    "list(range(2,7,2)) = [2,4,6]\n",
    "```\n",
    "\n",
    "So what do we see when using a list( ) function? <br>\n",
    "- What inputs it needs - generator, such as range( ). <br>\n",
    "- The output that you derive using list( ) is a list. <br>\n",
    "\n",
    " **Note- \n",
    " The core of python doesn't have many useful functions. Surprisingly, python is very minimum on them. <br>\n",
    " And, inorder to work with more functions, you need to add packages.  <br>\n",
    " These packages are Add-ons to python to increase python's workability.  <br>\n",
    " Different packages are avialable - some add visualisation, other are added for mathematical calcualtions and so on..**\n"
   ]
  },
  {
   "cell_type": "code",
   "execution_count": 1,
   "id": "b29d14ef",
   "metadata": {},
   "outputs": [
    {
     "data": {
      "text/plain": [
       "range(0, 5)"
      ]
     },
     "execution_count": 1,
     "metadata": {},
     "output_type": "execute_result"
    }
   ],
   "source": [
    "range(5)"
   ]
  },
  {
   "cell_type": "code",
   "execution_count": 6,
   "id": "f57b1461",
   "metadata": {},
   "outputs": [
    {
     "data": {
      "text/plain": [
       "range(2, 7)"
      ]
     },
     "execution_count": 6,
     "metadata": {},
     "output_type": "execute_result"
    }
   ],
   "source": [
    "range(2,7)"
   ]
  },
  {
   "cell_type": "code",
   "execution_count": 7,
   "id": "1ada6ec6",
   "metadata": {},
   "outputs": [
    {
     "data": {
      "text/plain": [
       "range(2, 7, 2)"
      ]
     },
     "execution_count": 7,
     "metadata": {},
     "output_type": "execute_result"
    }
   ],
   "source": [
    "range(2,7,2)"
   ]
  },
  {
   "cell_type": "code",
   "execution_count": 2,
   "id": "648d8845",
   "metadata": {},
   "outputs": [
    {
     "data": {
      "text/plain": [
       "[0, 1, 2, 3, 4]"
      ]
     },
     "execution_count": 2,
     "metadata": {},
     "output_type": "execute_result"
    }
   ],
   "source": [
    "#get the items of the range using list() function\n",
    "list(range(5))"
   ]
  },
  {
   "cell_type": "code",
   "execution_count": 4,
   "id": "0395e10e",
   "metadata": {},
   "outputs": [
    {
     "data": {
      "text/plain": [
       "[2, 3, 4, 5, 6, 7]"
      ]
     },
     "execution_count": 4,
     "metadata": {},
     "output_type": "execute_result"
    }
   ],
   "source": [
    "list(range(2,8))"
   ]
  },
  {
   "cell_type": "code",
   "execution_count": 16,
   "id": "a541b084",
   "metadata": {},
   "outputs": [
    {
     "name": "stdout",
     "output_type": "stream",
     "text": [
      "[2, 3, 4, 5, 6]\n"
     ]
    }
   ],
   "source": [
    "mylist = list(range(2,7))\n",
    "print(mylist)"
   ]
  },
  {
   "cell_type": "code",
   "execution_count": 17,
   "id": "94a179d3",
   "metadata": {},
   "outputs": [
    {
     "data": {
      "text/plain": [
       "5"
      ]
     },
     "execution_count": 17,
     "metadata": {},
     "output_type": "execute_result"
    }
   ],
   "source": [
    "len(mylist)"
   ]
  },
  {
   "cell_type": "code",
   "execution_count": 18,
   "id": "b9580b71",
   "metadata": {},
   "outputs": [
    {
     "data": {
      "text/plain": [
       "8"
      ]
     },
     "execution_count": 18,
     "metadata": {},
     "output_type": "execute_result"
    }
   ],
   "source": [
    "len([2,3,4,5,5,6,6,9])"
   ]
  },
  {
   "cell_type": "code",
   "execution_count": 20,
   "id": "7c145f52",
   "metadata": {},
   "outputs": [
    {
     "data": {
      "text/plain": [
       "8"
      ]
     },
     "execution_count": 20,
     "metadata": {},
     "output_type": "execute_result"
    }
   ],
   "source": [
    "len([2,3,\"Hello\",5,5,True,6,9])"
   ]
  },
  {
   "cell_type": "code",
   "execution_count": 21,
   "id": "cc010203",
   "metadata": {},
   "outputs": [
    {
     "data": {
      "text/plain": [
       "list"
      ]
     },
     "execution_count": 21,
     "metadata": {},
     "output_type": "execute_result"
    }
   ],
   "source": [
    "type(mylist)"
   ]
  },
  {
   "cell_type": "code",
   "execution_count": 22,
   "id": "fca016f6",
   "metadata": {},
   "outputs": [
    {
     "data": {
      "text/plain": [
       "int"
      ]
     },
     "execution_count": 22,
     "metadata": {},
     "output_type": "execute_result"
    }
   ],
   "source": [
    "type(5)"
   ]
  },
  {
   "cell_type": "code",
   "execution_count": 23,
   "id": "42c72756",
   "metadata": {},
   "outputs": [
    {
     "data": {
      "text/plain": [
       "bool"
      ]
     },
     "execution_count": 23,
     "metadata": {},
     "output_type": "execute_result"
    }
   ],
   "source": [
    "type(True)"
   ]
  },
  {
   "cell_type": "code",
   "execution_count": 25,
   "id": "46d51f2e",
   "metadata": {},
   "outputs": [
    {
     "data": {
      "text/plain": [
       "[2, 3, 4, 5, 6]"
      ]
     },
     "execution_count": 25,
     "metadata": {},
     "output_type": "execute_result"
    }
   ],
   "source": [
    "mylist"
   ]
  },
  {
   "cell_type": "code",
   "execution_count": 26,
   "id": "28785962",
   "metadata": {
    "scrolled": false
   },
   "outputs": [
    {
     "data": {
      "text/plain": [
       "6"
      ]
     },
     "execution_count": 26,
     "metadata": {},
     "output_type": "execute_result"
    }
   ],
   "source": [
    "max(mylist)"
   ]
  },
  {
   "cell_type": "code",
   "execution_count": 28,
   "id": "4193cf5d",
   "metadata": {},
   "outputs": [
    {
     "data": {
      "text/plain": [
       "89"
      ]
     },
     "execution_count": 28,
     "metadata": {},
     "output_type": "execute_result"
    }
   ],
   "source": [
    "max(4,6,8,13,89)"
   ]
  },
  {
   "cell_type": "code",
   "execution_count": 29,
   "id": "1a34f03f",
   "metadata": {},
   "outputs": [
    {
     "data": {
      "text/plain": [
       "4"
      ]
     },
     "execution_count": 29,
     "metadata": {},
     "output_type": "execute_result"
    }
   ],
   "source": [
    "min(4,6,8,13,89)"
   ]
  },
  {
   "cell_type": "code",
   "execution_count": 27,
   "id": "18bb9062",
   "metadata": {},
   "outputs": [
    {
     "data": {
      "text/plain": [
       "2"
      ]
     },
     "execution_count": 27,
     "metadata": {},
     "output_type": "execute_result"
    }
   ],
   "source": [
    "min(mylist)"
   ]
  },
  {
   "cell_type": "code",
   "execution_count": 5,
   "id": "4d7c8521",
   "metadata": {},
   "outputs": [
    {
     "data": {
      "text/plain": [
       "[2, 4, 6]"
      ]
     },
     "execution_count": 5,
     "metadata": {},
     "output_type": "execute_result"
    }
   ],
   "source": [
    "list(range(2,8,2))"
   ]
  },
  {
   "cell_type": "code",
   "execution_count": 13,
   "id": "04ed05b9",
   "metadata": {},
   "outputs": [
    {
     "data": {
      "text/plain": [
       "[]"
      ]
     },
     "execution_count": 13,
     "metadata": {},
     "output_type": "execute_result"
    }
   ],
   "source": [
    "list()"
   ]
  }
 ],
 "metadata": {
  "kernelspec": {
   "display_name": "Python 3 (ipykernel)",
   "language": "python",
   "name": "python3"
  },
  "language_info": {
   "codemirror_mode": {
    "name": "ipython",
    "version": 3
   },
   "file_extension": ".py",
   "mimetype": "text/x-python",
   "name": "python",
   "nbconvert_exporter": "python",
   "pygments_lexer": "ipython3",
   "version": "3.9.12"
  }
 },
 "nbformat": 4,
 "nbformat_minor": 5
}
