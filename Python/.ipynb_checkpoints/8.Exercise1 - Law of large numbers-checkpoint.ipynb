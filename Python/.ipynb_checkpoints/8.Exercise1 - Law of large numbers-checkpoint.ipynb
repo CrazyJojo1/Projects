{
 "cells": [
  {
   "cell_type": "markdown",
   "id": "056a76b5",
   "metadata": {},
   "source": [
    "**Law of Large Numbers (LLN)** </br>\n",
    "\n",
    "$\\overline{X_{n}}$  &#8594; $E(X)$ when n &#8594; $\\infty$  <br>\n",
    "\n",
    "The mean approaches the expected value when n approaches infinity. Still don't get it...  </br>\n",
    "Ok, it means bigger the sample the better. </br>\n",
    "\n",
    "Understanding this concept with example </br>\n",
    "Let's say you have 10 coin tosses: Let's say, you get 7 heads (7/10=0.7) and 3 tails (3/10=0.3) </br>\n",
    "\n",
    "        10:  7/3 70%/30%  </br>\n",
    "         \n",
    "And the expected value = Fair probability. You should get 50% heads(0.5) and 50% tails.  </br>\n",
    "\n",
    "        10:   5/5  50%/50% </br>\n",
    "        \n",
    "So, 7 heads and 3 tails is not expected values for them. </br>\n",
    "\n",
    "Now coming back to LLN -  </br>\n",
    "Instead of doing 10 coin tosses, if you do 100 coin tosses then you chances of getting 50% heads and 50% tails increases. </br>\n",
    "        \n",
    "        100:  52/48 52%/48%    </br>\n",
    "        \n",
    "And if you go for 1000 coin tosses, then chances of fair probability increases even more. </br>\n",
    "What this tells, </br>\n",
    "\n",
    "        1000:  502/498  50.2%/49.8%   </br>\n",
    "        \n",
    "As the sample size increases, the mean value of the sample converges to the expected value for that sample. </br>\n",
    "For this exercise we will need normal distribution </br>\n",
    "\n",
    "---\n",
    "Normal Distribution\n",
    "---\n",
    "#How to put image in markdown\n",
    "1. one way to put image on to markdown is to go to Edit -> Insert Image -> select the image, upload and ok.\n",
    "2. use html code, this provides better control as you can adjust width and height of the image. The image will be placed in the center of the screen.\n",
    "<img src=\"normaldistribution.png\" width=\"500\" height=\"340\" />\n",
    "\n",
    "#src stands for source file. <br>\n",
    "\n",
    "We have already talked about randn().  <br>\n",
    "randn() allows you to generate a random number from a normal distribution <br>\n",
    "\n",
    "#### What does normal distribution tells us\n",
    "You see a bell curve . <br>\n",
    "What does those percentages tell us: <br>\n",
    "The chance for a random variable to fall somewhere within the bell curve. <br>\n",
    "$68.2%$ chances for a random variable to fall between $-1\\sigma$ and $1\\sigma$. <br>\n",
    "$13.6%$ chances for a random variable to fall betwen $1\\sigma$ and $2\\sigma$. and so on... <br>\n",
    "\n",
    "So if you pay attention to percentage: <br>\n",
    "You will realise that percentage is decreasing as it is moving away from mean(==0). This is how the normal distribution works. <br>"
   ]
  },
  {
   "cell_type": "markdown",
   "id": "c2a485a5",
   "metadata": {},
   "source": [
    "---\n",
    "Exercise:  <br>\n",
    "---\n",
    "mean, $\\overline{X_{n}} = 0$ , stdev ($\\sigma$) = 1 <br>\n",
    "Create a python script that will count how many of these numbers fall between -1 and 1 and divide by the total quantity of N. <br>\n",
    " You know that $E(X)$ $=$ $68.2%$ <br>\n",
    " Check that Mean($\\overline{X_{n}}$) &#8594; $E(X)$ as you rerun your script while increasing N. <br>"
   ]
  },
  {
   "cell_type": "code",
   "execution_count": 4,
   "id": "d7b3b0f4",
   "metadata": {},
   "outputs": [
    {
     "data": {
      "text/plain": [
       "array([-1.33953713, -1.39618338,  2.57600598, -1.02316007, -1.60035197,\n",
       "       -0.72125238,  0.61227007, -0.3655813 , -0.04176123, -1.20984376])"
      ]
     },
     "execution_count": 4,
     "metadata": {},
     "output_type": "execute_result"
    }
   ],
   "source": [
    "import numpy as np\n",
    "from numpy.random import randn\n",
    "randn(10) #randn() is similar to rnorm() that we used in R"
   ]
  },
  {
   "cell_type": "code",
   "execution_count": 5,
   "id": "a02e11b2",
   "metadata": {},
   "outputs": [
    {
     "name": "stdout",
     "output_type": "stream",
     "text": [
      "6\n",
      "0\n",
      "3\n",
      "0.6\n",
      "0.0\n",
      "0.3\n"
     ]
    }
   ],
   "source": [
    "N = 10 #Created a variable so that I just need to change N when running loop for higher value \n",
    "x = 0 #initialization\n",
    "y = 0 #initialization\n",
    "z = 0 #initialization\n",
    "for i in randn(N): #for loop is used for iterating over N values\n",
    "    if i > -1 and i < 1: #chained statements are used to check the conditions\n",
    "        x = x + 1\n",
    "    elif i > 1 and i < 2:\n",
    "        y = y + 1\n",
    "    else:\n",
    "        if i < -1 and i > -2:\n",
    "            z = z + 1\n",
    "print(x)\n",
    "print(y)\n",
    "print(z)\n",
    "answer1 = x/N\n",
    "print(answer1)\n",
    "answer2 = y/N\n",
    "print(answer2)\n",
    "answer3 = z/N\n",
    "print(answer3)           \n",
    "        "
   ]
  },
  {
   "cell_type": "code",
   "execution_count": 6,
   "id": "93583f2d",
   "metadata": {},
   "outputs": [
    {
     "name": "stdout",
     "output_type": "stream",
     "text": [
      "64\n",
      "11\n",
      "20\n",
      "0.64\n",
      "0.11\n",
      "0.2\n"
     ]
    }
   ],
   "source": [
    "N = 100 #Created a variable so that I just need to change N when running loop for higher value \n",
    "x = 0 #initialization\n",
    "y = 0 #initialization\n",
    "z = 0 #initialization\n",
    "for i in randn(N):\n",
    "    if i > -1 and i < 1:\n",
    "        x = x + 1\n",
    "    elif i > 1 and i < 2:\n",
    "        y = y + 1\n",
    "    else:\n",
    "        if i < -1 and i > -2:\n",
    "            z = z + 1\n",
    "print(x)\n",
    "print(y)\n",
    "print(z)\n",
    "answer1 = x/N\n",
    "print(answer1)\n",
    "answer2 = y/N\n",
    "print(answer2)\n",
    "answer3 = z/N\n",
    "print(answer3)"
   ]
  },
  {
   "cell_type": "code",
   "execution_count": 7,
   "id": "c50296b2",
   "metadata": {},
   "outputs": [
    {
     "name": "stdout",
     "output_type": "stream",
     "text": [
      "670\n",
      "136\n",
      "150\n",
      "0.67\n",
      "0.136\n",
      "0.15\n"
     ]
    }
   ],
   "source": [
    "N = 1000 #Created a variable so that I just need to change N when running loop for higher value \n",
    "x = 0 #initialization\n",
    "y = 0 #initialization\n",
    "z = 0 #initialization\n",
    "for i in randn(N):\n",
    "    if i > -1 and i < 1:\n",
    "        x = x + 1\n",
    "    elif i > 1 and i < 2:\n",
    "        y = y + 1\n",
    "    else:\n",
    "        if i < -1 and i > -2:\n",
    "            z = z + 1\n",
    "print(x)\n",
    "print(y)\n",
    "print(z)\n",
    "answer1 = x/N\n",
    "print(answer1)\n",
    "answer2 = y/N\n",
    "print(answer2)\n",
    "answer3 = z/N\n",
    "print(answer3)"
   ]
  },
  {
   "cell_type": "code",
   "execution_count": 8,
   "id": "ababa9d4",
   "metadata": {},
   "outputs": [
    {
     "name": "stdout",
     "output_type": "stream",
     "text": [
      "6824\n",
      "1355\n",
      "1366\n",
      "0.6824\n",
      "0.1355\n",
      "0.1366\n"
     ]
    }
   ],
   "source": [
    "N = 10000 #Created a variable so that I just need to change N when running loop for higher value \n",
    "x = 0 #initialization\n",
    "y = 0 #initialization\n",
    "z = 0 #initialization\n",
    "for i in randn(N):\n",
    "    if i > -1 and i < 1:\n",
    "        x = x + 1\n",
    "    elif i > 1 and i < 2:\n",
    "        y = y + 1\n",
    "    else:\n",
    "        if i < -1 and i > -2:\n",
    "            z = z + 1\n",
    "print(x)\n",
    "print(y)\n",
    "print(z)\n",
    "answer1 = x/N\n",
    "print(answer1)\n",
    "answer2 = y/N\n",
    "print(answer2)\n",
    "answer3 = z/N\n",
    "print(answer3)"
   ]
  },
  {
   "cell_type": "code",
   "execution_count": 9,
   "id": "2b4e91e4",
   "metadata": {
    "scrolled": true
   },
   "outputs": [
    {
     "name": "stdout",
     "output_type": "stream",
     "text": [
      "68098\n",
      "13568\n",
      "13654\n",
      "0.68098\n",
      "0.13568\n",
      "0.13654\n"
     ]
    }
   ],
   "source": [
    "N = 100000 #Created a variable so that I just need to change N when running loop for higher value \n",
    "x = 0 #initialization\n",
    "y = 0 #initialization\n",
    "z = 0 #initialization\n",
    "for i in randn(N):\n",
    "    if i > -1 and i < 1:\n",
    "        x = x + 1\n",
    "    elif i > 1 and i < 2:\n",
    "        y = y + 1\n",
    "    else:\n",
    "        if i < -1 and i > -2:\n",
    "            z = z + 1\n",
    "print(x)\n",
    "print(y)\n",
    "print(z)\n",
    "answer1 = x/N\n",
    "print(answer1)\n",
    "answer2 = y/N\n",
    "print(answer2)\n",
    "answer3 = z/N\n",
    "print(answer3)"
   ]
  },
  {
   "cell_type": "markdown",
   "id": "d5c78781",
   "metadata": {},
   "source": [
    "What do we see? <br>\n",
    "As the sample size is increasing, <br>\n",
    "~68% is falling between -1 and 1 <br>\n",
    "~13.6% is falling between 1 and 2 <br>\n",
    "~13.6% is falling between -1 and -2 <br>"
   ]
  }
 ],
 "metadata": {
  "kernelspec": {
   "display_name": "Python 3 (ipykernel)",
   "language": "python",
   "name": "python3"
  },
  "language_info": {
   "codemirror_mode": {
    "name": "ipython",
    "version": 3
   },
   "file_extension": ".py",
   "mimetype": "text/x-python",
   "name": "python",
   "nbconvert_exporter": "python",
   "pygments_lexer": "ipython3",
   "version": "3.9.12"
  }
 },
 "nbformat": 4,
 "nbformat_minor": 5
}
