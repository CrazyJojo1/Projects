{
 "cells": [
  {
   "cell_type": "code",
   "execution_count": 1,
   "id": "7033c872",
   "metadata": {},
   "outputs": [
    {
     "data": {
      "text/plain": [
       "[0, 1, 2, 3, 4, 5, 6, 7, 8, 9, 10, 11, 12, 13, 14]"
      ]
     },
     "execution_count": 1,
     "metadata": {},
     "output_type": "execute_result"
    }
   ],
   "source": [
    "#What is a l\n",
    "#two ways to create a l\n",
    "#1. using l(range())\n",
    "#list(range(5))\n",
    "list(range(15))"
   ]
  },
  {
   "cell_type": "code",
   "execution_count": 18,
   "id": "13b82671",
   "metadata": {},
   "outputs": [
    {
     "data": {
      "text/plain": [
       "[2, 3, 4, 5, True, 'I']"
      ]
     },
     "execution_count": 18,
     "metadata": {},
     "output_type": "execute_result"
    }
   ],
   "source": [
    "#2. using square bracket\n",
    "l1 = [2,3,4,5,True, \"I\"]\n",
    "l1\n",
    "#list is different from vectors as it can store data of mix type.\n"
   ]
  },
  {
   "cell_type": "code",
   "execution_count": 22,
   "id": "c11e43ee",
   "metadata": {},
   "outputs": [
    {
     "data": {
      "text/plain": [
       "2"
      ]
     },
     "execution_count": 22,
     "metadata": {},
     "output_type": "execute_result"
    }
   ],
   "source": [
    "#accessing individual elements of a list\n",
    "l1[0]"
   ]
  },
  {
   "cell_type": "code",
   "execution_count": 23,
   "id": "9cb56316",
   "metadata": {},
   "outputs": [
    {
     "data": {
      "text/plain": [
       "True"
      ]
     },
     "execution_count": 23,
     "metadata": {},
     "output_type": "execute_result"
    }
   ],
   "source": [
    "l1[4]"
   ]
  },
  {
   "cell_type": "code",
   "execution_count": 24,
   "id": "4d259ac1",
   "metadata": {},
   "outputs": [
    {
     "data": {
      "text/plain": [
       "True"
      ]
     },
     "execution_count": 24,
     "metadata": {},
     "output_type": "execute_result"
    }
   ],
   "source": [
    "y=l1[4]\n",
    "y"
   ]
  },
  {
   "cell_type": "code",
   "execution_count": 8,
   "id": "2469e578",
   "metadata": {},
   "outputs": [
    {
     "data": {
      "text/plain": [
       "bool"
      ]
     },
     "execution_count": 8,
     "metadata": {},
     "output_type": "execute_result"
    }
   ],
   "source": [
    "type(y)"
   ]
  },
  {
   "cell_type": "code",
   "execution_count": 25,
   "id": "8a90d051",
   "metadata": {},
   "outputs": [],
   "source": [
    "l1[4] = 5"
   ]
  },
  {
   "cell_type": "code",
   "execution_count": 27,
   "id": "606edf2a",
   "metadata": {},
   "outputs": [
    {
     "data": {
      "text/plain": [
       "[2, 3, 4, 5, 5, 'I']"
      ]
     },
     "execution_count": 27,
     "metadata": {},
     "output_type": "execute_result"
    }
   ],
   "source": [
    "l1"
   ]
  },
  {
   "cell_type": "code",
   "execution_count": null,
   "id": "42f6cea8",
   "metadata": {},
   "outputs": [],
   "source": [
    "#indexation of list element start from 0 instead of 1(as we see in R)"
   ]
  },
  {
   "cell_type": "code",
   "execution_count": 11,
   "id": "6e8abb22",
   "metadata": {},
   "outputs": [
    {
     "data": {
      "text/plain": [
       "range(0, 5)"
      ]
     },
     "execution_count": 11,
     "metadata": {},
     "output_type": "execute_result"
    }
   ],
   "source": [
    "#Range function\n",
    "#range(start, stop, step)\n",
    "range(5)#this is assuming the start=0 and stop = 5\n",
    "range() is a number generator- it can used in for loops to gives number of iteration"
   ]
  },
  {
   "cell_type": "code",
   "execution_count": 12,
   "id": "ab780c4b",
   "metadata": {},
   "outputs": [
    {
     "name": "stdout",
     "output_type": "stream",
     "text": [
      "0\n",
      "1\n",
      "2\n",
      "3\n",
      "4\n"
     ]
    }
   ],
   "source": [
    "for i in range(5):\n",
    "    print(i)"
   ]
  },
  {
   "cell_type": "code",
   "execution_count": 8,
   "id": "879bb18e",
   "metadata": {},
   "outputs": [
    {
     "name": "stdout",
     "output_type": "stream",
     "text": [
      "[2, 4, 6]\n",
      "[7, 5, 3]\n"
     ]
    }
   ],
   "source": [
    "#range(2,7) means the zeroth value = 2 and the last indexation is 6\n",
    "#2,3,4,5,6\n",
    "range(2,7)\n",
    "list(range(2,7))\n",
    "print(list(range(2,7,2)))\n",
    "#This will give you 2 4 6\n",
    "list(range(2,7,3))\n",
    "#will give you 2 5\n",
    "#using negative step\n",
    "list(range(2,7,-1))\n",
    "#This gives you an empty list\n",
    "print(list(range(7,2,-2)))\n"
   ]
  },
  {
   "cell_type": "code",
   "execution_count": 1,
   "id": "a0b272fa",
   "metadata": {},
   "outputs": [
    {
     "data": {
      "text/plain": [
       "[]"
      ]
     },
     "execution_count": 1,
     "metadata": {},
     "output_type": "execute_result"
    }
   ],
   "source": [
    "list(range(7,2))"
   ]
  },
  {
   "cell_type": "code",
   "execution_count": 2,
   "id": "b307f7c6",
   "metadata": {},
   "outputs": [
    {
     "data": {
      "text/plain": [
       "[7, 6, 5, 4, 3]"
      ]
     },
     "execution_count": 2,
     "metadata": {},
     "output_type": "execute_result"
    }
   ],
   "source": [
    "list(range(7,2,-1))"
   ]
  },
  {
   "cell_type": "code",
   "execution_count": 3,
   "id": "c637f088",
   "metadata": {},
   "outputs": [
    {
     "data": {
      "text/plain": [
       "[2, 3, 4, 5, 6]"
      ]
     },
     "execution_count": 3,
     "metadata": {},
     "output_type": "execute_result"
    }
   ],
   "source": [
    "list(range(2,7))"
   ]
  },
  {
   "cell_type": "code",
   "execution_count": 5,
   "id": "5971a41f",
   "metadata": {},
   "outputs": [
    {
     "data": {
      "text/plain": [
       "list"
      ]
     },
     "execution_count": 5,
     "metadata": {},
     "output_type": "execute_result"
    }
   ],
   "source": [
    "#let's make a list\n",
    "y = [1,2,3,4,5,6,7]\n",
    "type(y)"
   ]
  },
  {
   "cell_type": "code",
   "execution_count": null,
   "id": "ef9e8e34",
   "metadata": {},
   "outputs": [],
   "source": []
  }
 ],
 "metadata": {
  "kernelspec": {
   "display_name": "Python 3 (ipykernel)",
   "language": "python",
   "name": "python3"
  },
  "language_info": {
   "codemirror_mode": {
    "name": "ipython",
    "version": 3
   },
   "file_extension": ".py",
   "mimetype": "text/x-python",
   "name": "python",
   "nbconvert_exporter": "python",
   "pygments_lexer": "ipython3",
   "version": "3.9.12"
  }
 },
 "nbformat": 4,
 "nbformat_minor": 5
}
