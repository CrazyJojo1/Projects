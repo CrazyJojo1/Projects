{
 "cells": [
  {
   "cell_type": "markdown",
   "id": "5b3c06b4",
   "metadata": {},
   "source": [
    " **What is a tuple?**  <br>\n",
    "It is a immutable list. <br>\n",
    "\n",
    "What is the meaning of immutable?? <br>\n",
    "- it means, you cannot change the list once you have created it. \n",
    "\n",
    " **How to create a tuple?** <br>\n",
    "In order to create a list, you would say something like <br>\n",
    "```python\n",
    "mylist= [345,674,934]\n",
    "```\n",
    "But for a tuple, instead of using square brackets, <u>you use parenthesis.</u>  <br>\n",
    "```python\n",
    "mytuple = (345,674,934)\n",
    "```\n",
    " **Accessing elements of tuple** - very similar to what you do with a list <br>\n",
    "- Use square brackets <br>\n",
    "SYNTAX: <br>\n",
    "name_of_tuple[enumeration] <br>\n",
    "```python\n",
    "mytuple[2] = 934\n",
    "```\n",
    " **List is mutable, tuple is immutable** \n",
    "```python\n",
    "#let's try to change the list\n",
    "mylist= [345,674,934]\n",
    "#accesing it elements using square brackets\n",
    "mylist[0] = 345\n",
    "#let's change the very first element of this list\n",
    "mylist[0] = 300\n",
    "#print your list\n",
    "mylist = [300, 674, 934]\n",
    "```\n",
    "List is mutable (can be changed) <br>\n",
    "#-------------------------------------------------------------------- <br>\n",
    " **Immutable aspect of tuple**\n",
    "```python\n",
    "#let's try to change tuple elements\n",
    "mytuple = (345,674,934)\n",
    "#access first element of tuple\n",
    "mytuple[0] = 345\n",
    "#try changing it\n",
    "mytuple[0] = 300\n",
    "#you get an error message\n",
    "TypeError: 'tuple' object does not support item assignment\n",
    "```\n",
    " **Where tuples are used?** <br>\n",
    "Sometimes you have to pass list to functions and to objects and you need to be sure that the list you are passing is not going to be changed. <br>\n",
    "So you rarely use tuples in data analytics and data science. <br>\n",
    "But tuples is very important part of programming and development that is used in python. <br>\n",
    "Plus, there are some functions in python that require you to pass tuple to them. <br>\n"
   ]
  },
  {
   "cell_type": "code",
   "execution_count": 7,
   "id": "991c51b7",
   "metadata": {},
   "outputs": [],
   "source": [
    "mylist= [345,674,934]"
   ]
  },
  {
   "cell_type": "code",
   "execution_count": 2,
   "id": "cd8bd334",
   "metadata": {},
   "outputs": [
    {
     "data": {
      "text/plain": [
       "(345, 674, 934)"
      ]
     },
     "execution_count": 2,
     "metadata": {},
     "output_type": "execute_result"
    }
   ],
   "source": [
    "mytuple = (345,674,934)\n",
    "#print mytuple\n",
    "mytuple"
   ]
  },
  {
   "cell_type": "code",
   "execution_count": 4,
   "id": "8e4b1d96",
   "metadata": {},
   "outputs": [
    {
     "data": {
      "text/plain": [
       "345"
      ]
     },
     "execution_count": 4,
     "metadata": {},
     "output_type": "execute_result"
    }
   ],
   "source": [
    "#accessing the elements of tuple\n",
    "mytuple[0]"
   ]
  },
  {
   "cell_type": "code",
   "execution_count": 5,
   "id": "977e3fa2",
   "metadata": {},
   "outputs": [
    {
     "data": {
      "text/plain": [
       "934"
      ]
     },
     "execution_count": 5,
     "metadata": {},
     "output_type": "execute_result"
    }
   ],
   "source": [
    "mytuple[2]"
   ]
  },
  {
   "cell_type": "code",
   "execution_count": 8,
   "id": "37e9a8bc",
   "metadata": {},
   "outputs": [
    {
     "data": {
      "text/plain": [
       "345"
      ]
     },
     "execution_count": 8,
     "metadata": {},
     "output_type": "execute_result"
    }
   ],
   "source": [
    "mylist[0]"
   ]
  },
  {
   "cell_type": "code",
   "execution_count": 10,
   "id": "23994e09",
   "metadata": {},
   "outputs": [
    {
     "data": {
      "text/plain": [
       "[300, 674, 934]"
      ]
     },
     "execution_count": 10,
     "metadata": {},
     "output_type": "execute_result"
    }
   ],
   "source": [
    "mylist[0] = 300\n",
    "mylist"
   ]
  },
  {
   "cell_type": "code",
   "execution_count": 11,
   "id": "d51b825a",
   "metadata": {},
   "outputs": [
    {
     "data": {
      "text/plain": [
       "345"
      ]
     },
     "execution_count": 11,
     "metadata": {},
     "output_type": "execute_result"
    }
   ],
   "source": [
    "mytuple[0]"
   ]
  },
  {
   "cell_type": "code",
   "execution_count": 12,
   "id": "86d44370",
   "metadata": {},
   "outputs": [
    {
     "ename": "TypeError",
     "evalue": "'tuple' object does not support item assignment",
     "output_type": "error",
     "traceback": [
      "\u001b[0;31m---------------------------------------------------------------------------\u001b[0m",
      "\u001b[0;31mTypeError\u001b[0m                                 Traceback (most recent call last)",
      "Input \u001b[0;32mIn [12]\u001b[0m, in \u001b[0;36m<cell line: 1>\u001b[0;34m()\u001b[0m\n\u001b[0;32m----> 1\u001b[0m mytuple[\u001b[38;5;241m0\u001b[39m] \u001b[38;5;241m=\u001b[39m \u001b[38;5;241m300\u001b[39m\n",
      "\u001b[0;31mTypeError\u001b[0m: 'tuple' object does not support item assignment"
     ]
    }
   ],
   "source": [
    "mytuple[0] = 300"
   ]
  }
 ],
 "metadata": {
  "kernelspec": {
   "display_name": "Python 3 (ipykernel)",
   "language": "python",
   "name": "python3"
  },
  "language_info": {
   "codemirror_mode": {
    "name": "ipython",
    "version": 3
   },
   "file_extension": ".py",
   "mimetype": "text/x-python",
   "name": "python",
   "nbconvert_exporter": "python",
   "pygments_lexer": "ipython3",
   "version": "3.9.12"
  }
 },
 "nbformat": 4,
 "nbformat_minor": 5
}
