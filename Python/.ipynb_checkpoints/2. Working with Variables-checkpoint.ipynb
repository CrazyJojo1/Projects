{
 "cells": [
  {
   "cell_type": "markdown",
   "id": "cd2ef84e",
   "metadata": {},
   "source": [
    "Today we will learn how to work with variables."
   ]
  },
  {
   "cell_type": "code",
   "execution_count": 1,
   "id": "3a19105b",
   "metadata": {},
   "outputs": [],
   "source": [
    "#Creating an integer variable\n",
    "A = 10"
   ]
  },
  {
   "cell_type": "code",
   "execution_count": 2,
   "id": "78d0bb24",
   "metadata": {},
   "outputs": [],
   "source": [
    "B = 5"
   ]
  },
  {
   "cell_type": "code",
   "execution_count": 4,
   "id": "a0c0d74c",
   "metadata": {},
   "outputs": [],
   "source": [
    "#Let's do simple arithmetic using these variables\n",
    "C = A + B"
   ]
  },
  {
   "cell_type": "code",
   "execution_count": 5,
   "id": "0caa1de9",
   "metadata": {},
   "outputs": [
    {
     "data": {
      "text/plain": [
       "15"
      ]
     },
     "execution_count": 5,
     "metadata": {},
     "output_type": "execute_result"
    }
   ],
   "source": [
    "# Print C value on screen\n",
    "C"
   ]
  },
  {
   "cell_type": "code",
   "execution_count": 6,
   "id": "ce4636e6",
   "metadata": {},
   "outputs": [
    {
     "data": {
      "text/plain": [
       "0.5"
      ]
     },
     "execution_count": 6,
     "metadata": {},
     "output_type": "execute_result"
    }
   ],
   "source": [
    "#Let's do division\n",
    "D = B/A\n",
    "D"
   ]
  },
  {
   "cell_type": "markdown",
   "id": "327352e4",
   "metadata": {},
   "source": [
    "---"
   ]
  },
  {
   "cell_type": "code",
   "execution_count": 7,
   "id": "f76207f3",
   "metadata": {},
   "outputs": [
    {
     "data": {
      "text/plain": [
       "15"
      ]
     },
     "execution_count": 7,
     "metadata": {},
     "output_type": "execute_result"
    }
   ],
   "source": [
    "#There are two ways to print something on screen\n",
    "#1st way: just enter the name of the variable \n",
    "C\n"
   ]
  },
  {
   "cell_type": "code",
   "execution_count": 8,
   "id": "ef69f518",
   "metadata": {},
   "outputs": [
    {
     "name": "stdout",
     "output_type": "stream",
     "text": [
      "15\n"
     ]
    }
   ],
   "source": [
    "#2nd way : using print function (proper way)\n",
    "print(C)"
   ]
  },
  {
   "cell_type": "code",
   "execution_count": 10,
   "id": "c6445755",
   "metadata": {},
   "outputs": [
    {
     "name": "stdout",
     "output_type": "stream",
     "text": [
      "0.5\n"
     ]
    }
   ],
   "source": [
    "print(D)\n",
    "#important note : 0.5 is a decimal or float integer and \n",
    "#you get a float integer using two integers(A and B are integers)"
   ]
  },
  {
   "cell_type": "code",
   "execution_count": 11,
   "id": "cddb41b8",
   "metadata": {},
   "outputs": [
    {
     "data": {
      "text/plain": [
       "float"
      ]
     },
     "execution_count": 11,
     "metadata": {},
     "output_type": "execute_result"
    }
   ],
   "source": [
    "type(D)"
   ]
  },
  {
   "cell_type": "code",
   "execution_count": 12,
   "id": "603cddb9",
   "metadata": {},
   "outputs": [
    {
     "data": {
      "text/plain": [
       "int"
      ]
     },
     "execution_count": 12,
     "metadata": {},
     "output_type": "execute_result"
    }
   ],
   "source": [
    "type(A)"
   ]
  },
  {
   "cell_type": "code",
   "execution_count": 13,
   "id": "4d63892c",
   "metadata": {},
   "outputs": [
    {
     "data": {
      "text/plain": [
       "int"
      ]
     },
     "execution_count": 13,
     "metadata": {},
     "output_type": "execute_result"
    }
   ],
   "source": [
    "type(B)"
   ]
  },
  {
   "cell_type": "markdown",
   "id": "fd2d566a",
   "metadata": {},
   "source": [
    "---"
   ]
  },
  {
   "cell_type": "code",
   "execution_count": 15,
   "id": "8155b4e7",
   "metadata": {},
   "outputs": [],
   "source": [
    "#Why is it better to use print() function than typing the name of the variables??"
   ]
  },
  {
   "cell_type": "code",
   "execution_count": null,
   "id": "0c34ae3e",
   "metadata": {},
   "outputs": [],
   "source": [
    "#Using Print() allows you to print multiple outputs using single cell"
   ]
  },
  {
   "cell_type": "code",
   "execution_count": 16,
   "id": "07e362d8",
   "metadata": {},
   "outputs": [
    {
     "name": "stdout",
     "output_type": "stream",
     "text": [
      "10\n",
      "5\n",
      "15\n",
      "0.5\n"
     ]
    }
   ],
   "source": [
    "print(A)\n",
    "print(B)\n",
    "print(C)\n",
    "print(D)"
   ]
  },
  {
   "cell_type": "code",
   "execution_count": null,
   "id": "7d010586",
   "metadata": {},
   "outputs": [],
   "source": [
    "#using variables name will print only last variable name"
   ]
  },
  {
   "cell_type": "code",
   "execution_count": 17,
   "id": "8ca36f95",
   "metadata": {},
   "outputs": [
    {
     "data": {
      "text/plain": [
       "0.5"
      ]
     },
     "execution_count": 17,
     "metadata": {},
     "output_type": "execute_result"
    }
   ],
   "source": [
    "A\n",
    "B\n",
    "C\n",
    "D"
   ]
  },
  {
   "cell_type": "code",
   "execution_count": null,
   "id": "c3c3309f",
   "metadata": {},
   "outputs": [],
   "source": [
    "#This is the reason as to why print() is preferred compared to variable name."
   ]
  },
  {
   "cell_type": "markdown",
   "id": "9e0d4d39",
   "metadata": {},
   "source": [
    "---"
   ]
  },
  {
   "cell_type": "code",
   "execution_count": 19,
   "id": "18a5fa69",
   "metadata": {},
   "outputs": [],
   "source": [
    "#Let's try advanced arithmetics: square root\n",
    "#But to do that - you will need to import the math module"
   ]
  },
  {
   "cell_type": "code",
   "execution_count": 23,
   "id": "2cd7dcca",
   "metadata": {},
   "outputs": [],
   "source": [
    "import math\n",
    "\n",
    "#math module consist of functions that allows use to carry out operation such as square root and others"
   ]
  },
  {
   "cell_type": "code",
   "execution_count": 24,
   "id": "9a6fcdfc",
   "metadata": {},
   "outputs": [
    {
     "data": {
      "text/plain": [
       "3.1622776601683795"
      ]
     },
     "execution_count": 24,
     "metadata": {},
     "output_type": "execute_result"
    }
   ],
   "source": [
    "math.sqrt(A)"
   ]
  },
  {
   "cell_type": "code",
   "execution_count": 25,
   "id": "176522ab",
   "metadata": {},
   "outputs": [
    {
     "data": {
      "text/plain": [
       "10.0"
      ]
     },
     "execution_count": 25,
     "metadata": {},
     "output_type": "execute_result"
    }
   ],
   "source": [
    "#A is the variable name that we created before. But if you don't have variable than just use the value as shown below\n",
    "math.sqrt(100)"
   ]
  },
  {
   "cell_type": "code",
   "execution_count": 26,
   "id": "5dc68e8a",
   "metadata": {},
   "outputs": [],
   "source": [
    "#Let's try another math function"
   ]
  },
  {
   "cell_type": "code",
   "execution_count": 27,
   "id": "b6caafbc",
   "metadata": {},
   "outputs": [
    {
     "data": {
      "text/plain": [
       "3"
      ]
     },
     "execution_count": 27,
     "metadata": {},
     "output_type": "execute_result"
    }
   ],
   "source": [
    "round(math.sqrt(A))"
   ]
  },
  {
   "cell_type": "code",
   "execution_count": 28,
   "id": "097df960",
   "metadata": {},
   "outputs": [
    {
     "data": {
      "text/plain": [
       "3"
      ]
     },
     "execution_count": 28,
     "metadata": {},
     "output_type": "execute_result"
    }
   ],
   "source": [
    "#What are we doing above??\n",
    "round(3.1622776601683795)"
   ]
  },
  {
   "cell_type": "code",
   "execution_count": 30,
   "id": "47bd751c",
   "metadata": {},
   "outputs": [
    {
     "data": {
      "text/plain": [
       "2"
      ]
     },
     "execution_count": 30,
     "metadata": {},
     "output_type": "execute_result"
    }
   ],
   "source": [
    "#So it is upto you to have two steps : find sqrt and then do round\n",
    "math.sqrt(B)\n",
    "round(math.sqrt(B))\n",
    "#or \n",
    "#do it in one step\n",
    "round(math.sqrt(B))"
   ]
  },
  {
   "cell_type": "markdown",
   "id": "3c2b6f60",
   "metadata": {},
   "source": [
    "----"
   ]
  },
  {
   "cell_type": "code",
   "execution_count": 35,
   "id": "a4da3701",
   "metadata": {},
   "outputs": [],
   "source": [
    "#let's work with strings\n",
    "\n",
    "#create two string variables\n",
    "greeting = \"Hello\"\n",
    "name = \"Bob\""
   ]
  },
  {
   "cell_type": "code",
   "execution_count": 36,
   "id": "c2dd50b1",
   "metadata": {},
   "outputs": [
    {
     "name": "stdout",
     "output_type": "stream",
     "text": [
      "HelloBob\n"
     ]
    }
   ],
   "source": [
    "#Let's create a message using those string variables\n",
    "message = greeting + name\n",
    "print(message)"
   ]
  },
  {
   "cell_type": "code",
   "execution_count": 37,
   "id": "9718beb6",
   "metadata": {},
   "outputs": [],
   "source": [
    "#Problem : we want Hello Bob and not HelloBob (spacing problem)"
   ]
  },
  {
   "cell_type": "code",
   "execution_count": 40,
   "id": "b7adf895",
   "metadata": {},
   "outputs": [
    {
     "name": "stdout",
     "output_type": "stream",
     "text": [
      "Hello Bob\n"
     ]
    }
   ],
   "source": [
    "#fix\n",
    "message = greeting + \" \" + name\n",
    "print(message)"
   ]
  },
  {
   "cell_type": "code",
   "execution_count": null,
   "id": "3ee9c815",
   "metadata": {},
   "outputs": [],
   "source": [
    "# \" \" is an empty string with space between quotations. empty string is \"\"; empty string with space is \" \""
   ]
  },
  {
   "cell_type": "code",
   "execution_count": 41,
   "id": "40553dab",
   "metadata": {},
   "outputs": [],
   "source": [
    "#let's create a message that has integer, float and string in it.\n",
    "report = \"score of\"\n",
    "Student = \"A and B\"\n",
    "score1 = 50.5 \n",
    "score2 = 88"
   ]
  },
  {
   "cell_type": "code",
   "execution_count": 42,
   "id": "5876bb93",
   "metadata": {},
   "outputs": [
    {
     "ename": "TypeError",
     "evalue": "can only concatenate str (not \"float\") to str",
     "output_type": "error",
     "traceback": [
      "\u001b[0;31m---------------------------------------------------------------------------\u001b[0m",
      "\u001b[0;31mTypeError\u001b[0m                                 Traceback (most recent call last)",
      "Input \u001b[0;32mIn [42]\u001b[0m, in \u001b[0;36m<cell line: 1>\u001b[0;34m()\u001b[0m\n\u001b[0;32m----> 1\u001b[0m message1 \u001b[38;5;241m=\u001b[39m \u001b[43mreport\u001b[49m\u001b[43m \u001b[49m\u001b[38;5;241;43m+\u001b[39;49m\u001b[43m \u001b[49m\u001b[38;5;124;43m\"\u001b[39;49m\u001b[38;5;124;43m \u001b[39;49m\u001b[38;5;124;43m\"\u001b[39;49m\u001b[43m \u001b[49m\u001b[38;5;241;43m+\u001b[39;49m\u001b[43m \u001b[49m\u001b[43mStudent\u001b[49m\u001b[43m \u001b[49m\u001b[38;5;241;43m+\u001b[39;49m\u001b[43m \u001b[49m\u001b[38;5;124;43m\"\u001b[39;49m\u001b[38;5;124;43m \u001b[39;49m\u001b[38;5;124;43m\"\u001b[39;49m\u001b[38;5;241;43m+\u001b[39;49m\u001b[43m \u001b[49m\u001b[38;5;124;43m\"\u001b[39;49m\u001b[38;5;124;43mis\u001b[39;49m\u001b[38;5;124;43m\"\u001b[39;49m\u001b[43m \u001b[49m\u001b[38;5;241;43m+\u001b[39;49m\u001b[43m \u001b[49m\u001b[38;5;124;43m\"\u001b[39;49m\u001b[38;5;124;43m \u001b[39;49m\u001b[38;5;124;43m\"\u001b[39;49m\u001b[43m \u001b[49m\u001b[38;5;241;43m+\u001b[39;49m\u001b[43m \u001b[49m\u001b[43mscore1\u001b[49m \u001b[38;5;241m+\u001b[39m \u001b[38;5;124m\"\u001b[39m\u001b[38;5;124m \u001b[39m\u001b[38;5;124m\"\u001b[39m \u001b[38;5;241m+\u001b[39m \u001b[38;5;124m\"\u001b[39m\u001b[38;5;124mand\u001b[39m\u001b[38;5;124m\"\u001b[39m \u001b[38;5;241m+\u001b[39m \u001b[38;5;124m\"\u001b[39m\u001b[38;5;124m \u001b[39m\u001b[38;5;124m\"\u001b[39m \u001b[38;5;241m+\u001b[39m score2\n",
      "\u001b[0;31mTypeError\u001b[0m: can only concatenate str (not \"float\") to str"
     ]
    }
   ],
   "source": [
    "message1 = report + \" \" + Student + \" \"+ \"is\" + \" \" + score1 + \" \" + \"and\" + \" \" + score2"
   ]
  },
  {
   "cell_type": "code",
   "execution_count": 44,
   "id": "a05cbae1",
   "metadata": {},
   "outputs": [
    {
     "name": "stdout",
     "output_type": "stream",
     "text": [
      "score of A and B is \n"
     ]
    }
   ],
   "source": [
    "message1 = report + \" \" + Student + \" \"+ \"is\" + \" \"\n",
    "print(message1)"
   ]
  },
  {
   "cell_type": "code",
   "execution_count": 46,
   "id": "e0db54f4",
   "metadata": {},
   "outputs": [
    {
     "data": {
      "text/plain": [
       "'50.5 and 88'"
      ]
     },
     "execution_count": 46,
     "metadata": {},
     "output_type": "execute_result"
    }
   ],
   "source": [
    "message2 = \"50.5\" + \" \" + \"and\" + \" \" + \"88\"\n",
    "message2"
   ]
  },
  {
   "cell_type": "code",
   "execution_count": 49,
   "id": "f33e9923",
   "metadata": {},
   "outputs": [
    {
     "name": "stdout",
     "output_type": "stream",
     "text": [
      "score of A and B is  50.5 and 88\n"
     ]
    }
   ],
   "source": [
    "message3 = message1 + \" \" + message2\n",
    "print(message3)"
   ]
  },
  {
   "cell_type": "markdown",
   "id": "5d8c0774",
   "metadata": {},
   "source": [
    "#### When working with Strings\n",
    "so when working with strings- don't use another other data type in concatenation. Meaning?\n",
    "1. Only concatenate str with str.\n",
    "    - look at the TypeError shown in In[42]"
   ]
  },
  {
   "cell_type": "markdown",
   "id": "f8ec35d7",
   "metadata": {},
   "source": [
    "#### When working with modules\n",
    "1. Import that module (**import** *name of module*) . for example. **import** *math* \n",
    "2. When using that module and the function within it. use this syntax shown below-\n",
    "    - module.function_name() \n",
    "    - for instance, (math.sqrt())"
   ]
  }
 ],
 "metadata": {
  "kernelspec": {
   "display_name": "Python 3 (ipykernel)",
   "language": "python",
   "name": "python3"
  },
  "language_info": {
   "codemirror_mode": {
    "name": "ipython",
    "version": 3
   },
   "file_extension": ".py",
   "mimetype": "text/x-python",
   "name": "python",
   "nbconvert_exporter": "python",
   "pygments_lexer": "ipython3",
   "version": "3.9.12"
  }
 },
 "nbformat": 4,
 "nbformat_minor": 5
}
