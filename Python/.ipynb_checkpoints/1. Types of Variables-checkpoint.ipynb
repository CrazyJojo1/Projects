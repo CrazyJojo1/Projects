{
 "cells": [
  {
   "cell_type": "code",
   "execution_count": 2,
   "id": "84d0d70f",
   "metadata": {},
   "outputs": [
    {
     "data": {
      "text/plain": [
       "2"
      ]
     },
     "execution_count": 2,
     "metadata": {},
     "output_type": "execute_result"
    }
   ],
   "source": [
    "#four main types of Variables\n",
    "#1. Integer\n",
    "x = 2\n",
    "#you don't get the result as you just assigned value to a variable x, \n",
    "#to print use print() function\n",
    "x"
   ]
  },
  {
   "cell_type": "code",
   "execution_count": 3,
   "id": "8f435fdb",
   "metadata": {},
   "outputs": [
    {
     "data": {
      "text/plain": [
       "int"
      ]
     },
     "execution_count": 3,
     "metadata": {},
     "output_type": "execute_result"
    }
   ],
   "source": [
    "#remember in R: to specify integer, you use 2L (L is what differentiate it from decimal or double type)\n",
    "type(x)"
   ]
  },
  {
   "cell_type": "code",
   "execution_count": null,
   "id": "a7a4e530",
   "metadata": {},
   "outputs": [],
   "source": [
    "#integer range from (-non-decimal values) to (+ non-decimal values)"
   ]
  },
  {
   "cell_type": "code",
   "execution_count": null,
   "id": "d293a20a",
   "metadata": {},
   "outputs": [],
   "source": [
    "#Note : use B to add Cell below existing cell and\n",
    "#use A to add cell above existing cell\n",
    "#use DD to delete the cell (your cursor should not be in the cell when you are deleting it)\n",
    "\n",
    "#what is delimiter?\n",
    "#it separated columns or marks the separation of cells\n",
    "##how to add a delimiter?\n",
    "#step1: open new cell \n",
    "#step2: select markdown (left to command palette)\n",
    "#step3: you type three minus signs and press (command + enter)"
   ]
  },
  {
   "cell_type": "markdown",
   "id": "aa108914",
   "metadata": {},
   "source": [
    "---"
   ]
  },
  {
   "cell_type": "markdown",
   "id": "4b7b439c",
   "metadata": {},
   "source": [
    " # you can shift from markdown to code format by using y key.\n",
    "when to use markdown?\n",
    "when you need to write down text.\n",
    "This allows you not to use the hash # before writing the text.\n",
    "\n",
    "## In order to add heading to you text use # and space in the very beginning of your text\n",
    "Use ## and space to add subheading \n",
    "Use ### and space (you get the idea: increase in hash marks the decrease in size)\n",
    "# This is my heading\n",
    "## This is my subheading\n",
    "### This is my sub-subheading\n",
    "\n",
    "How to make the text italic\n",
    "- In the beginning of the word use two astericks and no space to make it italic\n",
    "**My name is idiot*\n",
    "\n",
    "In order to add points use - and space\n",
    "- Hello\n",
    "\n",
    "You will see the changes in you document when you press command + enter\n",
    "\n"
   ]
  },
  {
   "cell_type": "markdown",
   "id": "a7c46bea",
   "metadata": {},
   "source": [
    "Markdown allows you to create notebooks that contains your notes and codes\n"
   ]
  },
  {
   "cell_type": "markdown",
   "id": "be665203",
   "metadata": {},
   "source": [
    "# How to number things using markdown \n",
    "1. Hello\n",
    "    1. stupid.\n",
    "    2. Ma'am\n",
    "2. Forget\n",
    "    1. people\n",
    "    2. to eat\n",
    "\n",
    "I am using numbering 1. and 2. and inorder to create a sublist, I am using tab and then giving 1. and 2. and so on...\n",
    "\n",
    "# How to use bullets instead - use minus sign instead of numbers.\n",
    "- Hello\n",
    "    - stupid.\n",
    "    - Ma'am\n",
    "- Forget\n",
    "    - people\n",
    "    - to eat"
   ]
  },
  {
   "cell_type": "markdown",
   "id": "7104ac94",
   "metadata": {},
   "source": [
    "# Use M key to convert you code cell to markdown cell"
   ]
  },
  {
   "cell_type": "markdown",
   "id": "5449712f",
   "metadata": {},
   "source": [
    "Inorder to add color to you paython code use three back ticks and type python in the start.\n",
    "For example\n",
    "\n",
    "``` python\n",
    "y = f(x)\n",
    "int(y)\n",
    "```"
   ]
  },
  {
   "cell_type": "markdown",
   "id": "fc2795aa",
   "metadata": {},
   "source": [
    "# How to add links\n",
    "\n",
    "In the square bracket type what you want to be in the link and in parenthesis type the actual link\n",
    "\n",
    "Learn how to use markdown. [Jupiter](https://www.youtube.com/watch?v=uVLzL5E-YBM)"
   ]
  },
  {
   "attachments": {},
   "cell_type": "markdown",
   "id": "20146d07",
   "metadata": {},
   "source": [
    "# How to add image \n",
    "That is on your to-do"
   ]
  },
  {
   "cell_type": "markdown",
   "id": "f1e0b782",
   "metadata": {},
   "source": [
    "This is python basics"
   ]
  },
  {
   "cell_type": "code",
   "execution_count": 5,
   "id": "c10c5ade",
   "metadata": {},
   "outputs": [
    {
     "name": "stdout",
     "output_type": "stream",
     "text": [
      "Hello\n"
     ]
    }
   ],
   "source": [
    "print(\"Hello\")"
   ]
  },
  {
   "cell_type": "markdown",
   "id": "b23367d5",
   "metadata": {},
   "source": [
    "The second type of variable used in python is\n",
    "# FLOAT a.k.a Double\n",
    "Float is a variable type that contains decimal points"
   ]
  },
  {
   "cell_type": "code",
   "execution_count": 7,
   "id": "3803fd85",
   "metadata": {},
   "outputs": [
    {
     "data": {
      "text/plain": [
       "2.5"
      ]
     },
     "execution_count": 7,
     "metadata": {},
     "output_type": "execute_result"
    }
   ],
   "source": [
    "y = 2.5\n",
    "y"
   ]
  },
  {
   "cell_type": "code",
   "execution_count": 9,
   "id": "5af67652",
   "metadata": {},
   "outputs": [
    {
     "data": {
      "text/plain": [
       "float"
      ]
     },
     "execution_count": 9,
     "metadata": {},
     "output_type": "execute_result"
    }
   ],
   "source": [
    "type(y)"
   ]
  },
  {
   "cell_type": "markdown",
   "id": "9831f711",
   "metadata": {},
   "source": [
    "Integers take up less space compared to float variable.\n",
    "So it is important to specify a variable as integer as it saves memory"
   ]
  },
  {
   "cell_type": "markdown",
   "id": "86ccb0a2",
   "metadata": {},
   "source": [
    "- Note: \n",
    "    - Use escape key to move between cells. This allows you to change the cell type (code or markdown)\n",
    "    - Use enter key to start typing into the cell you can in."
   ]
  },
  {
   "cell_type": "markdown",
   "id": "dd07ddf8",
   "metadata": {},
   "source": [
    "- Help:  \n",
    "    -Click on Help icon on the top and look into keyboard shortcuts.\n"
   ]
  },
  {
   "cell_type": "markdown",
   "id": "b41e8285",
   "metadata": {},
   "source": [
    "- Toggle toolbar and toggle header to add space to you screen. Below is how to do that:\n",
    "    - Click on View icon and then select toggle toolbar and toggle header."
   ]
  },
  {
   "cell_type": "markdown",
   "id": "874bb4bb",
   "metadata": {},
   "source": [
    "The third type of variable is \n",
    "# String\n",
    "It is a character type. So, inorder to add string- you use double quotations."
   ]
  },
  {
   "cell_type": "code",
   "execution_count": 14,
   "id": "d0a8fdf6",
   "metadata": {},
   "outputs": [
    {
     "data": {
      "text/plain": [
       "'Hell 2'"
      ]
     },
     "execution_count": 14,
     "metadata": {},
     "output_type": "execute_result"
    }
   ],
   "source": [
    "a = \"Hello\"\n",
    "a\n",
    "b= 'Hell 2'\n",
    "b"
   ]
  },
  {
   "cell_type": "code",
   "execution_count": 11,
   "id": "9a759c31",
   "metadata": {},
   "outputs": [
    {
     "data": {
      "text/plain": [
       "str"
      ]
     },
     "execution_count": 11,
     "metadata": {},
     "output_type": "execute_result"
    }
   ],
   "source": [
    "type(a)"
   ]
  },
  {
   "cell_type": "markdown",
   "id": "2f78de74",
   "metadata": {},
   "source": [
    "In python: it doesnot matter whether you use single quotations or double quotations when specifying a string."
   ]
  },
  {
   "cell_type": "code",
   "execution_count": 15,
   "id": "386e3b4a",
   "metadata": {},
   "outputs": [
    {
     "data": {
      "text/plain": [
       "'Hell 2'"
      ]
     },
     "execution_count": 15,
     "metadata": {},
     "output_type": "execute_result"
    }
   ],
   "source": [
    "b"
   ]
  },
  {
   "cell_type": "markdown",
   "id": "5e5a88d4",
   "metadata": {},
   "source": [
    "The fourth data type \n",
    "# Logical / Boolean\n",
    "It is True and False. It is a boolean type or bool for short."
   ]
  },
  {
   "cell_type": "code",
   "execution_count": 17,
   "id": "5be83ecd",
   "metadata": {},
   "outputs": [
    {
     "data": {
      "text/plain": [
       "True"
      ]
     },
     "execution_count": 17,
     "metadata": {},
     "output_type": "execute_result"
    }
   ],
   "source": [
    "q = True\n",
    "q"
   ]
  },
  {
   "cell_type": "code",
   "execution_count": 18,
   "id": "63f4c30f",
   "metadata": {},
   "outputs": [
    {
     "data": {
      "text/plain": [
       "bool"
      ]
     },
     "execution_count": 18,
     "metadata": {},
     "output_type": "execute_result"
    }
   ],
   "source": [
    "type(q)"
   ]
  },
  {
   "cell_type": "markdown",
   "id": "4a359a70",
   "metadata": {},
   "source": [
    "---"
   ]
  }
 ],
 "metadata": {
  "kernelspec": {
   "display_name": "Python 3 (ipykernel)",
   "language": "python",
   "name": "python3"
  },
  "language_info": {
   "codemirror_mode": {
    "name": "ipython",
    "version": 3
   },
   "file_extension": ".py",
   "mimetype": "text/x-python",
   "name": "python",
   "nbconvert_exporter": "python",
   "pygments_lexer": "ipython3",
   "version": "3.9.12"
  }
 },
 "nbformat": 4,
 "nbformat_minor": 5
}
