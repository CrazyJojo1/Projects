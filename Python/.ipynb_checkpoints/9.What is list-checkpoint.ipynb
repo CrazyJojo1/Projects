{
 "cells": [
  {
   "cell_type": "markdown",
   "id": "5a34549e",
   "metadata": {},
   "source": [
    "**What is a list in python?** <br>\n",
    "\n",
    "|----|----|----|----|----|----|   <br>\n",
    "\n",
    "Think of list as a horizontal book shelf with element inside it.  <br>\n",
    "Let's place elements inside this single row:   <br>\n",
    "\n",
    "| 50 | 30 | 111 | 7 | 24 | 631 | 20 | 4 | 7 | 21 |    <br>\n",
    " \n",
    "So list is an ordered set of elements, so they are always enumerated, this means   <br>\n",
    "they will be counted or retrieved based on their location within the list.  <br>\n",
    "\n",
    "  0.    1.   2.   3.   4.   5.   6.   7.  8   9.  \n",
    "| 50 | 30 | 111 | 7 | 24 | 631 | 20 | 4 | 7 | 21 | \n",
    "\n",
    "0,1,2,3,4,5,6,7,8,9 is enumeration, it tells you that the above list contains 10 elements. <br>\n",
    "\n",
    "The enumeration of list starts from 0.  <br>\n",
    "Note: enumeration is very important because that is how you access/retreive element from a list <br>\n",
    "\n",
    "The get first element of list, you will type list[0]  <br>\n",
    "(counting in python starts from 0, so first element of list will be in the zeroth position).  <br>\n",
    "\n",
    "**What is special about list in python?** <br>\n",
    "- You can have mixed data type:  <br>\n",
    "\n",
    "| \"A\" | \"Hey\" | 7 | True | 27.5 | \"B\" | -100 |   <br>\n",
    "\n",
    "So, your list can have character type, logical type, integer, float.  <br>\n",
    "\n",
    "- Also, list works like a storage medium."
   ]
  },
  {
   "cell_type": "code",
   "execution_count": 2,
   "id": "a08d4816",
   "metadata": {},
   "outputs": [
    {
     "data": {
      "text/plain": [
       "[1, 2, 3, 4, 5, 6, 7]"
      ]
     },
     "execution_count": 2,
     "metadata": {},
     "output_type": "execute_result"
    }
   ],
   "source": [
    "l=[1,2,3,4,5,6,7]\n",
    "l"
   ]
  },
  {
   "cell_type": "code",
   "execution_count": 7,
   "id": "b7bf4f72",
   "metadata": {},
   "outputs": [
    {
     "data": {
      "text/plain": [
       "3"
      ]
     },
     "execution_count": 7,
     "metadata": {},
     "output_type": "execute_result"
    }
   ],
   "source": [
    "l[2]"
   ]
  }
 ],
 "metadata": {
  "kernelspec": {
   "display_name": "Python 3 (ipykernel)",
   "language": "python",
   "name": "python3"
  },
  "language_info": {
   "codemirror_mode": {
    "name": "ipython",
    "version": 3
   },
   "file_extension": ".py",
   "mimetype": "text/x-python",
   "name": "python",
   "nbconvert_exporter": "python",
   "pygments_lexer": "ipython3",
   "version": "3.9.12"
  }
 },
 "nbformat": 4,
 "nbformat_minor": 5
}
