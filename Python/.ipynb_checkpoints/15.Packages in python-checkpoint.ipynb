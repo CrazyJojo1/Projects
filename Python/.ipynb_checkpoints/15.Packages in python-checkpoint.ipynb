{
 "cells": [
  {
   "cell_type": "markdown",
   "id": "2cbfbb79",
   "metadata": {},
   "source": [
    "**What is in python packages?** <br>\n",
    "Mostly functions  <br>\n",
    "But, Sometimes they may also have classes, data and other thing. <br>\n",
    "\n",
    "A single package may have **different functions** that we may want to **import** into our code to simplify our work. <br>\n",
    "Since python has minimum in-built functions, you may need to install these packages. Once installed, you then just need to import them to use them in your code. <br>\n",
    "\n",
    "Each packages is designed for specific funcitonality:  <br>\n",
    "Some are good for working with big data sets. <br>\n",
    "......................... for processing twitter data. <br>\n",
    "......................... for visualisations.<br>\n",
    "and etc. <br>\n",
    "\n",
    " **Module and package** <br>\n",
    " A module is a **single file** containing functions or scripts. These modules can further be imported into your code. <br>\n",
    " \n",
    " A package, on the other hand, is a **directory** that contains a collection of modules.For instance, NumPy or SciPy has hundreds of  indiviual modules.  <br>\n",
    " These modules are very well organised using a directory-like structure.  <br>\n",
    " \n",
    "  **What are the steps of including a package into your code?** <br>\n",
    "  STEPS:- <br>\n",
    "  1. Find the package - since each package is designed for a specific functionality, you would need to filter based on your work.\n",
    "  2. Install package\n",
    "  3. Import the package or you import a certain function\n",
    "  \n",
    "  Step 1: <u> Find the package </u> <br>\n",
    "  Where would you find a package? <br>\n",
    "  Let's say you need a package that allows video processing, etc. <br>\n",
    "  Answer: **GitHub** <br>\n",
    "  (github is a repository of code and its completely free) <br>\n",
    "  \n",
    "  Step2:<u> Install </u> <br>\n",
    "  a. Windows - go to anaconda command prompt or command line <br>\n",
    "   then type in command prompt -  \n",
    "```python \n",
    "   conda install package_name  \n",
    "or,\n",
    "   pip install package_name \n",
    "   ```\n",
    "  b. Mac - go to terminal <br>\n",
    "  then type -  \n",
    "```python \n",
    "   conda install package_name  \n",
    "#or, \n",
    "   pip install package_name\n",
    "```         \n",
    "  A shortcut to open new terminal Tab - command + T <br>\n",
    "  \n",
    "  Step3 : Import package or import function <br>\n",
    "  a. On Mac : <br>\n",
    "  **To import the package**\n",
    "```python \n",
    "   import package_name \n",
    "```\n",
    "                    \n",
    "  **To import specific function form a package** -\n",
    "```python\n",
    "   from package_name import function_name \n",
    "```\n",
    "                      \n",
    "  **To import specific function from a module**-\n",
    "```python\n",
    "   from package_name.module_name import function_name \n",
    "```\n",
    "  \n",
    "  \n",
    "  #---------------------------------------------------------------------------------------#\n",
    "  To find the package: \n",
    "  - go to github, type the name of the package in the search box. \n",
    "  - you will see quite a list of packages that bear the same name\n",
    "  Note: Some of these packages are not used in python, instead they are built for other languages.\n",
    "  - to avoid installing the wrong package - click python (left hand side under languages) \n",
    "  - now click on one of the names\n",
    "  - As you click on one of the names, just scroll down that page and you will find information about the package and how to install it.\n",
    " \n",
    " **Below we will be installing scrapy (a web scraping tool)**\n",
    " ```python\n",
    " pip install scrapy # (type this in to your terminal window)\n",
    "import scrapy # (on to python jupyter) #see if you receive an error message... if not.. the Good! (means package has successfully installed)\n",
    "from scrapy.crawler import CrawlerProcess\n",
    "#here, crawler is the name of the module within the package scrapy, and \n",
    "#CrawlerProcess is the class\n",
    "#---------------------------\n",
    "#just to check everything has installed\n",
    "#type scrapy. and then press tab key\n",
    "#tab key allows you to see modules present within the package. You can select one of them \n",
    "#this means, the kernel is allowing you to access the package\n",
    "scrapy.----\n",
    "scrapy.crawler\n",
    "#you get \n",
    "<module 'scrapy.crawler' from '/Users/rajanbawa/opt/anaconda3/lib/python3.9/site-packages/scrapy/crawler.py'>\n",
    "#-----------------------------\n",
    "CrawlerProcess.----\n",
    "#Since CrawlerProcess is a class, \n",
    "#typing CrawlerProcess and the tab gives you suggestions of methods within that class.\n",
    "```\n",
    "Note: Some packages are pre-installed in anaconda. Mainly the popular one's like NumPy and others. <br>\n",
    "But if you are using IDE for python, then you may have to install them as well. But installing is also easy after this lecture."
   ]
  },
  {
   "cell_type": "code",
   "execution_count": 1,
   "id": "d2a1aa75",
   "metadata": {},
   "outputs": [],
   "source": [
    "#go to your terminal on mac\n",
    "#after installing scrapy ... \n",
    "#how to import\n",
    "import scrapy"
   ]
  },
  {
   "cell_type": "code",
   "execution_count": 4,
   "id": "4ebea241",
   "metadata": {},
   "outputs": [
    {
     "data": {
      "text/plain": [
       "<module 'scrapy.crawler' from '/Users/rajanbawa/opt/anaconda3/lib/python3.9/site-packages/scrapy/crawler.py'>"
      ]
     },
     "execution_count": 4,
     "metadata": {},
     "output_type": "execute_result"
    }
   ],
   "source": [
    "#you received no error message when running the import command... this means scrapy installed successfully\n",
    "\n",
    "from scrapy.crawler import CrawlerProcess\n",
    "scrapy.crawler"
   ]
  },
  {
   "cell_type": "code",
   "execution_count": 5,
   "id": "ecf339d0",
   "metadata": {},
   "outputs": [
    {
     "data": {
      "text/plain": [
       "<property at 0x7fe1f3377c20>"
      ]
     },
     "execution_count": 5,
     "metadata": {},
     "output_type": "execute_result"
    }
   ],
   "source": [
    "CrawlerProcess.crawlers"
   ]
  },
  {
   "cell_type": "code",
   "execution_count": 6,
   "id": "3ce3f3d9",
   "metadata": {},
   "outputs": [],
   "source": [
    "import mermaid"
   ]
  }
 ],
 "metadata": {
  "kernelspec": {
   "display_name": "Python 3 (ipykernel)",
   "language": "python",
   "name": "python3"
  },
  "language_info": {
   "codemirror_mode": {
    "name": "ipython",
    "version": 3
   },
   "file_extension": ".py",
   "mimetype": "text/x-python",
   "name": "python",
   "nbconvert_exporter": "python",
   "pygments_lexer": "ipython3",
   "version": "3.9.12"
  }
 },
 "nbformat": 4,
 "nbformat_minor": 5
}
