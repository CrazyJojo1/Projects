{
 "cells": [
  {
   "cell_type": "markdown",
   "id": "9c6ca658",
   "metadata": {},
   "source": [
    "**List** <br>\n",
    "List in python are very similar to arrays (in programming languages like C, C++) or vectors (in R). <br>\n",
    "\n",
    "At the same time, list is different.  <br>\n",
    "why??  <br>\n",
    "List in python allows you to store mixed data type.  <br> \n",
    "```python\n",
    "#vector in R must be of same data type - numeric vector or logical vector or character vector etc\n",
    "R_vector_numeric = c(2,3,5,6,9,10)\n",
    "R_vector_char = c(\"Hello\", \"mister\",\"how\",\"are\", \"you\")\n",
    "#-------------------------------------------------------\n",
    "#But list can store mix data type\n",
    "l = [2,\"Hello\",4.5,True,\"nature\"] \n",
    "list2 = [3,4,l] #storing list named l into it.\n",
    "#check data type\n",
    "type(l) = list\n",
    "```\n",
    "**functions included in list object**  <br>\n",
    "Also, if you take your list and press dot and then press tab, because python is an object oriented programming language, tab allows you to see the functions that are part of an object. The object here is a list  <br>\n",
    "<img src=\"list.png\" width=\"200\" height=\"150\" />  <br>\n",
    "What does that mean??  <br>\n",
    "```python\n",
    "l = [23234,27,546,215,-1234]\n",
    "#using one of the function that you see when you press tab\n",
    "l.pop() = -1234 #pop() allows you to take out(remove) the last element from the list\n",
    "#now print list\n",
    "l= [23234, 27, 546, 215] #the last element is removed\n",
    "```\n",
    "When using functions that appear when you press dot and tab, use this syntax:  <br>\n",
    "**list_name.function_name( )**  <br>\n",
    "e.g. l.pop( )  <br>\n",
    "Note: don't forget to use ( ) in the end.  <br>\n",
    "\n",
    "\n",
    " **Array** <br>\n",
    " It is an another data structure.  <br>\n",
    " It is different from list. <br>\n",
    " \n",
    " Types of arrays:-  <br>\n",
    " 1. Arrays that are in-built in python. (These are called Array arrays)\n",
    " 2. NumPy arrays   <br>\n",
    " \n",
    "Note: NumPy array is much versatile and provides much added flexibility and control than in-built arrays. So, in this course we will just cover NumPy arrays only. <br>\n",
    "```python\n",
    "#add numpy package\n",
    "import numpy as np\n",
    "```\n",
    "What is numpy as np? <br>\n",
    "np is an alias for numpy. What that means is ... you don't need to type numpy everytime you have to use it. You can simply type np instead. <br>\n",
    "\n",
    "How to convert a list in to an array? <br>\n",
    "```python\n",
    "np.array(List_name)\n",
    "#e.g.\n",
    "#list\n",
    "l = [23234,27,546,215,-1234]\n",
    "#converting it to array\n",
    "np.array(l) = array([23234,    27,   546,   215, -1234])\n",
    "#let's store this array into an object\n",
    "a = np.array(l)\n",
    "#print a\n",
    "a = array([23234,    27,   546,   215, -1234])\n",
    "```\n",
    "So, what is the difference between array and list?  <br>\n",
    "1. Array is like a vector in R environment. Meaning, array is of a single data-type. You cannot use mix-data type in array.\n",
    "```python\n",
    "b= np.array([2,\"Hello\",4.5,True,\"nature\"])\n",
    "#output\n",
    "b= ['2' 'Hello' '4.5' 'True' 'nature'] #you see a character vector\n",
    "```\n",
    "#what do you see above? <br>\n",
    "You get a character vector by implicit coercion.  <br>\n",
    "- if you have a character type with numeric or logical variable, then numpy will convert it into character type. <br>\n",
    "- if you have a floating type with numeric and logical, then numpy will convert it into a float type. <br>\n",
    "\n",
    "```python\n",
    "c= np.array([2,4.5,True])\n",
    "print(c) = array([2. , 4.5, 1. ])  # you see a float type vector \n",
    "```\n",
    "2. So list is more flexible as you can use different data types. Doesn't that makes a list better compared to an array. So, why do we use an array??  <br>\n",
    "There are few benefits of using arrays and they are quite substantial.  <br>\n",
    "\n",
    "**Methods included in array object**   <br>\n",
    "Most of these methods(like mean(), max(), etc.) come because of NumPy package.  <br>\n",
    " - Also, if you take your array and press dot and then press tab, tab allows you to see the functions and objects included into that array.  <br>\n",
    "This time you get way more methods(they are methods instead of functions) than you get with a list  <br>\n",
    "<img src=\"array.png\" width=\"200\" height=\"150\" />  <br>\n",
    "\n",
    "```python\n",
    "#create a list\n",
    "l = [23234,27,546,215]\n",
    "#convert this list into an array\n",
    "a = np.array(l)\n",
    "#print array\n",
    "a = array([23234,    27,   546,   215])\n",
    "#use dot and tab on this created array\n",
    "a.mean() = 6005.5\n",
    "a.min() = 27\n",
    "a.max() = 23234\n",
    "```\n",
    "This makes array more versatile compared to list. This comes because of NumPy.  <br>\n",
    "\n",
    " -  Working with multi-dimenstional arrays  <br>\n",
    " For instance,matrices are 2-Dimenstional array.  <br>\n",
    " So, in order to works with a matrix (tables) and data frames, we would need arrays.  <br>\n",
    " Esp. for data analytics... working with array is inevitable.  <br>"
   ]
  },
  {
   "cell_type": "code",
   "execution_count": 1,
   "id": "2a18fbce",
   "metadata": {},
   "outputs": [
    {
     "data": {
      "text/plain": [
       "[23234, 27, 546, 215, -1234]"
      ]
     },
     "execution_count": 1,
     "metadata": {},
     "output_type": "execute_result"
    }
   ],
   "source": [
    "#Let's create a list\n",
    "l = [23234,27,546,215,-1234]\n",
    "#print list\n",
    "l"
   ]
  },
  {
   "cell_type": "code",
   "execution_count": 4,
   "id": "9783b8e9",
   "metadata": {},
   "outputs": [],
   "source": [
    "import numpy as np"
   ]
  },
  {
   "cell_type": "code",
   "execution_count": 5,
   "id": "d6376781",
   "metadata": {},
   "outputs": [
    {
     "data": {
      "text/plain": [
       "array([23234,    27,   546,   215])"
      ]
     },
     "execution_count": 5,
     "metadata": {},
     "output_type": "execute_result"
    }
   ],
   "source": [
    "a = np.array(l)\n",
    "a"
   ]
  },
  {
   "cell_type": "code",
   "execution_count": 3,
   "id": "99aff8a5",
   "metadata": {},
   "outputs": [
    {
     "data": {
      "text/plain": [
       "[2, 'Hello', 4.5, True, 'nature']"
      ]
     },
     "execution_count": 3,
     "metadata": {},
     "output_type": "execute_result"
    }
   ],
   "source": [
    "[2,\"Hello\",4.5,True,\"nature\"]"
   ]
  },
  {
   "cell_type": "code",
   "execution_count": 11,
   "id": "6a9a21a0",
   "metadata": {},
   "outputs": [],
   "source": [
    "b= np.array([2,\"Hello\",4.5,True,\"nature\"])"
   ]
  },
  {
   "cell_type": "code",
   "execution_count": 12,
   "id": "a5d44ff5",
   "metadata": {},
   "outputs": [
    {
     "name": "stdout",
     "output_type": "stream",
     "text": [
      "['2' 'Hello' '4.5' 'True' 'nature']\n"
     ]
    }
   ],
   "source": [
    "print(b)"
   ]
  },
  {
   "cell_type": "code",
   "execution_count": 14,
   "id": "4f7f92b8",
   "metadata": {},
   "outputs": [],
   "source": [
    "c= np.array([2,4.5,True])"
   ]
  },
  {
   "cell_type": "code",
   "execution_count": 15,
   "id": "f545a201",
   "metadata": {},
   "outputs": [
    {
     "data": {
      "text/plain": [
       "array([2. , 4.5, 1. ])"
      ]
     },
     "execution_count": 15,
     "metadata": {},
     "output_type": "execute_result"
    }
   ],
   "source": [
    "c"
   ]
  },
  {
   "cell_type": "code",
   "execution_count": 13,
   "id": "4c648c78",
   "metadata": {},
   "outputs": [
    {
     "data": {
      "text/plain": [
       "numpy.ndarray"
      ]
     },
     "execution_count": 13,
     "metadata": {},
     "output_type": "execute_result"
    }
   ],
   "source": [
    "type(b)"
   ]
  },
  {
   "cell_type": "code",
   "execution_count": 5,
   "id": "70336bd3",
   "metadata": {},
   "outputs": [
    {
     "data": {
      "text/plain": [
       "list"
      ]
     },
     "execution_count": 5,
     "metadata": {},
     "output_type": "execute_result"
    }
   ],
   "source": [
    "type([2,\"Hello\",4.5,True,\"nature\"])"
   ]
  },
  {
   "cell_type": "code",
   "execution_count": 2,
   "id": "9340adfc",
   "metadata": {},
   "outputs": [
    {
     "data": {
      "text/plain": [
       "-1234"
      ]
     },
     "execution_count": 2,
     "metadata": {},
     "output_type": "execute_result"
    }
   ],
   "source": [
    "l.pop()"
   ]
  },
  {
   "cell_type": "code",
   "execution_count": 3,
   "id": "b17be612",
   "metadata": {},
   "outputs": [
    {
     "data": {
      "text/plain": [
       "[23234, 27, 546, 215]"
      ]
     },
     "execution_count": 3,
     "metadata": {},
     "output_type": "execute_result"
    }
   ],
   "source": [
    "l"
   ]
  },
  {
   "cell_type": "code",
   "execution_count": 8,
   "id": "a50c6ee3",
   "metadata": {},
   "outputs": [
    {
     "data": {
      "text/plain": [
       "6005.5"
      ]
     },
     "execution_count": 8,
     "metadata": {},
     "output_type": "execute_result"
    }
   ],
   "source": [
    "a.mean()\n"
   ]
  },
  {
   "cell_type": "code",
   "execution_count": 10,
   "id": "5a38ba9a",
   "metadata": {},
   "outputs": [
    {
     "data": {
      "text/plain": [
       "27"
      ]
     },
     "execution_count": 10,
     "metadata": {},
     "output_type": "execute_result"
    }
   ],
   "source": [
    "a.min()"
   ]
  }
 ],
 "metadata": {
  "kernelspec": {
   "display_name": "Python 3 (ipykernel)",
   "language": "python",
   "name": "python3"
  },
  "language_info": {
   "codemirror_mode": {
    "name": "ipython",
    "version": 3
   },
   "file_extension": ".py",
   "mimetype": "text/x-python",
   "name": "python",
   "nbconvert_exporter": "python",
   "pygments_lexer": "ipython3",
   "version": "3.9.12"
  }
 },
 "nbformat": 4,
 "nbformat_minor": 5
}
