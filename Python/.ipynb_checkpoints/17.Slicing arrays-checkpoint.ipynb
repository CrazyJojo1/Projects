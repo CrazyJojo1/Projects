{
 "cells": [
  {
   "cell_type": "markdown",
   "id": "6a6d46ef",
   "metadata": {},
   "source": [
    "We have covered slicing list before. <br>\n",
    "```python\n",
    "import numpy as np\n",
    "range(2,19,2)\n",
    "l = list(range(2,19,2))\n",
    "#print list\n",
    "l = [2, 4, 6, 8, 10, 12, 14, 16, 18]\n",
    "#Let's do slicing on it\n",
    "new list = l[7:2:-1]\n",
    "#print sliced list\n",
    "new list = [16, 14, 12, 10, 8]\n",
    "```\n",
    "#------------------------------------------ <br>\n",
    "\n",
    "Now can we slice arrays in the similar ways? <br>\n",
    "Yes <br>\n",
    "```python\n",
    "#list\n",
    "l = l = [2, 4, 6, 8, 10, 12, 14, 16, 18]\n",
    "#convert this list into an array\n",
    "A = np.array(l) \n",
    "#print array\n",
    "A = array([ 2,  4,  6,  8, 10, 12, 14, 16, 18])\n",
    "#apply slicing on this array\n",
    "B = A[2:8]\n",
    "#print sliced array\n",
    "B = array([ 6,  8, 10, 12, 14, 16])\n",
    "```\n",
    "Note:  <br> \n",
    "**When ever you slice an array, you don't create a copy of that array.** <br>\n",
    "In the above example, you may think B is an individual array.  <br>\n",
    "But in reality, B is just a view taken from array A. <br>\n",
    "Below, you will see that when changing values of sliced array, the parent array values also changes <br>\n",
    "So, slicing an array doesnot create a new array. <br>\n",
    "<u>You are working with the same array....slicing just allows you to zoom-in on some array elements.</u> <br>\n",
    "```python\n",
    "#use [ ] to access elements of B array\n",
    "B[0] = 6 #looking for very first element\n",
    "B[4] = 14\n",
    "#now let's say you want to assign them a value\n",
    "B[:] = 111 # [ : ] allows you to select all elemnt of an array\n",
    "#print B\n",
    "B = array([111, 111, 111, 111, 111, 111])  # we changed the entire array \n",
    "#let's print A array from which B array was sliced\n",
    "A #printing A\n",
    "A = array([  2,   4, 111, 111, 111, 111, 111, 111,  18])\n",
    "```\n",
    "Why new array is not created by slicing? <br>\n",
    "This is the way python or NumPy protects the memory of the computer. <br>\n",
    "\n",
    " **What if I do need to create a copy of existing array?? Can I do that?** <br>\n",
    "Yes <br>\n",
    "How? <br>\n",
    "By using one of the methods we discussed in the last lecture. It is called **copy( )**  <br>\n",
    "(**array.** and then, press tab. This gives you methods list. Select copy( ) from it.) <br>\n",
    "\n",
    " **Is the copied array independent and not a view of parent array?** <br>\n",
    "Yes, it is independent. <br>\n",
    "```python\n",
    "#existing array\n",
    "A = array([  2,   4, 111, 111, 111, 111, 111, 111,  18]) \n",
    "#make a copy of existing array. Let's call this array C\n",
    "C = A.copy()    #type A. and then press tab. From the list you see, select copy and add ( ) to it.\n",
    "#print C\n",
    "C = array([  2,   4, 111, 111, 111, 111, 111, 111,  18])\n",
    "#make changes to check its dependency with parent array\n",
    "C[2:5] = 1 #changing its values from index 2 to index 4\n",
    "#now print C\n",
    "C = array([  2,   4,   1,   1,   1, 111, 111, 111,  18])\n",
    "#print parent array, A\n",
    "A = array([  2,   4, 111, 111, 111, 111, 111, 111,  18]) \n",
    "#proved, C is independent of A.\n",
    "```"
   ]
  },
  {
   "cell_type": "code",
   "execution_count": 5,
   "id": "08537703",
   "metadata": {},
   "outputs": [
    {
     "data": {
      "text/plain": [
       "[2, 4, 6, 8, 10, 12, 14, 16, 18]"
      ]
     },
     "execution_count": 5,
     "metadata": {},
     "output_type": "execute_result"
    }
   ],
   "source": [
    "import numpy as np\n",
    "range(2,19,2)\n",
    "l = list(range(2,19,2))\n",
    "#print list\n",
    "l"
   ]
  },
  {
   "cell_type": "code",
   "execution_count": 9,
   "id": "21aa8e8f",
   "metadata": {},
   "outputs": [
    {
     "data": {
      "text/plain": [
       "[16, 14, 12, 10, 8]"
      ]
     },
     "execution_count": 9,
     "metadata": {},
     "output_type": "execute_result"
    }
   ],
   "source": [
    "#slicing\n",
    "list = l[7:2:-1]\n",
    "list"
   ]
  },
  {
   "cell_type": "code",
   "execution_count": 13,
   "id": "79500ca3",
   "metadata": {},
   "outputs": [
    {
     "data": {
      "text/plain": [
       "array([ 2,  4,  6,  8, 10, 12, 14, 16, 18])"
      ]
     },
     "execution_count": 13,
     "metadata": {},
     "output_type": "execute_result"
    }
   ],
   "source": [
    "#convert list into an array\n",
    "A = np.array(l)\n",
    "#print array\n",
    "A"
   ]
  },
  {
   "cell_type": "code",
   "execution_count": 16,
   "id": "b6ef7b1a",
   "metadata": {},
   "outputs": [
    {
     "data": {
      "text/plain": [
       "array([ 6,  8, 10, 12, 14, 16])"
      ]
     },
     "execution_count": 16,
     "metadata": {},
     "output_type": "execute_result"
    }
   ],
   "source": [
    "B = A[2:8]\n",
    "B"
   ]
  },
  {
   "cell_type": "code",
   "execution_count": 17,
   "id": "7cde47d5",
   "metadata": {},
   "outputs": [
    {
     "data": {
      "text/plain": [
       "6"
      ]
     },
     "execution_count": 17,
     "metadata": {},
     "output_type": "execute_result"
    }
   ],
   "source": [
    "B[0]"
   ]
  },
  {
   "cell_type": "code",
   "execution_count": 18,
   "id": "5eb8545f",
   "metadata": {},
   "outputs": [
    {
     "data": {
      "text/plain": [
       "14"
      ]
     },
     "execution_count": 18,
     "metadata": {},
     "output_type": "execute_result"
    }
   ],
   "source": [
    "B[4]"
   ]
  },
  {
   "cell_type": "code",
   "execution_count": 19,
   "id": "9971db4d",
   "metadata": {},
   "outputs": [],
   "source": [
    "B[:] = 111 "
   ]
  },
  {
   "cell_type": "code",
   "execution_count": 20,
   "id": "87597d8b",
   "metadata": {},
   "outputs": [
    {
     "data": {
      "text/plain": [
       "array([111, 111, 111, 111, 111, 111])"
      ]
     },
     "execution_count": 20,
     "metadata": {},
     "output_type": "execute_result"
    }
   ],
   "source": [
    "#print B\n",
    "B"
   ]
  },
  {
   "cell_type": "code",
   "execution_count": 21,
   "id": "4b73d17a",
   "metadata": {},
   "outputs": [
    {
     "data": {
      "text/plain": [
       "array([  2,   4, 111, 111, 111, 111, 111, 111,  18])"
      ]
     },
     "execution_count": 21,
     "metadata": {},
     "output_type": "execute_result"
    }
   ],
   "source": [
    "A"
   ]
  },
  {
   "cell_type": "code",
   "execution_count": 23,
   "id": "17c1e456",
   "metadata": {},
   "outputs": [
    {
     "data": {
      "text/plain": [
       "array([  2,   4, 111, 111, 111, 111, 111, 111,  18])"
      ]
     },
     "execution_count": 23,
     "metadata": {},
     "output_type": "execute_result"
    }
   ],
   "source": [
    "C = A.copy()\n",
    "C"
   ]
  },
  {
   "cell_type": "code",
   "execution_count": 25,
   "id": "d2408913",
   "metadata": {},
   "outputs": [
    {
     "data": {
      "text/plain": [
       "array([  2,   4,   1,   1,   1, 111, 111, 111,  18])"
      ]
     },
     "execution_count": 25,
     "metadata": {},
     "output_type": "execute_result"
    }
   ],
   "source": [
    "C[2:5] = 1\n",
    "C"
   ]
  },
  {
   "cell_type": "code",
   "execution_count": 26,
   "id": "8361aab5",
   "metadata": {},
   "outputs": [
    {
     "data": {
      "text/plain": [
       "array([  2,   4, 111, 111, 111, 111, 111, 111,  18])"
      ]
     },
     "execution_count": 26,
     "metadata": {},
     "output_type": "execute_result"
    }
   ],
   "source": [
    "A"
   ]
  }
 ],
 "metadata": {
  "kernelspec": {
   "display_name": "Python 3 (ipykernel)",
   "language": "python",
   "name": "python3"
  },
  "language_info": {
   "codemirror_mode": {
    "name": "ipython",
    "version": 3
   },
   "file_extension": ".py",
   "mimetype": "text/x-python",
   "name": "python",
   "nbconvert_exporter": "python",
   "pygments_lexer": "ipython3",
   "version": "3.9.12"
  }
 },
 "nbformat": 4,
 "nbformat_minor": 5
}
