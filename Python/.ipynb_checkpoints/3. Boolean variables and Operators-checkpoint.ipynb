{
 "cells": [
  {
   "cell_type": "code",
   "execution_count": 1,
   "id": "8ea6806b",
   "metadata": {},
   "outputs": [],
   "source": [
    "#Boolean means logical values \n",
    "#True and False\n",
    "#Note: Only first letter is capital"
   ]
  },
  {
   "cell_type": "code",
   "execution_count": 2,
   "id": "40232ff3",
   "metadata": {},
   "outputs": [
    {
     "data": {
      "text/plain": [
       "False"
      ]
     },
     "execution_count": 2,
     "metadata": {},
     "output_type": "execute_result"
    }
   ],
   "source": [
    "#reason to use logical values\n",
    "#When working with conditional statement or \n",
    "#When working with logical operators (<, >, <=, >=, ==, !, etc.)\n",
    "4 > 5"
   ]
  },
  {
   "cell_type": "code",
   "execution_count": 3,
   "id": "de66b018",
   "metadata": {},
   "outputs": [
    {
     "data": {
      "text/plain": [
       "True"
      ]
     },
     "execution_count": 3,
     "metadata": {},
     "output_type": "execute_result"
    }
   ],
   "source": [
    " 5 > 4"
   ]
  },
  {
   "cell_type": "code",
   "execution_count": 5,
   "id": "38ca8afa",
   "metadata": {},
   "outputs": [
    {
     "data": {
      "text/plain": [
       "False"
      ]
     },
     "execution_count": 5,
     "metadata": {},
     "output_type": "execute_result"
    }
   ],
   "source": [
    "5 == 4"
   ]
  },
  {
   "cell_type": "code",
   "execution_count": 6,
   "id": "b3055bc5",
   "metadata": {},
   "outputs": [
    {
     "data": {
      "text/plain": [
       "True"
      ]
     },
     "execution_count": 6,
     "metadata": {},
     "output_type": "execute_result"
    }
   ],
   "source": [
    "5 != 4 "
   ]
  },
  {
   "cell_type": "markdown",
   "id": "9807bbd9",
   "metadata": {},
   "source": [
    "---"
   ]
  },
  {
   "cell_type": "markdown",
   "id": "7edc99d3",
   "metadata": {},
   "source": [
    "Logical operators list\n",
    "1. ==  used for equal to condition\n",
    "2. !=  used for not equal to condition\n",
    "3. < less than\n",
    "4. **>** greater than\n",
    "5. <= less than equal to \n",
    "6. **>=** greater than equal to \n",
    "7. and  \n",
    "8. or\n",
    "9. not\n"
   ]
  },
  {
   "cell_type": "code",
   "execution_count": 7,
   "id": "b15ebfe7",
   "metadata": {},
   "outputs": [],
   "source": [
    "#In R,where you use &,|,!. \n",
    "#In python, you use and, or, and not instead."
   ]
  },
  {
   "cell_type": "code",
   "execution_count": 13,
   "id": "fc61a2a2",
   "metadata": {},
   "outputs": [
    {
     "name": "stdout",
     "output_type": "stream",
     "text": [
      "True\n",
      "<class 'bool'>\n"
     ]
    },
    {
     "data": {
      "text/plain": [
       "bool"
      ]
     },
     "execution_count": 13,
     "metadata": {},
     "output_type": "execute_result"
    }
   ],
   "source": [
    "#Storing logical result inside an object name\n",
    "result = 4 < 5\n",
    "#result is the name of the object that has stored logical value in it.\n",
    "print(result)"
   ]
  },
  {
   "cell_type": "code",
   "execution_count": 14,
   "id": "4572e066",
   "metadata": {},
   "outputs": [
    {
     "data": {
      "text/plain": [
       "bool"
      ]
     },
     "execution_count": 14,
     "metadata": {},
     "output_type": "execute_result"
    }
   ],
   "source": [
    "type(result)"
   ]
  },
  {
   "cell_type": "code",
   "execution_count": 15,
   "id": "79cf523d",
   "metadata": {},
   "outputs": [
    {
     "data": {
      "text/plain": [
       "False"
      ]
     },
     "execution_count": 15,
     "metadata": {},
     "output_type": "execute_result"
    }
   ],
   "source": [
    "#using not operator\n",
    "not(5 > 1)"
   ]
  },
  {
   "cell_type": "code",
   "execution_count": 17,
   "id": "9fbcfb9f",
   "metadata": {},
   "outputs": [
    {
     "name": "stdout",
     "output_type": "stream",
     "text": [
      "False\n"
     ]
    }
   ],
   "source": [
    "#storing the result in an object\n",
    "result2 = not(5 > 1)\n",
    "print(result2)"
   ]
  },
  {
   "cell_type": "code",
   "execution_count": 18,
   "id": "739413c9",
   "metadata": {},
   "outputs": [
    {
     "data": {
      "text/plain": [
       "bool"
      ]
     },
     "execution_count": 18,
     "metadata": {},
     "output_type": "execute_result"
    }
   ],
   "source": [
    "type(result2)"
   ]
  },
  {
   "cell_type": "markdown",
   "id": "cfab03bd",
   "metadata": {},
   "source": [
    "---"
   ]
  },
  {
   "cell_type": "code",
   "execution_count": 19,
   "id": "686c10d0",
   "metadata": {},
   "outputs": [
    {
     "data": {
      "text/plain": [
       "False"
      ]
     },
     "execution_count": 19,
     "metadata": {},
     "output_type": "execute_result"
    }
   ],
   "source": [
    "#let's see how the and and or operator works\n",
    "result2 and result == True\n",
    "#Both of the variables need to be True for the result to be True"
   ]
  },
  {
   "cell_type": "code",
   "execution_count": 20,
   "id": "bc03f529",
   "metadata": {},
   "outputs": [
    {
     "data": {
      "text/plain": [
       "True"
      ]
     },
     "execution_count": 20,
     "metadata": {},
     "output_type": "execute_result"
    }
   ],
   "source": [
    "result2 or result == True\n",
    "#only one of them needs to be True for the result to be True"
   ]
  },
  {
   "cell_type": "code",
   "execution_count": 21,
   "id": "39e4ddcd",
   "metadata": {},
   "outputs": [
    {
     "data": {
      "text/plain": [
       "False"
      ]
     },
     "execution_count": 21,
     "metadata": {},
     "output_type": "execute_result"
    }
   ],
   "source": [
    "#Another way of doing above is \n",
    "result2 and result\n",
    "#Checks of both variables are having True values, otherwise, the output is False"
   ]
  },
  {
   "cell_type": "code",
   "execution_count": 22,
   "id": "da0c6da3",
   "metadata": {},
   "outputs": [
    {
     "data": {
      "text/plain": [
       "True"
      ]
     },
     "execution_count": 22,
     "metadata": {},
     "output_type": "execute_result"
    }
   ],
   "source": [
    "result2 or result\n",
    "#Check if one of these variables has True value"
   ]
  }
 ],
 "metadata": {
  "kernelspec": {
   "display_name": "Python 3 (ipykernel)",
   "language": "python",
   "name": "python3"
  },
  "language_info": {
   "codemirror_mode": {
    "name": "ipython",
    "version": 3
   },
   "file_extension": ".py",
   "mimetype": "text/x-python",
   "name": "python",
   "nbconvert_exporter": "python",
   "pygments_lexer": "ipython3",
   "version": "3.9.12"
  }
 },
 "nbformat": 4,
 "nbformat_minor": 5
}
