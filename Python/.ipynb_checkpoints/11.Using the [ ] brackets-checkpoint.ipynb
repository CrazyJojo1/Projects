{
 "cells": [
  {
   "cell_type": "markdown",
   "id": "c76480dd",
   "metadata": {},
   "source": [
    "Here we will learn how to **read information from list** <br>\n",
    "list(range()) allows you to store data in memory. <br>\n",
    "But today we will study how to retrieve that information. <br>\n",
    "\n",
    "--------\n",
    "Let us start by creating the list\n",
    "1. easiest way of creating list when working with numbers is using range()\n",
    "```python\n",
    "list(range(2)) = [0,1]\n",
    "```\n",
    "2. Another way is to specify list element by yourself\n",
    "```python\n",
    "[\"a\",\"b\",\"c\",\"d\",\"e\"] \n",
    "#you can also use single quotations\n",
    "['a', 'b', 'c', 'd', 'e']\n",
    "#saving this list into an object name\n",
    "w = ['a', 'b', 'c', 'd', 'e']\n",
    "#print w\n",
    "w\n",
    "```\n",
    "3. Now we want to access list element. You wish to access letter 'a', for example.\n",
    "    - here you will see why having object name comes handy when accessing list elements\n",
    "    - And, indexation (enumeration) in python starts from 0. So to access first element of the list, use- object_name$[0]$\n",
    "```python\n",
    "w[0] = 'a'\n",
    "w[1] = 'b'\n",
    "w[2] = 'c' and so on...\n",
    "```\n",
    " 4. How to figure-out how many element are there in the list\n",
    "     - use **len(object name)**\n",
    "     ```python\n",
    "        len(w) = 5, meaning list w contains 5 elements.\n",
    "     ```\n",
    "         - Since list w contains 5 elements and indexation starts from 0, you must never use 5 as the indexation. Indexation for list w will stop at 4.\n",
    "         ```python\n",
    "         w[4] = 'e'\n",
    "         w[5] gives you error message\n",
    "         ```\n",
    " 5. #Indexation is done in two ways\n",
    "#1. positive indexation \n",
    " 0    1     2     3     4 \n",
    "\n",
    "#2. negative indexation \n",
    "\n",
    " -5    -4     -3     -2     -1\n",
    " \n",
    "The very last element is indexed as -1 as there is no such thing as minus zero.\n",
    "\n",
    "using negative indexation\n",
    "\n",
    "```python\n",
    "w[-1] = 'e'  #the very last element\n",
    "w[-5] = 'a'  #the very first element\n",
    "```\n",
    "\n",
    "Note: this negative indexation is different in R language\n",
    "```python\n",
    "#list in python is very similar to vector in R. But vector has to be of same data type whereas, list can contain mixed data type. Anyways, let's create a vector\n",
    "x <- 1 : 10  \n",
    "#print x\n",
    "x = 1  2  3  4  5  6  7  8  9 10\n",
    "#use indexation to access indiviual element of x\n",
    "x[1] = 1 # indexation in R starts from 1 and not from zero (different from python)\n",
    "#using negative indexation\n",
    "x[-1] = 2  3  4  5  6  7  8  9 10 \n",
    "# -1 will exclude first vector element\n",
    "x[c(-1,-3,-8)] = 2  4  5  6  7  9 10 \n",
    "#(-1,-3,-8) is excluding first, third and eight element from the vector x\n",
    "```\n",
    " **Remember: negative indexation concept is different for R and python.**\n",
    " \n",
    " 6. How to overwrite value - how to replace existing values\n",
    "```python\n",
    "w[0] = 63\n",
    "#print w to see if the first value is overwritten\n",
    "w \n",
    "output:\n",
    "    [63, 'b', 'c', 'd', 'e']\n",
    "```\n",
    "    - you can also overwrite value from another list\n",
    "    ```python\n",
    "    #your current list\n",
    "    w =  [63, 'b', 'c', 'd', 'e']\n",
    "    #creating another list, y\n",
    "    y = [1, 2, 3, 4, 5, 6]\n",
    "    #now overwrite fourth element of w by using an first element of y\n",
    "    w[3] = y[0]\n",
    "    #print w to see if fourth element has changed\n",
    "    w = [63, 'b', 'c', 1, 'e']\n",
    "    #it has\n",
    "    ```\n",
    "\n",
    "         "
   ]
  },
  {
   "cell_type": "code",
   "execution_count": 1,
   "id": "097b8fd6",
   "metadata": {},
   "outputs": [
    {
     "data": {
      "text/plain": [
       "['a', 'b', 'c', 'd', 'e']"
      ]
     },
     "execution_count": 1,
     "metadata": {},
     "output_type": "execute_result"
    }
   ],
   "source": [
    "[\"a\",\"b\",\"c\",\"d\",\"e\"]"
   ]
  },
  {
   "cell_type": "code",
   "execution_count": 4,
   "id": "0dc09e56",
   "metadata": {},
   "outputs": [
    {
     "data": {
      "text/plain": [
       "['a', 'b', 'c', 'd', 'e']"
      ]
     },
     "execution_count": 4,
     "metadata": {},
     "output_type": "execute_result"
    }
   ],
   "source": [
    "w= ['a', 'b', 'c', 'd', 'e']\n",
    "w"
   ]
  },
  {
   "cell_type": "code",
   "execution_count": 6,
   "id": "03847aae",
   "metadata": {
    "scrolled": true
   },
   "outputs": [
    {
     "data": {
      "text/plain": [
       "'a'"
      ]
     },
     "execution_count": 6,
     "metadata": {},
     "output_type": "execute_result"
    }
   ],
   "source": [
    "w[0]"
   ]
  },
  {
   "cell_type": "code",
   "execution_count": 7,
   "id": "90a2302e",
   "metadata": {},
   "outputs": [
    {
     "data": {
      "text/plain": [
       "5"
      ]
     },
     "execution_count": 7,
     "metadata": {},
     "output_type": "execute_result"
    }
   ],
   "source": [
    "len(w)"
   ]
  },
  {
   "cell_type": "code",
   "execution_count": 8,
   "id": "9042ab3a",
   "metadata": {
    "collapsed": true
   },
   "outputs": [
    {
     "ename": "IndexError",
     "evalue": "list index out of range",
     "output_type": "error",
     "traceback": [
      "\u001b[0;31m---------------------------------------------------------------------------\u001b[0m",
      "\u001b[0;31mIndexError\u001b[0m                                Traceback (most recent call last)",
      "Input \u001b[0;32mIn [8]\u001b[0m, in \u001b[0;36m<cell line: 1>\u001b[0;34m()\u001b[0m\n\u001b[0;32m----> 1\u001b[0m \u001b[43mw\u001b[49m\u001b[43m[\u001b[49m\u001b[38;5;241;43m5\u001b[39;49m\u001b[43m]\u001b[49m\n",
      "\u001b[0;31mIndexError\u001b[0m: list index out of range"
     ]
    }
   ],
   "source": [
    "w[5]"
   ]
  },
  {
   "cell_type": "code",
   "execution_count": 9,
   "id": "6a8f0ce8",
   "metadata": {},
   "outputs": [
    {
     "data": {
      "text/plain": [
       "'e'"
      ]
     },
     "execution_count": 9,
     "metadata": {},
     "output_type": "execute_result"
    }
   ],
   "source": [
    "#Indexation is done in two ways\n",
    "#1. positive indexation \n",
    "# 0    1     2     3     4 \n",
    "\n",
    "#2. negative indexation \n",
    "# -5    -4     -3     -2     -1\n",
    "#the very last element is indexed as -1 as there is no such thing as minus zero.\n",
    "\n",
    "#using negative indexation\n",
    "w[-1]\n"
   ]
  },
  {
   "cell_type": "code",
   "execution_count": 10,
   "id": "0f00e308",
   "metadata": {},
   "outputs": [
    {
     "data": {
      "text/plain": [
       "'a'"
      ]
     },
     "execution_count": 10,
     "metadata": {},
     "output_type": "execute_result"
    }
   ],
   "source": [
    "w[-5]"
   ]
  },
  {
   "cell_type": "code",
   "execution_count": 12,
   "id": "c272c85c",
   "metadata": {},
   "outputs": [
    {
     "data": {
      "text/plain": [
       "[63, 'b', 'c', 'd', 'e']"
      ]
     },
     "execution_count": 12,
     "metadata": {},
     "output_type": "execute_result"
    }
   ],
   "source": [
    "w[0]= 63\n",
    "w"
   ]
  },
  {
   "cell_type": "code",
   "execution_count": 13,
   "id": "4219ac44",
   "metadata": {},
   "outputs": [
    {
     "ename": "IndexError",
     "evalue": "list assignment index out of range",
     "output_type": "error",
     "traceback": [
      "\u001b[0;31m---------------------------------------------------------------------------\u001b[0m",
      "\u001b[0;31mIndexError\u001b[0m                                Traceback (most recent call last)",
      "Input \u001b[0;32mIn [13]\u001b[0m, in \u001b[0;36m<cell line: 1>\u001b[0;34m()\u001b[0m\n\u001b[0;32m----> 1\u001b[0m w[\u001b[38;5;241m5\u001b[39m] \u001b[38;5;241m=\u001b[39m \u001b[38;5;241m6\u001b[39m\n",
      "\u001b[0;31mIndexError\u001b[0m: list assignment index out of range"
     ]
    }
   ],
   "source": [
    "w[5] = 6"
   ]
  },
  {
   "cell_type": "code",
   "execution_count": 14,
   "id": "9ee66371",
   "metadata": {},
   "outputs": [
    {
     "ename": "IndexError",
     "evalue": "list index out of range",
     "output_type": "error",
     "traceback": [
      "\u001b[0;31m---------------------------------------------------------------------------\u001b[0m",
      "\u001b[0;31mIndexError\u001b[0m                                Traceback (most recent call last)",
      "Input \u001b[0;32mIn [14]\u001b[0m, in \u001b[0;36m<cell line: 1>\u001b[0;34m()\u001b[0m\n\u001b[0;32m----> 1\u001b[0m \u001b[43mw\u001b[49m\u001b[43m[\u001b[49m\u001b[38;5;241;43m-\u001b[39;49m\u001b[38;5;241;43m7\u001b[39;49m\u001b[43m]\u001b[49m\n",
      "\u001b[0;31mIndexError\u001b[0m: list index out of range"
     ]
    }
   ],
   "source": [
    "w[-7]"
   ]
  },
  {
   "cell_type": "code",
   "execution_count": 16,
   "id": "09296b1d",
   "metadata": {},
   "outputs": [
    {
     "data": {
      "text/plain": [
       "[1, 2, 3, 4, 5, 6]"
      ]
     },
     "execution_count": 16,
     "metadata": {},
     "output_type": "execute_result"
    }
   ],
   "source": [
    "y = [1,2,3,4,5,6]\n",
    "y"
   ]
  },
  {
   "cell_type": "code",
   "execution_count": 17,
   "id": "821c96a2",
   "metadata": {
    "scrolled": true
   },
   "outputs": [
    {
     "data": {
      "text/plain": [
       "[63, 'b', 'c', 'd', 'e']"
      ]
     },
     "execution_count": 17,
     "metadata": {},
     "output_type": "execute_result"
    }
   ],
   "source": [
    "w"
   ]
  },
  {
   "cell_type": "code",
   "execution_count": 18,
   "id": "ad694319",
   "metadata": {},
   "outputs": [
    {
     "data": {
      "text/plain": [
       "'d'"
      ]
     },
     "execution_count": 18,
     "metadata": {},
     "output_type": "execute_result"
    }
   ],
   "source": [
    "#write values of y into w\n",
    "w[3]"
   ]
  },
  {
   "cell_type": "code",
   "execution_count": 19,
   "id": "e1855197",
   "metadata": {},
   "outputs": [
    {
     "data": {
      "text/plain": [
       "1"
      ]
     },
     "execution_count": 19,
     "metadata": {},
     "output_type": "execute_result"
    }
   ],
   "source": [
    "y[0]"
   ]
  },
  {
   "cell_type": "code",
   "execution_count": 20,
   "id": "314a3f14",
   "metadata": {},
   "outputs": [],
   "source": [
    "w[3] = y[0]"
   ]
  },
  {
   "cell_type": "code",
   "execution_count": 21,
   "id": "cd975e0c",
   "metadata": {},
   "outputs": [
    {
     "data": {
      "text/plain": [
       "[63, 'b', 'c', 1, 'e']"
      ]
     },
     "execution_count": 21,
     "metadata": {},
     "output_type": "execute_result"
    }
   ],
   "source": [
    "#print w to see if the third value is overwritten\n",
    "w"
   ]
  }
 ],
 "metadata": {
  "kernelspec": {
   "display_name": "Python 3 (ipykernel)",
   "language": "python",
   "name": "python3"
  },
  "language_info": {
   "codemirror_mode": {
    "name": "ipython",
    "version": 3
   },
   "file_extension": ".py",
   "mimetype": "text/x-python",
   "name": "python",
   "nbconvert_exporter": "python",
   "pygments_lexer": "ipython3",
   "version": "3.9.12"
  }
 },
 "nbformat": 4,
 "nbformat_minor": 5
}
