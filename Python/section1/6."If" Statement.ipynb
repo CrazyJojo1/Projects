{
 "cells": [
  {
   "cell_type": "markdown",
   "id": "2358d4cf",
   "metadata": {},
   "source": [
    "# Today we are going to learn about-\n",
    "\n",
    "## 1. If statement \n",
    "## 2. else statement \n",
    "## 3. elif statement (a.k.a. Chained) \n",
    "## 4. nested  \n",
    "\n",
    "Before we start this lesson, a quick question: -  <br>\n",
    ">Why do we use if statements? <br>\n",
    ">>Firstly, it is not used to create loops. <br>\n",
    "secondly, it allows us to isolate a block of code and check if certain conditions are met. <br>\n",
    "Lastly, It is used to check conditions. <br>\n"
   ]
  },
  {
   "cell_type": "markdown",
   "id": "e9472ee3",
   "metadata": {},
   "source": [
    "If Statement"
   ]
  },
  {
   "cell_type": "code",
   "execution_count": 1,
   "id": "1c71907b",
   "metadata": {},
   "outputs": [],
   "source": [
    "#We are going to be generating random variables that are in normal distribution.\n",
    "#We will be checking as to where those random numbers fall.\n",
    "#--- -2 ---- -1 ---- 0 ---- 1 ---- 2 ----\n",
    "#e.g. Whether they fall to the left of zero or to the right of 1\n",
    "# So a bit of stats will be involved."
   ]
  },
  {
   "cell_type": "markdown",
   "id": "1316e95a",
   "metadata": {},
   "source": [
    "For this exercise we will need to \n",
    "```python\n",
    "import numpy as np\n",
    "```\n",
    "numpy /num-pie/ is a package for scientific computation in python. And usually it is imported as \"np\". <br/>\n",
    "np is an alias for numpy (short form or pen-name of numpy) <br/>\n",
    "Note: <br/>\n",
    "Because we installed python through Anaconda, we already have numpy pre-installed. <br/>\n",
    "But if you install python through another way, then you might not have it pre-installed. <br/>\n",
    "In that case, <br/>\n",
    "You would need to install numpy package into your IDE and then you be able to import it.\n",
    "\n",
    "```python\n",
    "import\n",
    "```\n",
    "import is similar to activating existing package using library() function\n",
    "```r\n",
    "library(ggplot2)\n",
    "```\n",
    "After after installing ggplot2 onto your machine and then activating it using library function."
   ]
  },
  {
   "cell_type": "code",
   "execution_count": 4,
   "id": "b240b402",
   "metadata": {},
   "outputs": [],
   "source": [
    "#importing numpy\n",
    "import numpy as np\n",
    "from numpy.random import randn\n",
    "#so numpy is a package use for computation\n",
    "#within numpy there going to be library of functions\n",
    "#one of those is random (that is why we are using numpy.random)\n",
    "#and within that library we are looking for a specific function called \"randn\""
   ]
  },
  {
   "cell_type": "code",
   "execution_count": 14,
   "id": "d8dc4424",
   "metadata": {},
   "outputs": [
    {
     "data": {
      "text/plain": [
       "-1.1795932966627372"
      ]
     },
     "execution_count": 14,
     "metadata": {},
     "output_type": "execute_result"
    }
   ],
   "source": [
    "#randn() function will allow us to generate a random number\n",
    "#And that random number is from a normally distributed number (randn... n may stand for normal)\n",
    "randn()"
   ]
  },
  {
   "cell_type": "markdown",
   "id": "aba9a994",
   "metadata": {},
   "source": [
    "Shift + enter will run the code and will move you to new cell. <br/>\n",
    "command + enter will run the code and you will remain in the same cell.<br/>\n",
    "\n",
    "So if you need to run the same code multiple times than use latter. For instance, you are running randn() multiple times to get different random normally distributed numbers"
   ]
  },
  {
   "cell_type": "code",
   "execution_count": null,
   "id": "4113d0e8",
   "metadata": {},
   "outputs": [],
   "source": [
    "#So we will be using randn() for understanding if, else and else if, and more "
   ]
  },
  {
   "cell_type": "code",
   "execution_count": 30,
   "id": "c7004fc5",
   "metadata": {},
   "outputs": [
    {
     "name": "stdout",
     "output_type": "stream",
     "text": [
      "1.2773763689652986\n",
      "Greater than 1\n"
     ]
    }
   ],
   "source": [
    "#Step 1: create a variable that will store randn() value\n",
    "x = randn()\n",
    "if x > 1:\n",
    "    answer = \"Greater than 1\" #if x>1, then create a variable called answer that contains string of characters\n",
    "\n",
    "print(x)\n",
    "print(answer)#since print() is not part of if indentation, it is not part of if statement"
   ]
  },
  {
   "cell_type": "code",
   "execution_count": 31,
   "id": "c8e9331d",
   "metadata": {},
   "outputs": [],
   "source": [
    "#Since x value is -0.19084, object called answer is not created.\n",
    "#But once answer variable is created, its value doesnot changes. We will need to reset this variable value.\n",
    "#how?\n",
    "#why not initialize this value at the top (answer = None)"
   ]
  },
  {
   "cell_type": "markdown",
   "id": "6a80bdf4",
   "metadata": {},
   "source": [
    "**None** in python is similar to **NULL** in R-language."
   ]
  },
  {
   "cell_type": "code",
   "execution_count": 39,
   "id": "0a24faf8",
   "metadata": {},
   "outputs": [
    {
     "name": "stdout",
     "output_type": "stream",
     "text": [
      "-1.4359641727696473\n",
      "None\n"
     ]
    }
   ],
   "source": [
    "#Step 1: create a variable that will store randn() value\n",
    "x = randn()\n",
    "answer = None\n",
    "if x > 1:\n",
    "    answer = \"Greater than 1\" #if x>1, then create a variable called answer that contains string of characters\n",
    "\n",
    "print(x)\n",
    "print(answer)#since print() is not part of if indentation, it is not part of if statement"
   ]
  },
  {
   "cell_type": "code",
   "execution_count": null,
   "id": "07a2c2a0",
   "metadata": {},
   "outputs": [],
   "source": [
    "#So everytime, we press command + enter, program starts from the top. "
   ]
  },
  {
   "cell_type": "markdown",
   "id": "742c0cef",
   "metadata": {},
   "source": [
    "#### Syntax for If statement-\n",
    "```python\n",
    "if condition:\n",
    "    executable code1\n",
    "    executable code2\n",
    "print(\"Hello\")\n",
    "```\n",
    "Note: print(\"Hello\") is not part of if statement as indentation, in python, decides what is part of code and what is not.\n",
    " "
   ]
  },
  {
   "cell_type": "code",
   "execution_count": 52,
   "id": "b8ede5af",
   "metadata": {},
   "outputs": [
    {
     "name": "stdout",
     "output_type": "stream",
     "text": [
      "-1.144436918483717\n",
      "Less than 1\n"
     ]
    }
   ],
   "source": [
    "#Step 1: create a variable that will store randn() value\n",
    "x = randn()\n",
    "answer = None\n",
    "if x > 1:\n",
    "    answer = \"Greater than 1\" \n",
    "else: \n",
    "    answer = \"Less than 1\"\n",
    "\n",
    "print(x)\n",
    "print(answer)#since print() is not part of if indentation, it is not part of if statement"
   ]
  },
  {
   "cell_type": "markdown",
   "id": "783b9253",
   "metadata": {},
   "source": [
    "#### Syntax for else-if statement\n",
    "```python\n",
    "if condition:\n",
    "    executable code1\n",
    "    executable code2\n",
    "else:\n",
    "    executable code3\n",
    "```\n",
    "This means: <br/>\n",
    "When if statement is True, run its code. But, <br/>\n",
    "When if statement is False, run else code.\n"
   ]
  },
  {
   "cell_type": "code",
   "execution_count": 60,
   "id": "13a4cdc4",
   "metadata": {},
   "outputs": [
    {
     "name": "stdout",
     "output_type": "stream",
     "text": [
      "1.5215333590579843\n",
      "Greater than 1\n"
     ]
    }
   ],
   "source": [
    "x = randn()\n",
    "answer = None\n",
    "if x > 1:\n",
    "    answer = \"Greater than 1\" \n",
    "elif 0 < x < 1 : \n",
    "    answer = \"Less than 1 but greater than 0\"\n",
    "else: \n",
    "    answer = \"Less than 0\"\n",
    "    \n",
    "\n",
    "print(x)\n",
    "print(answer)"
   ]
  },
  {
   "cell_type": "markdown",
   "id": "1326f539",
   "metadata": {},
   "source": [
    "#### Syntax for elif statement: elif statements a.k.a. Chained Statements\n",
    "```python\n",
    "if condition:\n",
    "    executable code1\n",
    "    executable code2\n",
    "elif condition:\n",
    "    executable code3\n",
    "else: \n",
    "    executable code4\n",
    "```\n",
    "This means: <br/>\n",
    "When if statement is True, run its code. But, <br/>\n",
    "When if statement is False and elif(short of else-if) is True, run elif code. <br/>\n",
    "And, <br/>\n",
    "When neither of them is True, run else statement.\n",
    "\n"
   ]
  },
  {
   "cell_type": "code",
   "execution_count": 68,
   "id": "bc1c5703",
   "metadata": {},
   "outputs": [
    {
     "name": "stdout",
     "output_type": "stream",
     "text": [
      "1.2955121673050607\n",
      "Greater than 1\n"
     ]
    }
   ],
   "source": [
    "#Creating elif statement\n",
    "x = randn()\n",
    "answer = None\n",
    "if x > 1:\n",
    "    answer = \"Greater than 1\" \n",
    "elif -1 < x < 1 : \n",
    "    answer = \"Less than 1 but greater than -1\"\n",
    "else: \n",
    "    answer = \"Less than -1\"\n",
    "    \n",
    "\n",
    "print(x)\n",
    "print(answer)"
   ]
  },
  {
   "cell_type": "code",
   "execution_count": 80,
   "id": "841454e3",
   "metadata": {},
   "outputs": [
    {
     "name": "stdout",
     "output_type": "stream",
     "text": [
      "-0.7750923516197843\n",
      " Less than 1 but greater than -1\n"
     ]
    }
   ],
   "source": [
    "#Nesting\n",
    "x= randn()\n",
    "answer = None\n",
    "if x>1:\n",
    "    answer= \"Greater than 1\"\n",
    "else:\n",
    "    if -1 < x < 1:\n",
    "        answer= \" Less than 1 but greater than -1\"\n",
    "    else:\n",
    "        answer = \"Less than -1\"\n",
    "    \n",
    "print(x)\n",
    "print(answer)\n"
   ]
  },
  {
   "cell_type": "markdown",
   "id": "d0938e52",
   "metadata": {},
   "source": [
    "#### syntax for nested statements\n",
    "```python\n",
    "if condition:\n",
    "    executable code1\n",
    "else:\n",
    "    if condition:\n",
    "        executable code2\n",
    "    else condition:\n",
    "        executable code3\n",
    "```\n",
    "Nested statement allows you to nest if and else within else. </br>\n",
    "This is called Nested statements."
   ]
  },
  {
   "cell_type": "markdown",
   "id": "a0202b8a",
   "metadata": {},
   "source": [
    "Nesting is similar to elif statement, but elif statements are preferred compared to nested. </br>\n",
    "Why, you ask? </br>\n",
    "In nested, you need to be extra careful about indentation and also, </br>\n",
    "chained is relatively neater, much easier, faster and easier to read as well."
   ]
  }
 ],
 "metadata": {
  "kernelspec": {
   "display_name": "Python 3 (ipykernel)",
   "language": "python",
   "name": "python3"
  },
  "language_info": {
   "codemirror_mode": {
    "name": "ipython",
    "version": 3
   },
   "file_extension": ".py",
   "mimetype": "text/x-python",
   "name": "python",
   "nbconvert_exporter": "python",
   "pygments_lexer": "ipython3",
   "version": "3.9.12"
  }
 },
 "nbformat": 4,
 "nbformat_minor": 5
}
