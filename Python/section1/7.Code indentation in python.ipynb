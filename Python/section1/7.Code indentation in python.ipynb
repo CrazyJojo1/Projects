{
 "cells": [
  {
   "cell_type": "markdown",
   "id": "f3ded142",
   "metadata": {},
   "source": [
    "**Indentation is very important part of python** </br>\n",
    "Not having proper indentation can change the result of your code."
   ]
  },
  {
   "cell_type": "code",
   "execution_count": 17,
   "id": "ae0ae15a",
   "metadata": {},
   "outputs": [
    {
     "name": "stdout",
     "output_type": "stream",
     "text": [
      "-1.302438308873354\n",
      "less than -1\n"
     ]
    }
   ],
   "source": [
    "#let's take what we covered yesterday...\n",
    "#Chained statement(a.k.a. elif statement)\n",
    "import numpy as np\n",
    "from numpy.random import randn\n",
    "x = randn()\n",
    "answer = None #we are initializing the variable (answer)\n",
    "if x > 1:\n",
    "    answer= \"Greater than 1\"\n",
    "elif -1 < x < 1:\n",
    "    answer= \"Between 1 and -1\"\n",
    "else: \n",
    "    answer= \"less than -1\"\n",
    "print(x)\n",
    "print(answer) #What ever value is stored in variable (answer) will be displayed on the screen"
   ]
  },
  {
   "cell_type": "code",
   "execution_count": 18,
   "id": "7353b088",
   "metadata": {},
   "outputs": [],
   "source": [
    "#This is what we did yesterday\n",
    "#Now, let's study the importance of indentation"
   ]
  },
  {
   "cell_type": "code",
   "execution_count": 22,
   "id": "698d1021",
   "metadata": {},
   "outputs": [
    {
     "name": "stdout",
     "output_type": "stream",
     "text": [
      "-1.7951410951859073\n",
      "less than -1\n"
     ]
    }
   ],
   "source": [
    "import numpy as np\n",
    "from numpy.random import randn\n",
    "x = randn()\n",
    "answer = None #we are initializing the variable (answer)\n",
    "if x > 1:\n",
    "    answer= \"Greater than 1\"\n",
    "elif -1 < x < 1:\n",
    "    answer= \"Between 1 and -1\"\n",
    "else: \n",
    "    answer= \"less than -1\"\n",
    "    print(x)   #I am changing the indentation of print(x), this makes it part of else statement. \n",
    "    \n",
    "print(answer) "
   ]
  },
  {
   "cell_type": "code",
   "execution_count": null,
   "id": "d931a807",
   "metadata": {},
   "outputs": [],
   "source": [
    "#Because print(x) is not part of else statement, \n",
    "#value of x will be printed only when else statement is True."
   ]
  },
  {
   "cell_type": "markdown",
   "id": "ac5bfefc",
   "metadata": {},
   "source": [
    "<u>So indentation could become the reason for errors to creep up into code. </u> </br>\n",
    "Pay attention to indentation to avoid errors."
   ]
  }
 ],
 "metadata": {
  "kernelspec": {
   "display_name": "Python 3 (ipykernel)",
   "language": "python",
   "name": "python3"
  },
  "language_info": {
   "codemirror_mode": {
    "name": "ipython",
    "version": 3
   },
   "file_extension": ".py",
   "mimetype": "text/x-python",
   "name": "python",
   "nbconvert_exporter": "python",
   "pygments_lexer": "ipython3",
   "version": "3.9.12"
  }
 },
 "nbformat": 4,
 "nbformat_minor": 5
}
