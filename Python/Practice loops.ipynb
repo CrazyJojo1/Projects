{
 "cells": [
  {
   "cell_type": "markdown",
   "id": "970b0711",
   "metadata": {},
   "source": [
    "The below is while loop:"
   ]
  },
  {
   "cell_type": "code",
   "execution_count": 1,
   "id": "cf1a0a24",
   "metadata": {},
   "outputs": [
    {
     "name": "stdout",
     "output_type": "stream",
     "text": [
      " Hello 1\n",
      " Hello 2\n",
      " Hello 3\n"
     ]
    }
   ],
   "source": [
    "# inialization \n",
    "x = 0\n",
    "while x<3: \n",
    "    x = x + 1 \n",
    "    print(\" Hello\",x)"
   ]
  },
  {
   "cell_type": "code",
   "execution_count": 2,
   "id": "f1df47fe",
   "metadata": {},
   "outputs": [
    {
     "name": "stdout",
     "output_type": "stream",
     "text": [
      " Hello 0\n",
      " Hello 1\n",
      " Hello 2\n"
     ]
    }
   ],
   "source": [
    "x = 0\n",
    "while x<3: \n",
    "    print(\" Hello\",x)\n",
    "    x = x + 1 "
   ]
  },
  {
   "cell_type": "markdown",
   "id": "57e3c33e",
   "metadata": {},
   "source": [
    "This is while-else loop <br/> If the while condition is not met, then else code will run.  \n",
    "```python\n",
    "while condition:\n",
    "    execute the code\n",
    "else:\n",
    "    execute the code\n",
    "```"
   ]
  },
  {
   "cell_type": "code",
   "execution_count": 4,
   "id": "caddadfe",
   "metadata": {},
   "outputs": [
    {
     "name": "stdout",
     "output_type": "stream",
     "text": [
      " Hello 0.1\n",
      " Hello 0.2\n",
      " Hello 0.3\n",
      "code can no longer run\n"
     ]
    }
   ],
   "source": [
    "x = 0\n",
    "while x<3:\n",
    "    x = x + 1\n",
    "    y = x / 10\n",
    "    print(\" Hello\",y)\n",
    "else: \n",
    "    print(\"code can no longer run\")"
   ]
  },
  {
   "cell_type": "markdown",
   "id": "50a389b0",
   "metadata": {},
   "source": [
    "Now is time to do For loops <br/> \n",
    "```python\n",
    "for i in list:\n",
    "    execute the code\n",
    "```"
   ]
  },
  {
   "cell_type": "code",
   "execution_count": 5,
   "id": "5e534e01",
   "metadata": {},
   "outputs": [
    {
     "name": "stdout",
     "output_type": "stream",
     "text": [
      "Hello 0.1\n",
      "Hello 0.2\n"
     ]
    }
   ],
   "source": [
    "#run the same code you ran for while loop using for loop\n",
    "x = 0 \n",
    "for i in range(0,2):\n",
    "    x = x + 1 \n",
    "    y = x / 10\n",
    "    print(\"Hello\",y)"
   ]
  },
  {
   "cell_type": "code",
   "execution_count": 6,
   "id": "172620d8",
   "metadata": {},
   "outputs": [
    {
     "data": {
      "text/plain": [
       "[0, 1]"
      ]
     },
     "execution_count": 6,
     "metadata": {},
     "output_type": "execute_result"
    }
   ],
   "source": [
    "list( range(0,2))"
   ]
  },
  {
   "cell_type": "code",
   "execution_count": 10,
   "id": "b97e2b7c",
   "metadata": {},
   "outputs": [
    {
     "name": "stdout",
     "output_type": "stream",
     "text": [
      "Hello\n",
      "asshole\n",
      "see you never\n"
     ]
    }
   ],
   "source": [
    "l = [\"Hello\",\"asshole\",\"see you never\"]\n",
    "for i in l: \n",
    "    print(i)"
   ]
  },
  {
   "cell_type": "markdown",
   "id": "16c4d1ba",
   "metadata": {},
   "source": [
    "<b>How can you print the *index* of the list rather than printing list element</b>"
   ]
  },
  {
   "cell_type": "code",
   "execution_count": 11,
   "id": "c106ab60",
   "metadata": {},
   "outputs": [
    {
     "name": "stdout",
     "output_type": "stream",
     "text": [
      "0\n",
      "1\n",
      "2\n"
     ]
    }
   ],
   "source": [
    "l = [\"Hello\",\"asshole\",\"see you never\"]\n",
    "for i in range(len(l)): \n",
    "    print(i)"
   ]
  },
  {
   "cell_type": "code",
   "execution_count": 12,
   "id": "9a9c052e",
   "metadata": {},
   "outputs": [
    {
     "name": "stdout",
     "output_type": "stream",
     "text": [
      "0\n",
      "1\n",
      "2\n",
      "3\n",
      "4\n",
      "5\n",
      "6\n"
     ]
    }
   ],
   "source": [
    "#The counting in python starts from 0. so you get 0 1 2 for list containing three elements\n",
    "y = [5,7,8,11,15,35,76]\n",
    "for i in range(len(y)):\n",
    "    print(i)"
   ]
  },
  {
   "cell_type": "markdown",
   "id": "6396e5c0",
   "metadata": {},
   "source": [
    "Using else  with for loop"
   ]
  },
  {
   "cell_type": "code",
   "execution_count": 14,
   "id": "96eb1fc1",
   "metadata": {},
   "outputs": [
    {
     "name": "stdout",
     "output_type": "stream",
     "text": [
      "0\n",
      "1\n",
      "2\n",
      "3\n",
      "4\n",
      "5\n",
      "6\n",
      "code can no longer run\n"
     ]
    }
   ],
   "source": [
    "y = [5,7,8,11,15,35,76]\n",
    "for i in range(len(y)):\n",
    "    print(i)\n",
    "else: \n",
    "    print(\"code can no longer run\")"
   ]
  },
  {
   "cell_type": "markdown",
   "id": "8e47dcd4",
   "metadata": {},
   "source": [
    "This is going to be revision of everything that we have covered till now. </br>\n",
    "1. Variable types\n",
    "    1. integer (non-decimal numbers)\n",
    "    2. float numbers (decimal or double type)\n",
    "```python\n",
    "x = 2 #here x is an integer </br>\n",
    "x = -4 #again x is an integer </br>\n",
    "x = 2.5 # x is float type </br>\n",
    "#Remember integer consumes less memory than float type.  </br>\n",
    "#Also can work numerals of anytype  </br>\n",
    "x = 5  </br>\n",
    "y = 7.5 </br>\n",
    "z = x*y </br>\n",
    "a = x/y </br>\n",
    "b = x-y </br>\n",
    "c = x + y </br>\n",
    "#you get the idea as to what I meant </br>\n",
    "    3. String (Character types) </br>\n",
    "#you must combine messages containing string type only.  </br>\n",
    "#??  </br>\n",
    "#meaning, when creating messages that contains numerals, converts those numerals into characters by using double quotation first and then use them.  </br>\n",
    "#Unlike R, there isn't implicit coercion in python </br>\n",
    "word1 = \"Sir\"    </br>\n",
    "word2 = \"I got\"  </br>\n",
    "word3 = \"95\"  #using it as character by using double quotations.  </br>\n",
    "word4 = \"out of 100\"  </br>  \n",
    "word5 = \"marks in today's exam\"  </br>\n",
    "message = word1 + \" \" + word2 + \" \" + word3 + \" \" + word4 + \" \" + word5   </br>\n",
    "\n",
    "#note:   </br>\n",
    "\" \" is an empty string with space  </br> \n",
    "    4. Logical variable (Boolean variables) - True and False   </br>\n",
    "#Logical variables are results received from logical conditions  </br>\n",
    "\n",
    "4 > 5 # logical condition   </br>\n",
    "10 != 15   </br>\n",
    "\n",
    "#Understanding logical operators   </br>\n",
    "2. logical operators are as following   </br>\n",
    "    1. <    </br>\n",
    "    2. >     </br>\n",
    "    3. <=    </br>\n",
    "    4. >=     </br>\n",
    "    5. ==    </br>\n",
    "    6. !    </br>\n",
    "    7. and #Both conditions must be True for your result to be True   </br>\n",
    "    8. or #one of the condition has to be True for your result to be True   </br>\n",
    "    9. not  </br>\n",
    "    \n",
    "4 >5 and 6<7 #answer is going to be False  </br>\n",
    "4 >5 or 6<7  #answer is going to be True   </br>\n",
    "not(4 > 5) #this will Change the False statement to True and vice-versa.  </br>\n",
    "\n",
    "#Note:  </br>\n",
    "you can save the result of logical operation in a variable. For instance,  </br>\n",
    "variable_name1 = not(4>5)  </br>\n",
    "variable_name2 = 10 != 15   </br>\n",
    "\n",
    "variable_name1 and variable_name2 #answer is going to be True   </br>\n",
    "\n",
    "#Logical operators and logical operations are fundamental part of loops.  </br>\n",
    "#conditional statements, filtering in R when doing subsetting etc.   </br>\n",
    "```\n",
    "\n",
    "\n"
   ]
  },
  {
   "cell_type": "code",
   "execution_count": 3,
   "id": "2cc5090e",
   "metadata": {},
   "outputs": [
    {
     "name": "stdout",
     "output_type": "stream",
     "text": [
      "37.5\n",
      "0.6666666666666666\n",
      "-2.5\n",
      "12.5\n"
     ]
    }
   ],
   "source": [
    "x = 5  \n",
    "y = 7.5 \n",
    "z = x*y \n",
    "a = x/y \n",
    "b = x-y\n",
    "c = x + y\n",
    "print(z)\n",
    "print(a)\n",
    "print(b)\n",
    "print(c)"
   ]
  },
  {
   "cell_type": "code",
   "execution_count": 5,
   "id": "f5721e34",
   "metadata": {},
   "outputs": [
    {
     "name": "stdout",
     "output_type": "stream",
     "text": [
      "Sir I got 95 out of 100 marks in today's exam\n"
     ]
    }
   ],
   "source": [
    "word1 = \"Sir\"   \n",
    "word2 = \"I got\"  \n",
    "word3 = \"95\"  #using it as character by using double quotations.  </br>\n",
    "word4 = \"out of 100\"   \n",
    "word5 = \"marks in today's exam\" \n",
    "message = word1 + \" \" + word2 + \" \" + word3 + \" \" + word4 + \" \" + word5 \n",
    "print(message)"
   ]
  },
  {
   "cell_type": "code",
   "execution_count": 6,
   "id": "e9114ff9",
   "metadata": {},
   "outputs": [
    {
     "data": {
      "text/plain": [
       "True"
      ]
     },
     "execution_count": 6,
     "metadata": {},
     "output_type": "execute_result"
    }
   ],
   "source": [
    "variable_name1 = not(4>5) \n",
    "variable_name2 = 10 != 15   \n",
    "\n",
    "variable_name1 and variable_name2"
   ]
  },
  {
   "cell_type": "code",
   "execution_count": 7,
   "id": "2e5b5d88",
   "metadata": {},
   "outputs": [
    {
     "data": {
      "text/plain": [
       "5.0"
      ]
     },
     "execution_count": 7,
     "metadata": {},
     "output_type": "execute_result"
    }
   ],
   "source": [
    "import math\n",
    "math.sqrt(25)"
   ]
  },
  {
   "cell_type": "code",
   "execution_count": 10,
   "id": "34cd5fae",
   "metadata": {},
   "outputs": [
    {
     "name": "stdout",
     "output_type": "stream",
     "text": [
      "5\n"
     ]
    }
   ],
   "source": [
    "x = math.sqrt(25)\n",
    "x = round(math.sqrt(25))\n",
    "print(x)"
   ]
  },
  {
   "cell_type": "markdown",
   "id": "bb73bdbd",
   "metadata": {},
   "source": [
    "sqrt function is part of **math package**. </br>\n",
    "So, when using sqrt- use **math.sqrt** </br>\n",
    "synatx : </br>\n",
    "package_name.function_name() </br>\n",
    "e.g. math.sqrt()\n"
   ]
  },
  {
   "cell_type": "markdown",
   "id": "0a72a6ef",
   "metadata": {},
   "source": [
    "**numpy** is a computational package. </br>\n",
    "So, if you need to carry out statistical computation that involves normal distribution, etc. </br>\n",
    "Then, </br>\n",
    "```python \n",
    "import numpy as np\n",
    "from numpy.random import randn\n",
    "#import specific function present within numpy\n",
    "```\n",
    "- randn( ) function is used to get random value from a normal distribution </br>\n",
    "- print( ) , unlike in R, allows you to print string and numeric value. </br>\n",
    "e.g. x = randn() </br>\n",
    "print(\"x value is: \", x) </br>\n",
    "- range( ) allwos you to have range of values </br>\n",
    "range(5) # will give you five values staring from zero (0,1,2,3,4) </br>\n",
    "- use list( ) to print range values </br>\n",
    "list(range(5))  </br>\n",
    "- len() allows you to check the length of a given variable. </br>\n",
    "e.g. l=[1,3,5,6]   </br>\n",
    "len(l)  </br>"
   ]
  },
  {
   "cell_type": "code",
   "execution_count": 13,
   "id": "2a8e5ed5",
   "metadata": {},
   "outputs": [
    {
     "name": "stdout",
     "output_type": "stream",
     "text": [
      "x value is:  -0.7836243067855876\n"
     ]
    }
   ],
   "source": [
    "import numpy as np\n",
    "from numpy.random import randn\n",
    "x = randn()\n",
    "print(\"x value is: \", x)"
   ]
  },
  {
   "cell_type": "code",
   "execution_count": 15,
   "id": "4cb9ed3e",
   "metadata": {},
   "outputs": [
    {
     "data": {
      "text/plain": [
       "[0, 1, 2, 3, 4]"
      ]
     },
     "execution_count": 15,
     "metadata": {},
     "output_type": "execute_result"
    }
   ],
   "source": [
    "range(5)\n",
    "list(range(5))"
   ]
  },
  {
   "cell_type": "code",
   "execution_count": 24,
   "id": "46fa31bc",
   "metadata": {},
   "outputs": [
    {
     "name": "stdout",
     "output_type": "stream",
     "text": [
      "[1, 3, 5, 6]\n",
      "4\n",
      "4\n",
      "4\n",
      "4\n"
     ]
    }
   ],
   "source": [
    "l=[1,3,5,6]\n",
    "print(l)\n",
    "len(l)\n",
    "for i in l:\n",
    "    print(len(l))"
   ]
  },
  {
   "cell_type": "code",
   "execution_count": 25,
   "id": "33b61322",
   "metadata": {},
   "outputs": [
    {
     "data": {
      "text/plain": [
       "4"
      ]
     },
     "execution_count": 25,
     "metadata": {},
     "output_type": "execute_result"
    }
   ],
   "source": [
    "l=[1,3,5,6]\n",
    "len(l)"
   ]
  }
 ],
 "metadata": {
  "kernelspec": {
   "display_name": "Python 3 (ipykernel)",
   "language": "python",
   "name": "python3"
  },
  "language_info": {
   "codemirror_mode": {
    "name": "ipython",
    "version": 3
   },
   "file_extension": ".py",
   "mimetype": "text/x-python",
   "name": "python",
   "nbconvert_exporter": "python",
   "pygments_lexer": "ipython3",
   "version": "3.9.12"
  }
 },
 "nbformat": 4,
 "nbformat_minor": 5
}
